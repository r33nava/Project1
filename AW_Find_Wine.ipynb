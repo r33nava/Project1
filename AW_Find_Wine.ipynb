{
 "cells": [
  {
   "cell_type": "code",
   "execution_count": null,
   "metadata": {},
   "outputs": [],
   "source": [
    "#!pip install gmaps\n"
   ]
  },
  {
   "cell_type": "code",
   "execution_count": 1,
   "metadata": {},
   "outputs": [],
   "source": [
    "import pandas as pd\n",
    "import gmaps\n",
    "import random as random\n",
    "import numpy as np\n",
    "\n",
    "# Google developer API key\n",
    "import sys\n",
    "sys.path.append('../..')\n",
    "from config import gkey"
   ]
  },
  {
   "cell_type": "code",
   "execution_count": 2,
   "metadata": {},
   "outputs": [],
   "source": [
    "#importing the edited CSV \n",
    "\n",
    "csv_file = pd.read_csv('winedata_coord_type.csv')"
   ]
  },
  {
   "cell_type": "code",
   "execution_count": 3,
   "metadata": {},
   "outputs": [],
   "source": [
    "#Removing \"Unnamed:0\" column\n",
    "\n",
    "df = csv_file.drop(columns=[\"Unnamed: 0\", \"Unnamed: 0.1\"])"
   ]
  },
  {
   "cell_type": "code",
   "execution_count": 4,
   "metadata": {},
   "outputs": [],
   "source": [
    "#Dropping a decimal from \"Price\" column and re-naming the column\n",
    "\n",
    "price = [int(x) for x in df[\"Price\"]]\n",
    "df[\"Price\"] = price"
   ]
  },
  {
   "cell_type": "code",
   "execution_count": 5,
   "metadata": {},
   "outputs": [],
   "source": [
    "def find_title(dataframe, row):\n",
    "    return (dataframe.loc[row,: \"Title\"])[\"Title\"]"
   ]
  },
  {
   "cell_type": "code",
   "execution_count": 6,
   "metadata": {},
   "outputs": [
    {
     "data": {
      "text/plain": [
       "'Carl Graff 2014 Graacher Himmelreich Spätlese Riesling (Mosel)'"
      ]
     },
     "execution_count": 6,
     "metadata": {},
     "output_type": "execute_result"
    }
   ],
   "source": [
    "find_title(df, 1)"
   ]
  },
  {
   "cell_type": "code",
   "execution_count": 7,
   "metadata": {},
   "outputs": [],
   "source": [
    "#This contains all the functions we need.\n",
    "\n",
    "import numpy as np\n",
    "\n",
    "def find_title(dataframe, row):\n",
    "    return (dataframe.loc[row,: \"Title\"])[\"Title\"]\n",
    "\n",
    "def find_year(dataframe, row):\n",
    "    return (dataframe.loc[row,: \"Year\"])[\"Year\"]\n",
    "\n",
    "def find_country(dataframe, row):\n",
    "    return (dataframe.loc[row,: \"Country\"])[\"Country\"]\n",
    "\n",
    "def find_description(dataframe, row):\n",
    "    return (dataframe.loc[row,: \"Description\"])[\"Description\"]\n",
    "\n",
    "def find_price(dataframe, row):\n",
    "    return (dataframe.loc[row,: \"Price\"])[\"Price\"]\n",
    "\n",
    "def print_wine_info(dataframe, row):\n",
    "    print(f'     \"{find_title(dataframe, row)}\".')\n",
    "    print(f'     The wine is from {find_country(dataframe, row)}, made in {find_year(dataframe, row)}, and may cost you ${find_price(dataframe, row)}.')\n",
    "    print(f'     A reviewer says \"{find_description(dataframe, row)}\".')\n",
    "\n",
    "def print_remaining_wine(dataframe):\n",
    "    print(f'We can help you find a wine from {len(dataframe[\"Title\"])} wine-reviews from {len((dataframe[\"Country\"]).unique())} countries.')\n",
    "    print(f'These wine are from {min(dataframe[\"Year\"])} to {max(dataframe[\"Year\"])} with a price range of ${min(dataframe[\"Price\"])} to ${max(dataframe[\"Price\"])}.')\n",
    "    \n",
    "def pick_a_wine(dataframe):\n",
    "    return random.randrange(len(dataframe[\"Title\"]))\n",
    "\n",
    "def max_score(dataframe):\n",
    "    return max(dataframe[\"Grade\"])\n",
    "\n",
    "def median_score(dataframe):\n",
    "    return np.median(dataframe[\"Grade\"])\n",
    "            \n",
    "        #random_wine_generator = []\n",
    " \n",
    "    #for i in range(3):\n",
    "        #rnum = randrange(len(df[\"Title\"])-1)\n",
    "        #random_wine_generator.append(rnum)\n",
    "    \n",
    "    #first_random_wine = random_wine_generator[0]"
   ]
  },
  {
   "cell_type": "code",
   "execution_count": 8,
   "metadata": {},
   "outputs": [
    {
     "data": {
      "text/plain": [
       "88.0"
      ]
     },
     "execution_count": 8,
     "metadata": {},
     "output_type": "execute_result"
    }
   ],
   "source": [
    "median_score(df)"
   ]
  },
  {
   "cell_type": "code",
   "execution_count": 9,
   "metadata": {},
   "outputs": [
    {
     "data": {
      "text/plain": [
       "6776"
      ]
     },
     "execution_count": 9,
     "metadata": {},
     "output_type": "execute_result"
    }
   ],
   "source": [
    "pick_a_wine(df)"
   ]
  },
  {
   "cell_type": "code",
   "execution_count": 10,
   "metadata": {},
   "outputs": [
    {
     "data": {
      "text/plain": [
       "'Richard Böcking 2013 Devon Riesling (Mosel)'"
      ]
     },
     "execution_count": 10,
     "metadata": {},
     "output_type": "execute_result"
    }
   ],
   "source": [
    "find_title(df, 0)"
   ]
  },
  {
   "cell_type": "code",
   "execution_count": 11,
   "metadata": {},
   "outputs": [
    {
     "name": "stdout",
     "output_type": "stream",
     "text": [
      "     \"In Situ 2013 Reserva Estate Bottled Sauvignon Blanc (Aconcagua Valley)\".\n",
      "     The wine is from Chile, made in 2013, and may cost you $13.\n",
      "     A reviewer says \"This shows a mild SB character on the nose. It's citric on the palate, with lime, lemon and tangerine flavors. Just enough crispness and scour make it a worthwhile quaffer.\".\n"
     ]
    }
   ],
   "source": [
    "print_wine_info(df, pick_a_wine(df))"
   ]
  },
  {
   "cell_type": "code",
   "execution_count": 12,
   "metadata": {},
   "outputs": [
    {
     "data": {
      "text/plain": [
       "11233"
      ]
     },
     "execution_count": 12,
     "metadata": {},
     "output_type": "execute_result"
    }
   ],
   "source": [
    "pick_a_wine(df)"
   ]
  },
  {
   "cell_type": "code",
   "execution_count": 13,
   "metadata": {},
   "outputs": [
    {
     "data": {
      "text/plain": [
       "100"
      ]
     },
     "execution_count": 13,
     "metadata": {},
     "output_type": "execute_result"
    }
   ],
   "source": [
    "max_score(df)"
   ]
  },
  {
   "cell_type": "code",
   "execution_count": 14,
   "metadata": {},
   "outputs": [
    {
     "name": "stdout",
     "output_type": "stream",
     "text": [
      "We can help you find a wine from 21934 wine-reviews from 11 countries.\n",
      "These wine are from 2004 to 2016 with a price range of $5 to $1100.\n"
     ]
    }
   ],
   "source": [
    "print_remaining_wine(df)"
   ]
  },
  {
   "cell_type": "code",
   "execution_count": 15,
   "metadata": {},
   "outputs": [
    {
     "name": "stdout",
     "output_type": "stream",
     "text": [
      "----------------------------\n",
      "Welcome to our Wine-Database.\n",
      "We can help you find a wine from 21934 wine-reviews from 11 countries.\n",
      "These wines are from 2004 to 2016 with a price range of $5 to $1100.\n",
      "We can either tailor a wine to your liking, or randomly generate a list of highly rated wines.\n"
     ]
    }
   ],
   "source": [
    "#introducing our program\n",
    "\n",
    "print(f'----------------------------')\n",
    "print(f'Welcome to our Wine-Database.')\n",
    "print(f'We can help you find a wine from {len(df[\"Title\"])} wine-reviews from {len((df[\"Country\"]).unique())} countries.')\n",
    "print(f'These wines are from {min(df[\"Year\"])} to {max(df[\"Year\"])} with a price range of ${min(df[\"Price\"])} to ${max(df[\"Price\"])}.')\n",
    "print(f'We can either tailor a wine to your liking, or randomly generate a list of highly rated wines.')\n",
    "\n"
   ]
  },
  {
   "cell_type": "code",
   "execution_count": 16,
   "metadata": {},
   "outputs": [
    {
     "name": "stdout",
     "output_type": "stream",
     "text": [
      "The maximum price is 20.\n"
     ]
    }
   ],
   "source": [
    "#checking loc function to elimiate rows\n",
    "\n",
    "test_df = df.loc[df[\"Price\"] < 20 + 0.1]\n",
    "print(f'The maximum price is {max(test_df[\"Price\"])}.')"
   ]
  },
  {
   "cell_type": "code",
   "execution_count": 17,
   "metadata": {},
   "outputs": [],
   "source": [
    "list_of_countires = df[\"Country\"].unique()"
   ]
  },
  {
   "cell_type": "code",
   "execution_count": 18,
   "metadata": {},
   "outputs": [
    {
     "name": "stdout",
     "output_type": "stream",
     "text": [
      "It exists\n"
     ]
    }
   ],
   "source": [
    "if \"US\" in list_of_countires:\n",
    "    print(\"It exists\")"
   ]
  },
  {
   "cell_type": "code",
   "execution_count": 26,
   "metadata": {},
   "outputs": [
    {
     "name": "stdout",
     "output_type": "stream",
     "text": [
      "['red', 'white', 'sparkling', 'blush', 'other']\n",
      "yes\n"
     ]
    },
    {
     "data": {
      "text/html": [
       "<div>\n",
       "<style scoped>\n",
       "    .dataframe tbody tr th:only-of-type {\n",
       "        vertical-align: middle;\n",
       "    }\n",
       "\n",
       "    .dataframe tbody tr th {\n",
       "        vertical-align: top;\n",
       "    }\n",
       "\n",
       "    .dataframe thead th {\n",
       "        text-align: right;\n",
       "    }\n",
       "</style>\n",
       "<table border=\"1\" class=\"dataframe\">\n",
       "  <thead>\n",
       "    <tr style=\"text-align: right;\">\n",
       "      <th></th>\n",
       "      <th>Title</th>\n",
       "      <th>Variety</th>\n",
       "      <th>Year</th>\n",
       "      <th>Price</th>\n",
       "      <th>Grade</th>\n",
       "      <th>Winery</th>\n",
       "      <th>Province</th>\n",
       "      <th>Region</th>\n",
       "      <th>Country</th>\n",
       "      <th>Taster</th>\n",
       "      <th>Taster_Twitter</th>\n",
       "      <th>Description</th>\n",
       "      <th>Latitude</th>\n",
       "      <th>Longitude</th>\n",
       "      <th>County</th>\n",
       "      <th>Type</th>\n",
       "    </tr>\n",
       "  </thead>\n",
       "  <tbody>\n",
       "    <tr>\n",
       "      <th>0</th>\n",
       "      <td>Richard Böcking 2013 Devon Riesling (Mosel)</td>\n",
       "      <td>Riesling</td>\n",
       "      <td>2013</td>\n",
       "      <td>24</td>\n",
       "      <td>87</td>\n",
       "      <td>Richard Böcking</td>\n",
       "      <td>Mosel</td>\n",
       "      <td>NaN</td>\n",
       "      <td>Germany</td>\n",
       "      <td>Anna Lee C. Iijima</td>\n",
       "      <td>NaN</td>\n",
       "      <td>Zesty orange peels and apple notes abound in t...</td>\n",
       "      <td>43.80555</td>\n",
       "      <td>-87.740364</td>\n",
       "      <td>Mosel</td>\n",
       "      <td>White</td>\n",
       "    </tr>\n",
       "    <tr>\n",
       "      <th>1</th>\n",
       "      <td>Carl Graff 2014 Graacher Himmelreich Spätlese ...</td>\n",
       "      <td>Riesling</td>\n",
       "      <td>2014</td>\n",
       "      <td>14</td>\n",
       "      <td>91</td>\n",
       "      <td>Carl Graff</td>\n",
       "      <td>Mosel</td>\n",
       "      <td>NaN</td>\n",
       "      <td>Germany</td>\n",
       "      <td>Anna Lee C. Iijima</td>\n",
       "      <td>NaN</td>\n",
       "      <td>Approachably fruity yet nuanced and electrifyi...</td>\n",
       "      <td>43.80555</td>\n",
       "      <td>-87.740364</td>\n",
       "      <td>Mosel</td>\n",
       "      <td>White</td>\n",
       "    </tr>\n",
       "    <tr>\n",
       "      <th>2</th>\n",
       "      <td>Fritz Haag 2014 Brauneberger Feinherb Riesling...</td>\n",
       "      <td>Riesling</td>\n",
       "      <td>2014</td>\n",
       "      <td>30</td>\n",
       "      <td>91</td>\n",
       "      <td>Fritz Haag</td>\n",
       "      <td>Mosel</td>\n",
       "      <td>NaN</td>\n",
       "      <td>Germany</td>\n",
       "      <td>Anna Lee C. Iijima</td>\n",
       "      <td>NaN</td>\n",
       "      <td>Fresh and fragrant of blossoms, tart yellow pe...</td>\n",
       "      <td>43.80555</td>\n",
       "      <td>-87.740364</td>\n",
       "      <td>Mosel</td>\n",
       "      <td>White</td>\n",
       "    </tr>\n",
       "    <tr>\n",
       "      <th>3</th>\n",
       "      <td>Fritz Haag 2014 Riesling (Mosel)</td>\n",
       "      <td>Riesling</td>\n",
       "      <td>2014</td>\n",
       "      <td>22</td>\n",
       "      <td>91</td>\n",
       "      <td>Fritz Haag</td>\n",
       "      <td>Mosel</td>\n",
       "      <td>NaN</td>\n",
       "      <td>Germany</td>\n",
       "      <td>Anna Lee C. Iijima</td>\n",
       "      <td>NaN</td>\n",
       "      <td>Just a touch of honey-lemon sweetness is enoug...</td>\n",
       "      <td>43.80555</td>\n",
       "      <td>-87.740364</td>\n",
       "      <td>Mosel</td>\n",
       "      <td>White</td>\n",
       "    </tr>\n",
       "    <tr>\n",
       "      <th>4</th>\n",
       "      <td>Dr. Loosen 2011 Ürziger Würzgarten Alte Reben ...</td>\n",
       "      <td>Riesling</td>\n",
       "      <td>2011</td>\n",
       "      <td>42</td>\n",
       "      <td>92</td>\n",
       "      <td>Dr. Loosen</td>\n",
       "      <td>Mosel</td>\n",
       "      <td>NaN</td>\n",
       "      <td>Germany</td>\n",
       "      <td>Anna Lee C. Iijima</td>\n",
       "      <td>NaN</td>\n",
       "      <td>The nose of this powerfully fruity yet dry Rie...</td>\n",
       "      <td>43.80555</td>\n",
       "      <td>-87.740364</td>\n",
       "      <td>Mosel</td>\n",
       "      <td>White</td>\n",
       "    </tr>\n",
       "  </tbody>\n",
       "</table>\n",
       "</div>"
      ],
      "text/plain": [
       "                                               Title   Variety  Year  Price  \\\n",
       "0        Richard Böcking 2013 Devon Riesling (Mosel)  Riesling  2013     24   \n",
       "1  Carl Graff 2014 Graacher Himmelreich Spätlese ...  Riesling  2014     14   \n",
       "2  Fritz Haag 2014 Brauneberger Feinherb Riesling...  Riesling  2014     30   \n",
       "3                   Fritz Haag 2014 Riesling (Mosel)  Riesling  2014     22   \n",
       "4  Dr. Loosen 2011 Ürziger Würzgarten Alte Reben ...  Riesling  2011     42   \n",
       "\n",
       "   Grade           Winery Province Region  Country              Taster  \\\n",
       "0     87  Richard Böcking    Mosel    NaN  Germany  Anna Lee C. Iijima   \n",
       "1     91       Carl Graff    Mosel    NaN  Germany  Anna Lee C. Iijima   \n",
       "2     91       Fritz Haag    Mosel    NaN  Germany  Anna Lee C. Iijima   \n",
       "3     91       Fritz Haag    Mosel    NaN  Germany  Anna Lee C. Iijima   \n",
       "4     92       Dr. Loosen    Mosel    NaN  Germany  Anna Lee C. Iijima   \n",
       "\n",
       "  Taster_Twitter                                        Description  Latitude  \\\n",
       "0            NaN  Zesty orange peels and apple notes abound in t...  43.80555   \n",
       "1            NaN  Approachably fruity yet nuanced and electrifyi...  43.80555   \n",
       "2            NaN  Fresh and fragrant of blossoms, tart yellow pe...  43.80555   \n",
       "3            NaN  Just a touch of honey-lemon sweetness is enoug...  43.80555   \n",
       "4            NaN  The nose of this powerfully fruity yet dry Rie...  43.80555   \n",
       "\n",
       "   Longitude County   Type  \n",
       "0 -87.740364  Mosel  White  \n",
       "1 -87.740364  Mosel  White  \n",
       "2 -87.740364  Mosel  White  \n",
       "3 -87.740364  Mosel  White  \n",
       "4 -87.740364  Mosel  White  "
      ]
     },
     "execution_count": 26,
     "metadata": {},
     "output_type": "execute_result"
    }
   ],
   "source": [
    "options = [\"red\",\"white\",\"sparkling\",\"blush\",\"other\"]\n",
    "print(options)\n",
    "if \"red\" in options:\n",
    "    print(\"yes\")\n",
    "df.head()"
   ]
  },
  {
   "cell_type": "code",
   "execution_count": 34,
   "metadata": {},
   "outputs": [
    {
     "ename": "IndentationError",
     "evalue": "expected an indented block (<ipython-input-34-9477ac5fe5dc>, line 74)",
     "output_type": "error",
     "traceback": [
      "\u001b[1;36m  File \u001b[1;32m\"<ipython-input-34-9477ac5fe5dc>\"\u001b[1;36m, line \u001b[1;32m74\u001b[0m\n\u001b[1;33m    second_new_df = new_df.loc[new_df[\"Country\"] == fourth_answer]\u001b[0m\n\u001b[1;37m                ^\u001b[0m\n\u001b[1;31mIndentationError\u001b[0m\u001b[1;31m:\u001b[0m expected an indented block\n"
     ]
    }
   ],
   "source": [
    "#Pulling the random list of wines\n",
    "import random\n",
    "\n",
    "options = [\"red\",\"white\",\"sparkling\",\"blush\",\"other\"]\n",
    "\n",
    "first_answer = input(\"Type 'Yes' if you want us to help you find a wine, 'No' if you just want to see a random list of recommended wines: \")\n",
    "\n",
    "if first_answer.lower() ==\"yes\":\n",
    "    #print(\"It works!\")\n",
    "    second_answer = input(\"What is your price limit?” Either type the dollar amount, or type skip if you have too much money: \")\n",
    "    \n",
    "    if second_answer.isdigit() == True:\n",
    "        #print(\"Thank God it's all numbers!\")\n",
    "        #print(type(second_answer))\n",
    "        new_df = df.loc[df[\"Price\"] < int(second_answer) + 0.1]\n",
    "        print_remaining_wine(new_df)\n",
    "        print(\"\")\n",
    "        print(options)\n",
    "        third_answer = input(\"What type of wine do you prefer? Please select from the options listed above, or type 'skip': \" )          \n",
    "        \n",
    "        if third_answer.lower() in options:\n",
    "            new_new_df = new_df.loc[new_df[\"Type\"] == third_answer]\n",
    "            print_remaining_wine(new_new_df)\n",
    "            print(\"\") \n",
    "            print(new_new_df[\"Country\"].unique())\n",
    "            fourth_answer = input(\"What country's wine do you prefer? If you have no preference, type 'skip': \" )            \n",
    "            \n",
    "            if fourth_answer in new_new_df[\"Country\"].unique():\n",
    "                second_new_df = new_new_df.loc[new_new_df[\"Country\"] == fourth_answer]\n",
    "                print_remaining_wine(second_new_df)\n",
    "\n",
    "                #third_new_df = second_new_df.loc[second_new_df[\"Grade\"] == max_score(second_new_df)]\n",
    "                third_new_df = second_new_df.loc[second_new_df[\"Grade\"] > median_score(second_new_df)]\n",
    "                third_new_df = third_new_df.reset_index(drop=True)\n",
    "                #print(max_score(third_new_df))\n",
    "                #print_remaining_wine(third_new_df)\n",
    "                choice_wine = pick_a_wine(third_new_df)\n",
    "                print_wine_info(third_new_df, choice_wine)\n",
    "                print(choice_wine)\n",
    "\n",
    "\n",
    "\n",
    "                # Configure gmaps with API key\n",
    "                gmaps.configure(api_key=gkey)\n",
    "\n",
    "\n",
    "                # Store 'Lat' and 'Lng' into  locations\n",
    "                lat = (third_new_df.loc[choice_wine,: \"Latitude\"])[\"Latitude\"]\n",
    "                long = (third_new_df.loc[choice_wine,: \"Longitude\"])[\"Longitude\"]              \n",
    "                #print(lat)\n",
    "                #print(long)\n",
    "                location = [(lat, long)]\n",
    "                #print(location)\n",
    "\n",
    "                # winery_layer = gmaps.marker_layer(location)\n",
    "\n",
    "\n",
    "            elif third_answer.lower() == \"skip\":\n",
    "                new_new_df = new_df\n",
    "                print_remaining_wine(new_new_df)\n",
    "\n",
    "        \n",
    "            elif fourth_answer.lower() == \"skip\":\n",
    "                second_new_df = new_df\n",
    "                print_remaining_wine(second_new_df)\n",
    "        #else:\n",
    "            #print(\"The country does not exist.\")\n",
    "        \n",
    "            elif fourth_answer not in new_df[\"Country\"].unique():\n",
    "                wrong_answer = input(\"Please pick the country in the list, or type 'skip': \")\n",
    "                fourth_answer = wrong_answer\n",
    "                \n",
    "                if fourth_answer in new_df[\"Country\"].unique():\n",
    "                second_new_df = new_df.loc[new_df[\"Country\"] == fourth_answer]\n",
    "                print_remaining_wine(second_new_df)\n",
    "                \n",
    "                \n",
    "                elif fourth_answer.lower() == \"skip\":\n",
    "                second_new_df = new_df\n",
    "                print_remaining_wine(second_new_df)\n",
    "        \n",
    "    elif second_answer.lower() == \"skip\":\n",
    "        #print(\"It works!\")\n",
    "        new_df = df\n",
    "        print_remaining_wine(new_df)\n",
    "\n",
    "    elif second_answer.isdigit() == False:\n",
    "        wrong_answer = input(\"Please only type numbers: \")\n",
    "        second_answer = wrong_answer\n",
    "        if second_answer.isdigit() == True:\n",
    "            #print(\"Thank God it's all numbers!\")\n",
    "            #print(type(second_answer))\n",
    "            new_df = df.loc[df[\"Price\"] < int(second_answer) + 0.1]\n",
    "            print_remaining_wine(new_df)\n",
    "    \n",
    "    \n",
    "if first_answer.lower() == \"no\":\n",
    "    random_wine_generator = []\n",
    " \n",
    "    for i in range(3):\n",
    "        rnum = randrange(len(df[\"Title\"])-1)\n",
    "        random_wine_generator.append(rnum)\n",
    "    \n",
    "    first_random_wine = random_wine_generator[0]\n",
    "    second_random_wine = random_wine_generator[1]\n",
    "    third_random_wine = random_wine_generator[2]\n",
    "        \n",
    "    print(\"----------------------\")\n",
    "    print_wine_info(df, first_random_wine)\n",
    "    print(\"\")\n",
    "    print_wine_info(df, second_random_wine)\n",
    "    print(\"\")\n",
    "    print_wine_info(df, third_random_wine)\n",
    "    print(\"----------------------\")\n",
    "    \n",
    "    "
   ]
  },
  {
   "cell_type": "code",
   "execution_count": null,
   "metadata": {},
   "outputs": [],
   "source": [
    "fig = gmaps.figure()\n",
    "print(location) \n",
    "marker_layer = gmaps.marker_layer(location)\n",
    "fig.add_layer(marker_layer)\n",
    "fig\n"
   ]
  },
  {
   "cell_type": "code",
   "execution_count": null,
   "metadata": {},
   "outputs": [],
   "source": [
    "fig = gmaps.figure()\n",
    "marker_layer = gmaps.marker_layer([(47.7510741000, -120.7401385)])\n",
    "fig.add_layer(marker_layer)\n",
    "fig"
   ]
  },
  {
   "cell_type": "code",
   "execution_count": null,
   "metadata": {},
   "outputs": [],
   "source": [
    "\n",
    "third_new_df = third_new_df.reset_index(drop=True)\n",
    "\n",
    "third_new_df"
   ]
  },
  {
   "cell_type": "code",
   "execution_count": null,
   "metadata": {},
   "outputs": [],
   "source": [
    "from random import *\n",
    "\n",
    "test = []\n",
    " \n",
    "for i in range(3):\n",
    "    rnum = randrange(len(df[\"Title\"])-1)\n",
    "    test.append(rnum)\n",
    "    \n",
    "print(test)\n",
    "\n",
    "test[0]"
   ]
  },
  {
   "cell_type": "code",
   "execution_count": null,
   "metadata": {},
   "outputs": [],
   "source": [
    "print(randrange(100))"
   ]
  },
  {
   "cell_type": "code",
   "execution_count": null,
   "metadata": {},
   "outputs": [],
   "source": [
    "len(df[\"Title\"])"
   ]
  },
  {
   "cell_type": "code",
   "execution_count": null,
   "metadata": {},
   "outputs": [],
   "source": [
    "test2 = df.loc[0,: 'Title']\n",
    "\n",
    "print(test2)"
   ]
  },
  {
   "cell_type": "code",
   "execution_count": null,
   "metadata": {},
   "outputs": [],
   "source": [
    "print(test2[\"Title\"])"
   ]
  },
  {
   "cell_type": "code",
   "execution_count": null,
   "metadata": {},
   "outputs": [],
   "source": [
    "for index, row in df.iterrows():\n",
    "    if index == 101724:\n",
    "        print((df.loc[index,: \"Title\"])[\"Title\"])"
   ]
  },
  {
   "cell_type": "code",
   "execution_count": null,
   "metadata": {},
   "outputs": [],
   "source": [
    "#skip = Skipping the criteria\n",
    "#random = Skipping the random\n",
    "#Yes = Starting the program"
   ]
  },
  {
   "cell_type": "code",
   "execution_count": null,
   "metadata": {},
   "outputs": [],
   "source": [
    "list_of_prices = df[\"Price\"]"
   ]
  },
  {
   "cell_type": "code",
   "execution_count": null,
   "metadata": {},
   "outputs": [],
   "source": [
    "type(list_of_prices[0])"
   ]
  },
  {
   "cell_type": "code",
   "execution_count": null,
   "metadata": {},
   "outputs": [],
   "source": [
    "list_of_years = df[\"Year\"]\n",
    "type(list_of_years[0])"
   ]
  },
  {
   "cell_type": "code",
   "execution_count": null,
   "metadata": {},
   "outputs": [],
   "source": []
  }
 ],
 "metadata": {
  "kernelspec": {
   "display_name": "Python 3",
   "language": "python",
   "name": "python3"
  },
  "language_info": {
   "codemirror_mode": {
    "name": "ipython",
    "version": 3
   },
   "file_extension": ".py",
   "mimetype": "text/x-python",
   "name": "python",
   "nbconvert_exporter": "python",
   "pygments_lexer": "ipython3",
   "version": "3.7.0"
  }
 },
 "nbformat": 4,
 "nbformat_minor": 2
}
