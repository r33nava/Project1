{
 "cells": [
  {
   "cell_type": "markdown",
   "metadata": {},
   "source": [
    "## DANIEL, Codes for parsing out the YEAR from a string. \n"
   ]
  },
  {
   "cell_type": "code",
   "execution_count": 28,
   "metadata": {},
   "outputs": [
    {
     "data": {
      "text/plain": [
       "[2013, 2011, 2013, 2013]"
      ]
     },
     "execution_count": 28,
     "metadata": {},
     "output_type": "execute_result"
    }
   ],
   "source": [
    "list = []\n",
    "test = [\"Nicosia 2013 Vulk√† Bianco  (Etna)\", \"Quinta dos Avidagos 2011 Avidagos Red (Douro)\", \n",
    "        \"Rainstorm 2013 Pinot Gris (Willamette Valley)\", \n",
    "        \"St. Julian 2013 Reserve Late Harvest Riesling (Lake Michigan Shore)\"]\n",
    "\n",
    "for string in test:\n",
    "    for s in string.split():\n",
    "        if s.isdigit():\n",
    "            list.append(int(s))\n",
    "        \n",
    "list"
   ]
  }
 ],
 "metadata": {
  "anaconda-cloud": {},
  "kernelspec": {
   "display_name": "Python 3",
   "language": "python",
   "name": "python3"
  },
  "language_info": {
   "codemirror_mode": {
    "name": "ipython",
    "version": 3
   },
   "file_extension": ".py",
   "mimetype": "text/x-python",
   "name": "python",
   "nbconvert_exporter": "python",
   "pygments_lexer": "ipython3",
   "version": "3.7.0"
  }
 },
 "nbformat": 4,
 "nbformat_minor": 2
}
