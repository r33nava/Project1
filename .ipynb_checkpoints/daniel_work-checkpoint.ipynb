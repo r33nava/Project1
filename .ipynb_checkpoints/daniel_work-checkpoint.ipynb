{
 "cells": [
  {
   "cell_type": "code",
   "execution_count": 116,
   "metadata": {},
   "outputs": [
    {
     "data": {
      "text/html": [
       "<div>\n",
       "<style scoped>\n",
       "    .dataframe tbody tr th:only-of-type {\n",
       "        vertical-align: middle;\n",
       "    }\n",
       "\n",
       "    .dataframe tbody tr th {\n",
       "        vertical-align: top;\n",
       "    }\n",
       "\n",
       "    .dataframe thead th {\n",
       "        text-align: right;\n",
       "    }\n",
       "</style>\n",
       "<table border=\"1\" class=\"dataframe\">\n",
       "  <thead>\n",
       "    <tr style=\"text-align: right;\">\n",
       "      <th></th>\n",
       "      <th>Unnamed: 0</th>\n",
       "      <th>country</th>\n",
       "      <th>description</th>\n",
       "      <th>designation</th>\n",
       "      <th>points</th>\n",
       "      <th>price</th>\n",
       "      <th>province</th>\n",
       "      <th>region_1</th>\n",
       "      <th>region_2</th>\n",
       "      <th>taster_name</th>\n",
       "      <th>taster_twitter_handle</th>\n",
       "      <th>title</th>\n",
       "      <th>variety</th>\n",
       "      <th>winery</th>\n",
       "    </tr>\n",
       "  </thead>\n",
       "  <tbody>\n",
       "    <tr>\n",
       "      <th>0</th>\n",
       "      <td>0</td>\n",
       "      <td>Italy</td>\n",
       "      <td>Aromas include tropical fruit, broom, brimston...</td>\n",
       "      <td>Vulkà Bianco</td>\n",
       "      <td>87</td>\n",
       "      <td>NaN</td>\n",
       "      <td>Sicily &amp; Sardinia</td>\n",
       "      <td>Etna</td>\n",
       "      <td>NaN</td>\n",
       "      <td>Kerin O’Keefe</td>\n",
       "      <td>@kerinokeefe</td>\n",
       "      <td>Nicosia 2013 Vulkà Bianco  (Etna)</td>\n",
       "      <td>White Blend</td>\n",
       "      <td>Nicosia</td>\n",
       "    </tr>\n",
       "  </tbody>\n",
       "</table>\n",
       "</div>"
      ],
      "text/plain": [
       "   Unnamed: 0 country                                        description  \\\n",
       "0           0   Italy  Aromas include tropical fruit, broom, brimston...   \n",
       "\n",
       "    designation  points  price           province region_1 region_2  \\\n",
       "0  Vulkà Bianco      87    NaN  Sicily & Sardinia     Etna      NaN   \n",
       "\n",
       "     taster_name taster_twitter_handle                              title  \\\n",
       "0  Kerin O’Keefe          @kerinokeefe  Nicosia 2013 Vulkà Bianco  (Etna)   \n",
       "\n",
       "       variety   winery  \n",
       "0  White Blend  Nicosia  "
      ]
     },
     "execution_count": 116,
     "metadata": {},
     "output_type": "execute_result"
    }
   ],
   "source": [
    "import requests\n",
    "import json\n",
    "import pandas as pd\n",
    "\n",
    "from pprint import pprint\n",
    "\n",
    "file = pd.read_csv(\"winemag-data-130k-v2.csv\")\n",
    "\n",
    "file.head(1)"
   ]
  },
  {
   "cell_type": "code",
   "execution_count": 117,
   "metadata": {},
   "outputs": [],
   "source": [
    "title_list = [title for title in file[\"title\"]]"
   ]
  },
  {
   "cell_type": "code",
   "execution_count": 118,
   "metadata": {},
   "outputs": [
    {
     "data": {
      "text/plain": [
       "129971"
      ]
     },
     "execution_count": 118,
     "metadata": {},
     "output_type": "execute_result"
    }
   ],
   "source": [
    "len(title_list)"
   ]
  },
  {
   "cell_type": "code",
   "execution_count": 119,
   "metadata": {},
   "outputs": [
    {
     "name": "stdout",
     "output_type": "stream",
     "text": [
      "Nicosia 2013 Vulkà Bianco  (Etna)\n",
      "Domaine Schoffit 2012 Lieu-dit Harth Cuvée Caroline Gewurztraminer (Alsace)\n"
     ]
    }
   ],
   "source": [
    "print(title_list[0])\n",
    "print(title_list[len(title_list)-1])"
   ]
  },
  {
   "cell_type": "code",
   "execution_count": 154,
   "metadata": {},
   "outputs": [
    {
     "name": "stdout",
     "output_type": "stream",
     "text": [
      "['Domaine', 'Schoffit', '2012', 'Lieu-dit', 'Harth', 'Cuvée', 'Caroline', 'Gewurztraminer', '(Alsace)']\n",
      "[2012]\n",
      "[2012]\n",
      "[129970, 2012]\n",
      "129971\n",
      "125062\n",
      "298\n",
      "222\n",
      "4389\n"
     ]
    }
   ],
   "source": [
    "def hasNumbers(inputString):\n",
    "    return any(char.isdigit() for char in inputString) \n",
    "\n",
    "counter = 0\n",
    "year_list = []\n",
    "multiple_numbers_list = []\n",
    "none_years_list = []\n",
    "no_numbers_list = []\n",
    "\n",
    "for title in title_list:\n",
    "    title_strings_list = []\n",
    "    title_numbers_list = []\n",
    "    year_numbers_list = []\n",
    "    for x in title.split():\n",
    "        title_strings_list.append(x)\n",
    "    if hasNumbers(title_strings_list) == True:\n",
    "        for y in title_strings_list:\n",
    "            if y.isdigit():\n",
    "                title_numbers_list.append(int(y))\n",
    "        year_numbers_list = [i for i in title_numbers_list if 1800 < i < 2019]\n",
    "        if len(year_numbers_list) == 1:\n",
    "            year_list.append([counter, year_numbers_list[0]])\n",
    "        elif len(year_numbers_list) > 1:\n",
    "            multiple_numbers_list.append(counter)\n",
    "        elif len(year_numbers_list) == 0:\n",
    "            none_years_list.append(counter)\n",
    "    if hasNumbers(title_strings_list) == False:\n",
    "        no_numbers_list.append(counter)\n",
    "    counter = counter + 1\n",
    "\n",
    "print(title_strings_list)\n",
    "print(title_numbers_list)\n",
    "print(year_numbers_list)\n",
    "print(year_list[len(year_list)-1])\n",
    "print(len(title_list))\n",
    "print(len(year_list))\n",
    "print(len(multiple_numbers_list))\n",
    "print(len(none_years_list))\n",
    "print(len(no_numbers_list))"
   ]
  },
  {
   "cell_type": "code",
   "execution_count": 155,
   "metadata": {},
   "outputs": [
    {
     "ename": "TypeError",
     "evalue": "'int' object is not subscriptable",
     "output_type": "error",
     "traceback": [
      "\u001b[0;31m---------------------------------------------------------------------------\u001b[0m",
      "\u001b[0;31mTypeError\u001b[0m                                 Traceback (most recent call last)",
      "\u001b[0;32m<ipython-input-155-6a6c6917dcbe>\u001b[0m in \u001b[0;36m<module>\u001b[0;34m()\u001b[0m\n\u001b[0;32m----> 1\u001b[0;31m \u001b[0;34m[\u001b[0m\u001b[0mmax\u001b[0m\u001b[0;34m(\u001b[0m\u001b[0mitem\u001b[0m\u001b[0;34m[\u001b[0m\u001b[0;36m1\u001b[0m\u001b[0;34m]\u001b[0m\u001b[0;34m)\u001b[0m \u001b[0;32mfor\u001b[0m \u001b[0mitem\u001b[0m \u001b[0;32min\u001b[0m \u001b[0myear_list\u001b[0m\u001b[0;34m]\u001b[0m\u001b[0;34m\u001b[0m\u001b[0m\n\u001b[0m",
      "\u001b[0;32m<ipython-input-155-6a6c6917dcbe>\u001b[0m in \u001b[0;36m<listcomp>\u001b[0;34m(.0)\u001b[0m\n\u001b[0;32m----> 1\u001b[0;31m \u001b[0;34m[\u001b[0m\u001b[0mmax\u001b[0m\u001b[0;34m(\u001b[0m\u001b[0mitem\u001b[0m\u001b[0;34m[\u001b[0m\u001b[0;36m1\u001b[0m\u001b[0;34m]\u001b[0m\u001b[0;34m)\u001b[0m \u001b[0;32mfor\u001b[0m \u001b[0mitem\u001b[0m \u001b[0;32min\u001b[0m \u001b[0myear_list\u001b[0m\u001b[0;34m]\u001b[0m\u001b[0;34m\u001b[0m\u001b[0m\n\u001b[0m",
      "\u001b[0;32m<ipython-input-139-2f9ec732d716>\u001b[0m in \u001b[0;36mmax\u001b[0;34m(sequence)\u001b[0m\n\u001b[1;32m      1\u001b[0m \u001b[0;32mdef\u001b[0m \u001b[0mmax\u001b[0m\u001b[0;34m(\u001b[0m\u001b[0msequence\u001b[0m\u001b[0;34m)\u001b[0m\u001b[0;34m:\u001b[0m\u001b[0;34m\u001b[0m\u001b[0m\n\u001b[0;32m----> 2\u001b[0;31m     \u001b[0mmaxium\u001b[0m \u001b[0;34m=\u001b[0m \u001b[0msequence\u001b[0m\u001b[0;34m[\u001b[0m\u001b[0;36m0\u001b[0m\u001b[0;34m]\u001b[0m\u001b[0;34m\u001b[0m\u001b[0m\n\u001b[0m\u001b[1;32m      3\u001b[0m     \u001b[0;32mfor\u001b[0m \u001b[0mitem\u001b[0m \u001b[0;32min\u001b[0m \u001b[0msequence\u001b[0m\u001b[0;34m:\u001b[0m\u001b[0;34m\u001b[0m\u001b[0m\n\u001b[1;32m      4\u001b[0m         \u001b[0;32mif\u001b[0m \u001b[0mitem\u001b[0m\u001b[0;34m[\u001b[0m\u001b[0;36m1\u001b[0m\u001b[0;34m]\u001b[0m \u001b[0;34m>\u001b[0m \u001b[0mmaximum\u001b[0m\u001b[0;34m[\u001b[0m\u001b[0;36m1\u001b[0m\u001b[0;34m]\u001b[0m\u001b[0;34m:\u001b[0m\u001b[0;34m\u001b[0m\u001b[0m\n\u001b[1;32m      5\u001b[0m             \u001b[0mmaxium\u001b[0m \u001b[0;34m=\u001b[0m \u001b[0mitem\u001b[0m\u001b[0;34m\u001b[0m\u001b[0m\n",
      "\u001b[0;31mTypeError\u001b[0m: 'int' object is not subscriptable"
     ]
    }
   ],
   "source": [
    "[max(item[1]) for item in year_list]"
   ]
  },
  {
   "cell_type": "code",
   "execution_count": 114,
   "metadata": {},
   "outputs": [
    {
     "name": "stdout",
     "output_type": "stream",
     "text": [
      "Pascal Aufranc 2011 Vignes de 1939  (Chénas)\n",
      "Pascal Aufranc 2015 En Rémont Vignes de 1939  (Chénas)\n",
      "Guidi 1929 2012 Aurea Riserva  (Vernaccia di San Gimignano)\n",
      "Kirsten 2013 1904 Spätlese Riesling (Mosel)\n",
      "1912 Winemakers 2011 Vinhas Velhas Branco White (Douro)\n",
      "Casella 2007 1919 Shiraz (Wrattonbully)\n",
      "Domaine de la Tour Boisée 2006 Plantation 1905 Red (Vin de Table Francais)\n",
      "Arndorfer 2013 Von Den Terrassen 1979 Roter Veltliner (Niederösterreich)\n",
      "Owen Roe 2014 1973 Block Red Willow Vineyard Cabernet Sauvignon (Yakima Valley)\n",
      "Producteurs Plaimont 2007 Cuvée 1907 Tannat (Madiran)\n",
      "Limerick Lane 2009 Block 1910 Zinfandel (Russian River Valley)\n",
      "Arndorfer 2014 Terrassen 1979 Roter Veltliner (Austria)\n",
      "Yohan Lardy 2014 Vieilles Vignes de 1903  (Moulin-à-Vent)\n",
      "Domaine Dupré 2011 Vignes de 1918  (Régnié)\n",
      "Gnarly Head 2015 1924 Limited Edition Double Black Red (California)\n",
      "Bodegas Navarro López 2010 Premium 1904 Tempranillo-Cabernet Sauvignon (Vino de la Tierra de Castilla)\n",
      "Vermeil 2009 Luvisi 1908 Vineyard Zinfandel (Calistoga)\n",
      "Owen Roe 2010 Red Willow Vineyard 1973 Block Cabernet Sauvignon (Yakima Valley)\n",
      "Tahbilk 2006 1927 Vines Marsanne (Nagambie Lakes)\n",
      "Waterford 2015 Cape Winemakers Guild 1988 Kept Aside Chardonnay (Stellenbosch)\n",
      "1912 Winemakers 2009 Piorro Reserva Red (Douro)\n",
      "1912 Winemakers 2013 Piorro Branco Colheita White (Douro)\n",
      "Martinez Bujanda 1998 Conde de Valdemar Crianza 1998  (Rioja)\n",
      "Vinopera Bervini 2016 1955 Extra Dry  (Prosecco)\n",
      "Casa Silva 2016 1912 Vines Sauvignon Gris (Colchagua Valley)\n",
      "Cobb 2014 Coastlands Vineyard 1906 Block Pommard Clone Pinot Noir (Sonoma Coast)\n",
      "Otanon 1998 Crianza 1998  (Rioja)\n",
      "Hanzell 2005 Ambassador's 1953 Vineyard Chardonnay (Sonoma Valley)\n",
      "Bollinger 2003 2003 by Bollinger Brut  (Champagne)\n",
      "Mendoza Vineyards 2011 1907 Malbec (Mendoza)\n",
      "Limerick Lane 2009 Block 1970 Zinfandel (Russian River Valley)\n",
      "Domaine Dupré 2013 Vignes de 1940  (Beaujolais-Villages)\n",
      "James Charles 2014 Arrivato 1913 Ameritage Red (Virginia)\n",
      "1912 Winemakers 2009 Encosta do Bocho Grand Reserva Red (Douro)\n",
      "Limerick Lane 2009 Block 1910 Zinfandel (Russian River Valley)\n",
      "Waterford 2016 Cape Winemakers Guild 1988 Kept Aside Chardonnay (Stellenbosch)\n",
      "1912 Winemakers 2011 Piorro Colheita Red (Douro)\n",
      "Jean-Michel Dupré 2015 Vignes de 1940  (Beaujolais-Villages)\n",
      "Terlan 2004 Rarità 2004 Pinot Bianco (Alto Adige)\n",
      "J. Rickards 2014 1908 Brignole Vineyard Old Vine Zinfandel (Alexander Valley)\n",
      "Domaine Dupré 2011 Vignes de 1935  (Morgon)\n",
      "Domaine Dupré 2014 Vignes de 1940  (Beaujolais-Villages)\n",
      "1912 Winemakers 2011 Encosta do Bocho Colheita Red (Douro)\n",
      "Domaine Dupré 2014 Vieilles Vignes de 1935  (Morgon)\n",
      "Lucien Lardy 2013 Vignes de 1951  (Beaujolais-Villages)\n",
      "Hanzell 2007 Ambassador's 1953 Vineyard Pinot Noir (Sonoma Valley)\n",
      "Domaine Dupré 2013 Vignes de 1935  (Morgon)\n",
      "Poderi dal Nespoli 1929 2010 Il Nespoli Riserva  (Sangiovese di Romagna Superiore)\n",
      "Kaapzicht 2015 Cape Winemakers Guild Auction Selection 1947 Chenin Blanc (Stellenbosch)\n",
      "Limerick Lane 2013 1910 Block Zinfandel (Russian River Valley)\n",
      "Kirsten 2013 1904 Spätlese Riesling (Mosel)\n",
      "Guidi 1929 2011  Chianti Colli Senesi\n",
      "Lucien Lardy 2015 Vignes de 1951  (Beaujolais-Villages)\n",
      "Pascal Aufranc 2012 Vignes de 1939  (Chénas)\n",
      "1912 Winemakers 2011 Vinhas Velhas Branco White (Douro)\n",
      "Mendoza Vineyards 2011 1907 Malbec (Mendoza)\n",
      "Limerick Lane 2015 1910 Block Zinfandel (Russian River Valley)\n",
      "Limerick Lane 2014 1910 Block Estate Grown Zinfandel (Russian River Valley)\n",
      "J. Rickards 2012 1908 Brignole Vineyard Old Vine Zinfandel (Alexander Valley)\n",
      "Casella 2006 1919 Cabernet Sauvignon (South Australia)\n",
      "Poderi dal Nespoli 1929 2011 Prugneto  (Sangiovese di Romagna Superiore)\n",
      "Hermann J. Wiemer 1997 Cuvée Brut 2000  (Finger Lakes)\n",
      "Francis Ford Coppola 2009 Black Label Diamond Collection 1910 Type Claret Cabernet Sauvignon (California)\n",
      "TintoNegro 2013 1955 Vineyard Estate Grown Malbec (Mendoza)\n",
      "Guidi 1929 2015  Vernaccia di San Gimignano\n",
      "Domaine Dupré 2012 Vignes de 1935  (Morgon)\n",
      "Ancilla 2016 1909  (Lugana)\n",
      "Jean-Michel Dupré 2015 1935 Vieilles Vignes  (Morgon)\n",
      "Owen Roe 2008 Red Willow Vineyard 1973 Block Cabernet Sauvignon (Yakima Valley)\n",
      "Producteurs Plaimont 2012 Cuvée 1907 Tannat-Cabernet (Madiran)\n",
      "Jérémie Huchet 2015 Clos les Montys 1914 Sur Lie  (Muscadet Sèvre et Maine)\n",
      "Tuck Beckstoffer 2013 Est. 1975 Sauvignon Blanc (California)\n",
      "Tenuta La Tenaglia 2007 1930 Una Buona Annata  (Barbera del Monferrato Superiore)\n",
      "Gnarly Head 2013 1924 Limited Edition Double Black Red (California)\n",
      "Guidi 1929 2010 Riserva  (Chianti)\n",
      "J. Rickards 2010 1908 Brignole Vineyard Old Vine Zinfandel (Alexander Valley)\n",
      "Les Vignerons Réunis de Monségur 2011 1935  (Bordeaux)\n",
      "James Charles 2015 Arrivato 1913 Ameritage Red (Virginia)\n",
      "Ancilla 2012 1909  (Lugana)\n",
      "Arndorfer 2013 Von Den Terrassen 1979 Roter Veltliner (Niederösterreich)\n",
      "Simonassi 2010 1922 Malbec (Mendoza)\n",
      "1912 Winemakers 2009 Piorro Grande Reserva Red (Douro)\n",
      "Casella 2007 1919 Cabernet Sauvignon (Wrattonbully)\n",
      "Producteurs Plaimont 2009 Cuvée 1907 Tannat (Madiran)\n",
      "Andes Grapes 2006 Ambar 1907 Malbec (Mendoza)\n",
      "Domaine Dupré 2011 Vignes de 1940  (Beaujolais-Villages)\n"
     ]
    }
   ],
   "source": [
    "for x in investigation:\n",
    "    print(title_list[x])\n",
    "    "
   ]
  },
  {
   "cell_type": "code",
   "execution_count": 109,
   "metadata": {},
   "outputs": [
    {
     "data": {
      "text/plain": [
       "[34862, 41483, 46825, 49729, 57610, 63763, 102843]"
      ]
     },
     "execution_count": 109,
     "metadata": {},
     "output_type": "execute_result"
    }
   ],
   "source": [
    "investigation"
   ]
  },
  {
   "cell_type": "code",
   "execution_count": 111,
   "metadata": {},
   "outputs": [
    {
     "data": {
      "text/plain": [
       "'Hermann J. Wiemer 1997 Cuvée Brut 2000  (Finger Lakes)'"
      ]
     },
     "execution_count": 111,
     "metadata": {},
     "output_type": "execute_result"
    }
   ],
   "source": [
    "title_list[102843]\n"
   ]
  },
  {
   "cell_type": "code",
   "execution_count": null,
   "metadata": {},
   "outputs": [],
   "source": []
  },
  {
   "cell_type": "code",
   "execution_count": null,
   "metadata": {},
   "outputs": [],
   "source": []
  }
 ],
 "metadata": {
  "kernelspec": {
   "display_name": "Python 3",
   "language": "python",
   "name": "python3"
  },
  "language_info": {
   "codemirror_mode": {
    "name": "ipython",
    "version": 3
   },
   "file_extension": ".py",
   "mimetype": "text/x-python",
   "name": "python",
   "nbconvert_exporter": "python",
   "pygments_lexer": "ipython3",
   "version": "3.7.0"
  }
 },
 "nbformat": 4,
 "nbformat_minor": 2
}
