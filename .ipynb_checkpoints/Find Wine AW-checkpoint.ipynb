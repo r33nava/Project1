{
 "cells": [
  {
   "cell_type": "code",
   "execution_count": 81,
   "metadata": {},
   "outputs": [],
   "source": [
    "#!pip install gmaps\n"
   ]
  },
  {
   "cell_type": "code",
   "execution_count": 23,
   "metadata": {},
   "outputs": [],
   "source": [
    "import pandas as pd\n",
    "import gmaps\n",
    "import random as random\n",
    "import numpy as np\n",
    "gkey = ..."
   ]
  },
  {
   "cell_type": "code",
   "execution_count": null,
   "metadata": {},
   "outputs": [],
   "source": [
    "#importing the edited CSV \n",
    "\n",
    "csv_file = pd.read_csv(\"winedata_coord.csv\")"
   ]
  },
  {
   "cell_type": "code",
   "execution_count": null,
   "metadata": {},
   "outputs": [],
   "source": [
    "#Removing \"Unnamed:0\" column\n",
    "\n",
    "df = csv_file.drop(columns=[\"Unnamed: 0\", \"Unnamed: 0.1\"])"
   ]
  },
  {
   "cell_type": "code",
   "execution_count": null,
   "metadata": {},
   "outputs": [],
   "source": [
    "#Dropping a decimal from \"Price\" column and re-naming the column\n",
    "\n",
    "price = [int(x) for x in df[\"Price\"]]\n",
    "df[\"Price\"] = price"
   ]
  },
  {
   "cell_type": "code",
   "execution_count": 5,
   "metadata": {},
   "outputs": [],
   "source": [
    "def find_title(dataframe, row):\n",
    "    return (dataframe.loc[row,: \"Title\"])[\"Title\"]"
   ]
  },
  {
   "cell_type": "code",
   "execution_count": 6,
   "metadata": {},
   "outputs": [
    {
     "data": {
      "text/plain": [
       "'Quinta do Portal 2012 Verdelho and Sauvignon Blanc White (Douro)'"
      ]
     },
     "execution_count": 6,
     "metadata": {},
     "output_type": "execute_result"
    }
   ],
   "source": [
    "find_title(df, 1)"
   ]
  },
  {
   "cell_type": "code",
   "execution_count": 7,
   "metadata": {},
   "outputs": [],
   "source": [
    "#This contains all the functions we need.\n",
    "\n",
    "import numpy as np\n",
    "\n",
    "def find_title(dataframe, row):\n",
    "    return (dataframe.loc[row,: \"Title\"])[\"Title\"]\n",
    "\n",
    "def find_year(dataframe, row):\n",
    "    return (dataframe.loc[row,: \"Year\"])[\"Year\"]\n",
    "\n",
    "def find_country(dataframe, row):\n",
    "    return (dataframe.loc[row,: \"Country\"])[\"Country\"]\n",
    "\n",
    "def find_description(dataframe, row):\n",
    "    return (dataframe.loc[row,: \"Description\"])[\"Description\"]\n",
    "\n",
    "def find_price(dataframe, row):\n",
    "    return (dataframe.loc[row,: \"Price\"])[\"Price\"]\n",
    "\n",
    "def print_wine_info(dataframe, row):\n",
    "    print(f'     \"{find_title(dataframe, row)}\".')\n",
    "    print(f'     The wine is from {find_country(dataframe, row)}, made in {find_year(dataframe, row)}, and may cost you ${find_price(dataframe, row)}.')\n",
    "    print(f'     A reviewer says \"{find_description(dataframe, row)}\".')\n",
    "\n",
    "def print_remaining_wine(dataframe):\n",
    "    print(f'We can help you find a wine from {len(dataframe[\"Title\"])} wine-reviews from {len((dataframe[\"Country\"]).unique())} countries.')\n",
    "    print(f'These wine are from {min(dataframe[\"Year\"])} to {max(dataframe[\"Year\"])} with a price range of ${min(dataframe[\"Price\"])} to ${max(dataframe[\"Price\"])}.')\n",
    "    \n",
    "def pick_a_wine(dataframe):\n",
    "    return random.randrange(len(dataframe[\"Title\"]))\n",
    "\n",
    "def max_score(dataframe):\n",
    "    return max(dataframe[\"Grade\"])\n",
    "\n",
    "def median_score(dataframe):\n",
    "    return np.median(dataframe[\"Grade\"])\n",
    "            \n",
    "        #random_wine_generator = []\n",
    " \n",
    "    #for i in range(3):\n",
    "        #rnum = randrange(len(df[\"Title\"])-1)\n",
    "        #random_wine_generator.append(rnum)\n",
    "    \n",
    "    #first_random_wine = random_wine_generator[0]"
   ]
  },
  {
   "cell_type": "code",
   "execution_count": 8,
   "metadata": {},
   "outputs": [
    {
     "data": {
      "text/plain": [
       "88.0"
      ]
     },
     "execution_count": 8,
     "metadata": {},
     "output_type": "execute_result"
    }
   ],
   "source": [
    "median_score(df)"
   ]
  },
  {
   "cell_type": "code",
   "execution_count": 9,
   "metadata": {},
   "outputs": [
    {
     "data": {
      "text/plain": [
       "31552"
      ]
     },
     "execution_count": 9,
     "metadata": {},
     "output_type": "execute_result"
    }
   ],
   "source": [
    "pick_a_wine(df)"
   ]
  },
  {
   "cell_type": "code",
   "execution_count": 10,
   "metadata": {},
   "outputs": [
    {
     "data": {
      "text/plain": [
       "'Quinta dos Avidagos 2011 Avidagos Red (Douro)'"
      ]
     },
     "execution_count": 10,
     "metadata": {},
     "output_type": "execute_result"
    }
   ],
   "source": [
    "find_title(df, 0)"
   ]
  },
  {
   "cell_type": "code",
   "execution_count": 11,
   "metadata": {},
   "outputs": [
    {
     "name": "stdout",
     "output_type": "stream",
     "text": [
      "     \"LangeTwins 2016 Estate Grown Chardonnay (Clarksburg)\".\n",
      "     The wine is from US, made in 2016, and may cost you $15.\n",
      "     A reviewer says \"If almond Danish came in liquid form, this wine would be it. The aromas suggest vanilla, toasted almond and cream while the flavors are equally pastry-like, with a sweet touch. The texture is soft and smooth.\".\n"
     ]
    }
   ],
   "source": [
    "print_wine_info(df, pick_a_wine(df))"
   ]
  },
  {
   "cell_type": "code",
   "execution_count": 12,
   "metadata": {},
   "outputs": [
    {
     "data": {
      "text/plain": [
       "51313"
      ]
     },
     "execution_count": 12,
     "metadata": {},
     "output_type": "execute_result"
    }
   ],
   "source": [
    "pick_a_wine(df)"
   ]
  },
  {
   "cell_type": "code",
   "execution_count": 13,
   "metadata": {},
   "outputs": [
    {
     "data": {
      "text/plain": [
       "100"
      ]
     },
     "execution_count": 13,
     "metadata": {},
     "output_type": "execute_result"
    }
   ],
   "source": [
    "max_score(df)"
   ]
  },
  {
   "cell_type": "code",
   "execution_count": 14,
   "metadata": {},
   "outputs": [
    {
     "name": "stdout",
     "output_type": "stream",
     "text": [
      "We can help you find a wine from 101357 wine-reviews from 12 countries.\n",
      "These wine are from 2004 to 2016 with a price range of $4 to $3300.\n"
     ]
    }
   ],
   "source": [
    "print_remaining_wine(df)"
   ]
  },
  {
   "cell_type": "code",
   "execution_count": 15,
   "metadata": {},
   "outputs": [
    {
     "name": "stdout",
     "output_type": "stream",
     "text": [
      "----------------------------\n",
      "Welcome to our Wine-Database.\n",
      "We can help you find a wine from 101357 wine-reviews from 12 countries.\n",
      "These wine are from 2004 to 2016 with a price range of $4 to $3300.\n",
      "We can either tailor a wine to your liking, or randomly generate a list of highly rated wines.\n"
     ]
    }
   ],
   "source": [
    "#introducing our program\n",
    "\n",
    "print(f'----------------------------')\n",
    "print(f'Welcome to our Wine-Database.')\n",
    "print(f'We can help you find a wine from {len(df[\"Title\"])} wine-reviews from {len((df[\"Country\"]).unique())} countries.')\n",
    "print(f'These wines are from {min(df[\"Year\"])} to {max(df[\"Year\"])} with a price range of ${min(df[\"Price\"])} to ${max(df[\"Price\"])}.')\n",
    "print(f'We can either tailor a wine to your liking, or randomly generate a list of highly rated wines.')\n",
    "\n"
   ]
  },
  {
   "cell_type": "code",
   "execution_count": 16,
   "metadata": {},
   "outputs": [
    {
     "name": "stdout",
     "output_type": "stream",
     "text": [
      "The maximum price is 20.\n"
     ]
    }
   ],
   "source": [
    "#checking loc function to elimiate rows\n",
    "\n",
    "test_df = df.loc[df[\"Price\"] < 20 + 0.1]\n",
    "print(f'The maximum price is {max(test_df[\"Price\"])}.')"
   ]
  },
  {
   "cell_type": "code",
   "execution_count": 17,
   "metadata": {},
   "outputs": [],
   "source": [
    "list_of_countires = df[\"Country\"].unique()"
   ]
  },
  {
   "cell_type": "code",
   "execution_count": 18,
   "metadata": {},
   "outputs": [
    {
     "name": "stdout",
     "output_type": "stream",
     "text": [
      "It exists\n"
     ]
    }
   ],
   "source": [
    "if \"US\" in list_of_countires:\n",
    "    print(\"It exists\")"
   ]
  },
  {
   "cell_type": "code",
   "execution_count": 31,
   "metadata": {},
   "outputs": [
    {
     "name": "stdout",
     "output_type": "stream",
     "text": [
      "Type 'Yes' if you want us to help you find a wine, 'No' if you just want to see a random list of recommended wine: yes\n",
      "What is your price limit?” Either type the dollar amount, or type skip if you have too much money: 10\n",
      "We can help you find a wine from 4910 wine-reviews from 12 countries.\n",
      "These wine are from 2004 to 2016 with a price range of $4 to $10.\n",
      "\n",
      "['Portugal' 'US' 'Spain' 'Italy' 'France' 'Germany' 'Argentina' 'Chile'\n",
      " 'Australia' 'Austria' 'South Africa' 'New Zealand']\n",
      "What country's wine do you prefer? If you have no preference, type 'skip': US\n",
      "We can help you find a wine from 1134 wine-reviews from 1 countries.\n",
      "These wine are from 2004 to 2016 with a price range of $4 to $10.\n",
      "     \"Healdsburg Ranches 2009 Unoaked Chardonnay (Sonoma County)\".\n",
      "     The wine is from US, made in 2009, and may cost you $10.\n",
      "     A reviewer says \"Great price for a Chardonnay that tastes like it costs a lot more. Although it's unoaked, it's very rich in passionfruit, pineapple, peach and vanilla cream flavors, with a honeyed finish. Easy to find, with 5,000 cases produced.\".\n",
      "235\n",
      "36.778261\n",
      "-119.4179324\n",
      "[(36.778261, -119.4179324)]\n"
     ]
    }
   ],
   "source": [
    "#Pulling the random list of wines\n",
    "import random\n",
    "\n",
    "first_answer = input(\"Type 'Yes' if you want us to help you find a wine, 'No' if you just want to see a random list of recommended wines: \")\n",
    "\n",
    "if first_answer.lower() ==\"yes\":\n",
    "    #print(\"It works!\")\n",
    "    second_answer = input(\"What is your price limit?” Either type the dollar amount, or type skip if you have too much money: \")\n",
    "    \n",
    "    if second_answer.isdigit() == True:\n",
    "        #print(\"Thank God it's all numbers!\")\n",
    "        #print(type(second_answer))\n",
    "        new_df = df.loc[df[\"Price\"] < int(second_answer) + 0.1]\n",
    "        print_remaining_wine(new_df)\n",
    "        print(\"\")\n",
    "        print(new_df[\"Country\"].unique())\n",
    "        third_answer = input(\"What country's wine do you prefer? If you have no preference, type 'skip': \" )\n",
    "        \n",
    "        if third_answer in new_df[\"Country\"].unique():\n",
    "            second_new_df = new_df.loc[new_df[\"Country\"] == third_answer]\n",
    "            print_remaining_wine(second_new_df)\n",
    "            \n",
    "            #third_new_df = second_new_df.loc[second_new_df[\"Grade\"] == max_score(second_new_df)]\n",
    "            third_new_df = second_new_df.loc[second_new_df[\"Grade\"] > median_score(second_new_df)]\n",
    "            third_new_df = third_new_df.reset_index(drop=True)\n",
    "            #print(max_score(third_new_df))\n",
    "            #print_remaining_wine(third_new_df)\n",
    "            choice_wine = pick_a_wine(third_new_df)\n",
    "            print_wine_info(third_new_df, choice_wine)\n",
    "            print(choice_wine)\n",
    "            \n",
    "\n",
    "\n",
    "            # Configure gmaps with API key\n",
    "            gmaps.configure(api_key=gkey)\n",
    "\n",
    "\n",
    "            # Store 'Lat' and 'Lng' into  locations\n",
    "            lat = (third_new_df.loc[choice_wine,: \"Latitude\"])[\"Latitude\"]\n",
    "            long = (third_new_df.loc[choice_wine,: \"Longitude\"])[\"Longitude\"]              \n",
    "            print(lat)\n",
    "            print(long)\n",
    "            location = [(lat, long)]\n",
    "            print(location)\n",
    "            \n",
    "           # winery_layer = gmaps.marker_layer(location)\n",
    "\n",
    "\n",
    "\n",
    "        \n",
    "        elif third_answer.lower() == \"skip\":\n",
    "            second_new_df = new_df\n",
    "            print_remaining_wine(second_new_df)\n",
    "        #else:\n",
    "            #print(\"The country does not exist.\")\n",
    "        \n",
    "        elif third_answer not in new_df[\"Country\"].unique():\n",
    "            wrong_answer = input(\"Please pick the country in the list, or type 'skip': \")\n",
    "            third_answer = wrong_answer\n",
    "            if third_answer in new_df[\"Country\"].unique():\n",
    "                second_new_df = new_df.loc[new_df[\"Country\"] == third_answer]\n",
    "                print_remaining_wine(second_new_df)\n",
    "                \n",
    "                \n",
    "            elif third_answer.lower() == \"skip\":\n",
    "                second_new_df = new_df\n",
    "                print_remaining_wine(second_new_df)\n",
    "        \n",
    "    elif second_answer.lower() == \"skip\":\n",
    "        #print(\"It works!\")\n",
    "        new_df = df\n",
    "        print_remaining_wine(new_df)\n",
    "\n",
    "    elif second_answer.isdigit() == False:\n",
    "        wrong_answer = input(\"Please only type numbers: \")\n",
    "        second_answer = wrong_answer\n",
    "        if second_answer.isdigit() == True:\n",
    "            #print(\"Thank God it's all numbers!\")\n",
    "            #print(type(second_answer))\n",
    "            new_df = df.loc[df[\"Price\"] < int(second_answer) + 0.1]\n",
    "            print_remaining_wine(new_df)\n",
    "    \n",
    "    \n",
    "if first_answer.lower() == \"no\":\n",
    "    random_wine_generator = []\n",
    " \n",
    "    for i in range(3):\n",
    "        rnum = randrange(len(df[\"Title\"])-1)\n",
    "        random_wine_generator.append(rnum)\n",
    "    \n",
    "    first_random_wine = random_wine_generator[0]\n",
    "    second_random_wine = random_wine_generator[1]\n",
    "    third_random_wine = random_wine_generator[2]\n",
    "        \n",
    "    print(\"----------------------\")\n",
    "    print_wine_info(df, first_random_wine)\n",
    "    print(\"\")\n",
    "    print_wine_info(df, second_random_wine)\n",
    "    print(\"\")\n",
    "    print_wine_info(df, third_random_wine)\n",
    "    print(\"----------------------\")\n",
    "    \n",
    "    "
   ]
  },
  {
   "cell_type": "code",
   "execution_count": 32,
   "metadata": {},
   "outputs": [
    {
     "name": "stdout",
     "output_type": "stream",
     "text": [
      "[(36.778261, -119.4179324)]\n"
     ]
    },
    {
     "data": {
      "application/vnd.jupyter.widget-view+json": {
       "model_id": "00ec1a6f6d364d5fb60adb212be60acd",
       "version_major": 2,
       "version_minor": 0
      },
      "text/plain": [
       "Figure(layout=FigureLayout(height='420px'))"
      ]
     },
     "metadata": {},
     "output_type": "display_data"
    }
   ],
   "source": [
    "fig = gmaps.figure()\n",
    "print(location) \n",
    "marker_layer = gmaps.marker_layer(location)\n",
    "fig.add_layer(marker_layer)\n",
    "fig\n"
   ]
  },
  {
   "cell_type": "code",
   "execution_count": 30,
   "metadata": {},
   "outputs": [
    {
     "data": {
      "application/vnd.jupyter.widget-view+json": {
       "model_id": "20276481a88a4d6dba27ef74dcc6517b",
       "version_major": 2,
       "version_minor": 0
      },
      "text/plain": [
       "Figure(layout=FigureLayout(height='420px'))"
      ]
     },
     "metadata": {},
     "output_type": "display_data"
    }
   ],
   "source": [
    "fig = gmaps.figure()\n",
    "marker_layer = gmaps.marker_layer([(47.7510741000, -120.7401385)])\n",
    "fig.add_layer(marker_layer)\n",
    "fig"
   ]
  },
  {
   "cell_type": "code",
   "execution_count": 97,
   "metadata": {},
   "outputs": [
    {
     "data": {
      "text/html": [
       "<div>\n",
       "<style scoped>\n",
       "    .dataframe tbody tr th:only-of-type {\n",
       "        vertical-align: middle;\n",
       "    }\n",
       "\n",
       "    .dataframe tbody tr th {\n",
       "        vertical-align: top;\n",
       "    }\n",
       "\n",
       "    .dataframe thead th {\n",
       "        text-align: right;\n",
       "    }\n",
       "</style>\n",
       "<table border=\"1\" class=\"dataframe\">\n",
       "  <thead>\n",
       "    <tr style=\"text-align: right;\">\n",
       "      <th></th>\n",
       "      <th>Title</th>\n",
       "      <th>Variety</th>\n",
       "      <th>Year</th>\n",
       "      <th>Price</th>\n",
       "      <th>Grade</th>\n",
       "      <th>Winery</th>\n",
       "      <th>Province</th>\n",
       "      <th>Region</th>\n",
       "      <th>Country</th>\n",
       "      <th>Taster</th>\n",
       "      <th>Taster_Twitter</th>\n",
       "      <th>Description</th>\n",
       "    </tr>\n",
       "  </thead>\n",
       "  <tbody>\n",
       "    <tr>\n",
       "      <th>0</th>\n",
       "      <td>Rulo 2007 Syrah (Columbia Valley (WA))</td>\n",
       "      <td>Syrah</td>\n",
       "      <td>2007</td>\n",
       "      <td>20</td>\n",
       "      <td>96</td>\n",
       "      <td>Rulo</td>\n",
       "      <td>Washington</td>\n",
       "      <td>Columbia Valley (WA)</td>\n",
       "      <td>US</td>\n",
       "      <td>Paul Gregutt</td>\n",
       "      <td>@paulgwine</td>\n",
       "      <td>Superb fruit highlights this tight, sculpted S...</td>\n",
       "    </tr>\n",
       "  </tbody>\n",
       "</table>\n",
       "</div>"
      ],
      "text/plain": [
       "                                    Title Variety  Year  Price  Grade Winery  \\\n",
       "0  Rulo 2007 Syrah (Columbia Valley (WA))   Syrah  2007     20     96   Rulo   \n",
       "\n",
       "     Province                Region Country        Taster Taster_Twitter  \\\n",
       "0  Washington  Columbia Valley (WA)      US  Paul Gregutt    @paulgwine    \n",
       "\n",
       "                                         Description  \n",
       "0  Superb fruit highlights this tight, sculpted S...  "
      ]
     },
     "execution_count": 97,
     "metadata": {},
     "output_type": "execute_result"
    }
   ],
   "source": [
    "\n",
    "third_new_df = third_new_df.reset_index(drop=True)\n",
    "\n",
    "third_new_df"
   ]
  },
  {
   "cell_type": "code",
   "execution_count": 74,
   "metadata": {},
   "outputs": [
    {
     "name": "stdout",
     "output_type": "stream",
     "text": [
      "[96558, 53869, 21457]\n"
     ]
    },
    {
     "data": {
      "text/plain": [
       "96558"
      ]
     },
     "execution_count": 74,
     "metadata": {},
     "output_type": "execute_result"
    }
   ],
   "source": [
    "from random import *\n",
    "\n",
    "test = []\n",
    " \n",
    "for i in range(3):\n",
    "    rnum = randrange(len(df[\"Title\"])-1)\n",
    "    test.append(rnum)\n",
    "    \n",
    "print(test)\n",
    "\n",
    "test[0]"
   ]
  },
  {
   "cell_type": "code",
   "execution_count": 75,
   "metadata": {},
   "outputs": [
    {
     "name": "stdout",
     "output_type": "stream",
     "text": [
      "70\n"
     ]
    }
   ],
   "source": [
    "print(randrange(100))"
   ]
  },
  {
   "cell_type": "code",
   "execution_count": 8,
   "metadata": {},
   "outputs": [
    {
     "data": {
      "text/plain": [
       "101725"
      ]
     },
     "execution_count": 8,
     "metadata": {},
     "output_type": "execute_result"
    }
   ],
   "source": [
    "len(df[\"Title\"])"
   ]
  },
  {
   "cell_type": "code",
   "execution_count": 9,
   "metadata": {},
   "outputs": [
    {
     "name": "stdout",
     "output_type": "stream",
     "text": [
      "Title    Quinta dos Avidagos 2011 Avidagos Red (Douro)\n",
      "Name: 0, dtype: object\n"
     ]
    }
   ],
   "source": [
    "test2 = df.loc[0,: 'Title']\n",
    "\n",
    "print(test2)"
   ]
  },
  {
   "cell_type": "code",
   "execution_count": 10,
   "metadata": {},
   "outputs": [
    {
     "name": "stdout",
     "output_type": "stream",
     "text": [
      "Quinta dos Avidagos 2011 Avidagos Red (Douro)\n"
     ]
    }
   ],
   "source": [
    "print(test2[\"Title\"])"
   ]
  },
  {
   "cell_type": "code",
   "execution_count": 11,
   "metadata": {},
   "outputs": [
    {
     "name": "stdout",
     "output_type": "stream",
     "text": [
      "Domaine Schoffit 2012 Lieu-dit Harth Cuvée Caroline Gewurztraminer (Alsace)\n"
     ]
    }
   ],
   "source": [
    "for index, row in df.iterrows():\n",
    "    if index == 101724:\n",
    "        print((df.loc[index,: \"Title\"])[\"Title\"])"
   ]
  },
  {
   "cell_type": "code",
   "execution_count": 26,
   "metadata": {},
   "outputs": [],
   "source": [
    "#skip = Skipping the criteria\n",
    "#random = Skipping the random\n",
    "#Yes = Starting the program"
   ]
  },
  {
   "cell_type": "code",
   "execution_count": 27,
   "metadata": {},
   "outputs": [],
   "source": [
    "list_of_prices = df[\"Price\"]"
   ]
  },
  {
   "cell_type": "code",
   "execution_count": null,
   "metadata": {},
   "outputs": [],
   "source": [
    "type(list_of_prices[0])"
   ]
  },
  {
   "cell_type": "code",
   "execution_count": null,
   "metadata": {},
   "outputs": [],
   "source": [
    "list_of_years = df[\"Year\"]\n",
    "type(list_of_years[0])"
   ]
  },
  {
   "cell_type": "code",
   "execution_count": null,
   "metadata": {},
   "outputs": [],
   "source": []
  }
 ],
 "metadata": {
  "kernelspec": {
   "display_name": "Python 3",
   "language": "python",
   "name": "python3"
  },
  "language_info": {
   "codemirror_mode": {
    "name": "ipython",
    "version": 3
   },
   "file_extension": ".py",
   "mimetype": "text/x-python",
   "name": "python",
   "nbconvert_exporter": "python",
   "pygments_lexer": "ipython3",
   "version": "3.7.0"
  }
 },
 "nbformat": 4,
 "nbformat_minor": 2
}
