{
 "cells": [
  {
   "cell_type": "code",
   "execution_count": 1,
   "metadata": {},
   "outputs": [
    {
     "data": {
      "text/html": [
       "<div>\n",
       "<style scoped>\n",
       "    .dataframe tbody tr th:only-of-type {\n",
       "        vertical-align: middle;\n",
       "    }\n",
       "\n",
       "    .dataframe tbody tr th {\n",
       "        vertical-align: top;\n",
       "    }\n",
       "\n",
       "    .dataframe thead th {\n",
       "        text-align: right;\n",
       "    }\n",
       "</style>\n",
       "<table border=\"1\" class=\"dataframe\">\n",
       "  <thead>\n",
       "    <tr style=\"text-align: right;\">\n",
       "      <th></th>\n",
       "      <th>Unnamed: 0</th>\n",
       "      <th>country</th>\n",
       "      <th>description</th>\n",
       "      <th>designation</th>\n",
       "      <th>points</th>\n",
       "      <th>price</th>\n",
       "      <th>province</th>\n",
       "      <th>region_1</th>\n",
       "      <th>region_2</th>\n",
       "      <th>taster_name</th>\n",
       "      <th>taster_twitter_handle</th>\n",
       "      <th>title</th>\n",
       "      <th>variety</th>\n",
       "      <th>winery</th>\n",
       "    </tr>\n",
       "  </thead>\n",
       "  <tbody>\n",
       "    <tr>\n",
       "      <th>0</th>\n",
       "      <td>0</td>\n",
       "      <td>Italy</td>\n",
       "      <td>Aromas include tropical fruit, broom, brimston...</td>\n",
       "      <td>Vulkà Bianco</td>\n",
       "      <td>87</td>\n",
       "      <td>NaN</td>\n",
       "      <td>Sicily &amp; Sardinia</td>\n",
       "      <td>Etna</td>\n",
       "      <td>NaN</td>\n",
       "      <td>Kerin O’Keefe</td>\n",
       "      <td>@kerinokeefe</td>\n",
       "      <td>Nicosia 2013 Vulkà Bianco  (Etna)</td>\n",
       "      <td>White Blend</td>\n",
       "      <td>Nicosia</td>\n",
       "    </tr>\n",
       "  </tbody>\n",
       "</table>\n",
       "</div>"
      ],
      "text/plain": [
       "   Unnamed: 0 country                                        description  \\\n",
       "0           0   Italy  Aromas include tropical fruit, broom, brimston...   \n",
       "\n",
       "    designation  points  price           province region_1 region_2  \\\n",
       "0  Vulkà Bianco      87    NaN  Sicily & Sardinia     Etna      NaN   \n",
       "\n",
       "     taster_name taster_twitter_handle                              title  \\\n",
       "0  Kerin O’Keefe          @kerinokeefe  Nicosia 2013 Vulkà Bianco  (Etna)   \n",
       "\n",
       "       variety   winery  \n",
       "0  White Blend  Nicosia  "
      ]
     },
     "execution_count": 1,
     "metadata": {},
     "output_type": "execute_result"
    }
   ],
   "source": [
    "#importing the wine CSV file into a DataFrame\n",
    "\n",
    "import pandas as pd\n",
    "\n",
    "file = pd.read_csv(\"winedata.csv\")\n",
    "\n",
    "file.head(1)"
   ]
  },
  {
   "cell_type": "code",
   "execution_count": 2,
   "metadata": {},
   "outputs": [
    {
     "data": {
      "text/plain": [
       "129971"
      ]
     },
     "execution_count": 2,
     "metadata": {},
     "output_type": "execute_result"
    }
   ],
   "source": [
    "#Creating a new list that contains all Titles. \n",
    "\n",
    "title_list = [title for title in file[\"title\"]]\n",
    "len(title_list)"
   ]
  },
  {
   "cell_type": "code",
   "execution_count": 3,
   "metadata": {},
   "outputs": [
    {
     "name": "stdout",
     "output_type": "stream",
     "text": [
      "Nicosia 2013 Vulkà Bianco  (Etna)\n",
      "Domaine Schoffit 2012 Lieu-dit Harth Cuvée Caroline Gewurztraminer (Alsace)\n"
     ]
    }
   ],
   "source": [
    "#Confirming titles in the new list. \n",
    "\n",
    "print(title_list[0])\n",
    "print(title_list[len(title_list)-1])"
   ]
  },
  {
   "cell_type": "code",
   "execution_count": 4,
   "metadata": {},
   "outputs": [
    {
     "name": "stdout",
     "output_type": "stream",
     "text": [
      "The last Title in the list can be broken down to following strings: ['Domaine', 'Schoffit', '2012', 'Lieu-dit', 'Harth', 'Cuvée', 'Caroline', 'Gewurztraminer', '(Alsace)'].\n",
      "The list of numbers from the last Title is(are): [2012].\n",
      "The list has the following number between 1700 and 2019: [2012].\n",
      "The Title is from following row, and its corresponding Year is: [129970, 2012].\n",
      "This is the total number of titles: 129971.\n",
      "This is the total number of title that has single Year: 125033.\n",
      "This is the total number of title that has multiple Years: 327.\n",
      "This is the total number of title that has numbers, but not Years: 222.\n",
      "This is the total number of title that has no numbers: 4389.\n",
      "This is the sum of all years/non-years: 129971.\n"
     ]
    }
   ],
   "source": [
    "#This function is to check if the particular string contains any numbers(or digits)\n",
    "\n",
    "def hasNumbers(inputString):\n",
    "    return any(char.isdigit() for char in inputString) \n",
    "\n",
    "counter = 0 #counter will track the number of the looping\n",
    "year_list = [] #this is the list that will contain the years out of titles. \n",
    "multiple_numbers_list = [] #this is in case a title has more than one number in it\n",
    "none_years_list = [] #this is to count the number of Titles that have numbers, but no Year in them.\n",
    "no_numbers_list = [] #this is to count the number of Titles that have no numbers in them. \n",
    "\n",
    "\n",
    "for title in title_list: #looping through entire titles\n",
    "    title_strings_list = [] #this will hold the strings of each title, and reset before next looping.\n",
    "    title_numbers_list = [] #this will hold the numbers from each title, and reset before next looping. \n",
    "    year_numbers_list = [] #this will hold the years between 1700 - 2019, if they exist in a title, and reset before next looping. \n",
    "    for x in title.split(): #to seperate a title into its string elements. \n",
    "        title_strings_list.append(x) \n",
    "    if hasNumbers(title_strings_list) == True: #if the strings in the title contains number\n",
    "        for y in title_strings_list:\n",
    "            if y.isdigit():\n",
    "                title_numbers_list.append(int(y)) #only appending numbers from the list\n",
    "        year_numbers_list = [i for i in title_numbers_list if 1700 < i < 2019] #only picking numbers between 1700-20019\n",
    "        if len(year_numbers_list) == 1: #if there is only one number between 1700-2019\n",
    "            year_list.append([counter, year_numbers_list[0]]) #i am adding counter to track which title correspond to which year\n",
    "        elif len(year_numbers_list) > 1: #if there are more than 1 number between 1700-2019\n",
    "            multiple_numbers_list.append(counter) #i am just compiling the list of these titles to examine them later.\n",
    "        elif len(year_numbers_list) == 0: #if there are no numbers between 1700-2019\n",
    "            none_years_list.append(counter) #i am just compiling the list of these titles to examine them later.\n",
    "    if hasNumbers(title_strings_list) == False: #if the title has numbers in it\n",
    "        no_numbers_list.append(counter) #i am just compiling the list of these titles to examine them later.\n",
    "    counter = counter + 1 #to track titles\n",
    "\n",
    "#Summary\n",
    "print(f'The last Title in the list can be broken down to following strings: {title_strings_list}.')\n",
    "print(f'The list of numbers from the last Title is(are): {title_numbers_list}.')\n",
    "print(f'The list has the following number between 1700 and 2019: {year_numbers_list}.')\n",
    "print(f'The Title is from following row, and its corresponding Year is: {year_list[len(year_list)-1]}.')\n",
    "print(f'This is the total number of titles: {len(title_list)}.')\n",
    "print(f'This is the total number of title that has single Year: {len(year_list)}.')\n",
    "print(f'This is the total number of title that has multiple Years: {len(multiple_numbers_list)}.')\n",
    "print(f'This is the total number of title that has numbers, but not Years: {len(none_years_list)}.')\n",
    "print(f'This is the total number of title that has no numbers: {len(no_numbers_list)}.')\n",
    "print(f'This is the sum of all years/non-years: {len(year_list) + len(multiple_numbers_list) + len(no_numbers_list) + len(none_years_list)}.')"
   ]
  },
  {
   "cell_type": "code",
   "execution_count": 12,
   "metadata": {},
   "outputs": [],
   "source": [
    "#Examples of Numbers that are not Years\n",
    "\n",
    "empty_list = []\n",
    "for x in range(0, 5):\n",
    "    empty_list.append(none_years_list[x])"
   ]
  },
  {
   "cell_type": "code",
   "execution_count": 13,
   "metadata": {},
   "outputs": [
    {
     "name": "stdout",
     "output_type": "stream",
     "text": [
      "Chanoine NV Tzarina No 1 Brut  (Champagne)\n",
      "Quinta dos Murças NV 10 Anos Old Tawny  (Port)\n",
      "Rare NV 4 Grape Blend Red (California)\n",
      "Marietta Cellars NV Arme Lot Number 3 Red (North Coast)\n",
      "Delaforce NV Curious & Ancient 20 Years  (Port)\n"
     ]
    }
   ],
   "source": [
    "for x in empty_list:\n",
    "    print(title_list[x])"
   ]
  },
  {
   "cell_type": "code",
   "execution_count": 12,
   "metadata": {},
   "outputs": [
    {
     "name": "stdout",
     "output_type": "stream",
     "text": [
      "This is the year for the newest Wine: 2017.\n",
      "This is the year for the oldest Wine: 1821.\n"
     ]
    }
   ],
   "source": [
    "#counting the maximum and minimum year in the new year_list\n",
    "\n",
    "just_years = [index[1] for index in year_list]\n",
    "max_year = (max(just_years))\n",
    "min_year = (min(just_years))\n",
    "\n",
    "print(f'This is the year for the newest Wine: {max_year}.')\n",
    "print(f'This is the year for the oldest Wine: {min_year}.')"
   ]
  },
  {
   "cell_type": "code",
   "execution_count": 13,
   "metadata": {},
   "outputs": [
    {
     "name": "stdout",
     "output_type": "stream",
     "text": [
      "Zolo 2017 Sustainably Farmed Estate Grown and Bottled Torrontés (Mendoza)\n",
      "Zolo 2017 Sustainably Farmed Estate Grown and Bottled Rosé (Mendoza)\n",
      "Viña Casablanca 2017 Cefiro Reserva Chardonnay (Casablanca Valley)\n",
      "Domaine Bousquet 2017 Made With Organic Grapes Sauvignon Blanc (Tupungato)\n",
      "Bouza 2017 Albariño (Montevideo)\n",
      "Santa Carolina 2017 Reserva Leyda Estate Sauvignon Blanc (Leyda Valley)\n",
      "Zolo 2017 Sustainably Farmed Estate Grown and Bottled Sauvignon Blanc (Mendoza)\n",
      "Domaine Bousquet 2017 Cameleon Made With Organic Grapes Chardonnay (Tupungato)\n",
      "Casa Perini 2017 Macaw Aromatic Soft Moscato (Serra Gaúcha)\n",
      "Domaine Bousquet 2017 Made With Organic Grapes Chardonnay (Tupungato)\n",
      "Tres Palacios 2017 Reserve Sauvignon Blanc (Maipo Valley)\n"
     ]
    }
   ],
   "source": [
    "#Double checking the titles of the wines from the year 2017. \n",
    "\n",
    "max_years = [index[0] for index in year_list if index[1] == max_year]\n",
    "\n",
    "for x in max_years:\n",
    "    print(title_list[x])"
   ]
  },
  {
   "cell_type": "code",
   "execution_count": 14,
   "metadata": {},
   "outputs": [
    {
     "name": "stdout",
     "output_type": "stream",
     "text": [
      "Zonin NV Cuvèe 1821 Brut  (Prosecco)\n",
      "Zonin NV Cuvèe 1821  (Prosecco)\n",
      "Zonin NV Cuvée 1821 Brut  (Prosecco)\n",
      "Zonin NV Cuvée 1821 Brut  (Prosecco)\n"
     ]
    }
   ],
   "source": [
    "#Double checking the titles of the wines from the year 1821. \n",
    "\n",
    "min_years = [index[0] for index in year_list if index[1] == min_year]\n",
    "\n",
    "for x in min_years:\n",
    "    print(title_list[x])"
   ]
  },
  {
   "cell_type": "markdown",
   "metadata": {},
   "source": [
    "## Unlikely these wines are from 1800. Also, most of them have the year made listed first"
   ]
  },
  {
   "cell_type": "code",
   "execution_count": 16,
   "metadata": {},
   "outputs": [
    {
     "name": "stdout",
     "output_type": "stream",
     "text": [
      "The last Title in the list can be broken down to following strings: ['Domaine', 'Schoffit', '2012', 'Lieu-dit', 'Harth', 'Cuvée', 'Caroline', 'Gewurztraminer', '(Alsace)'].\n",
      "The list of numbers from the last Title is(are): [2012].\n",
      "The list has the following number between 1700 and 2019: [2012].\n",
      "The Title is from following row, and its corresponding Year is: [129970, 2012].\n",
      "This is the total number of titles: 129971.\n",
      "This is the total number of title that has single Year: 125307.\n",
      "This is the total number of title that has multiple Years: 14.\n",
      "This is the total number of title that has numbers, but not Years: 261.\n",
      "This is the total number of title that has no numbers: 4389.\n",
      "This is the sum of all years/non-years: 129971.\n"
     ]
    }
   ],
   "source": [
    "#Re-running the for loops to look for wines made in recent years. \n",
    "\n",
    "def hasNumbers(inputString):\n",
    "    return any(char.isdigit() for char in inputString) \n",
    "\n",
    "counter = 0\n",
    "year_list = []\n",
    "multiple_numbers_list = []\n",
    "none_years_list = []\n",
    "no_numbers_list = []\n",
    "\n",
    "for title in title_list:\n",
    "    title_strings_list = []\n",
    "    title_numbers_list = []\n",
    "    year_numbers_list = []\n",
    "    for x in title.split():\n",
    "        title_strings_list.append(x)\n",
    "    if hasNumbers(title_strings_list) == True:\n",
    "        for y in title_strings_list:\n",
    "            if y.isdigit():\n",
    "                title_numbers_list.append(int(y))\n",
    "        year_numbers_list = [i for i in title_numbers_list if 1970 < i < 2019] #only looking from 1970 or newer.\n",
    "        if len(year_numbers_list) == 1:\n",
    "            year_list.append([counter, year_numbers_list[0]])\n",
    "        elif len(year_numbers_list) > 1:\n",
    "            multiple_numbers_list.append(counter)\n",
    "        elif len(year_numbers_list) == 0:\n",
    "            none_years_list.append(counter)\n",
    "    if hasNumbers(title_strings_list) == False:\n",
    "        no_numbers_list.append(counter)\n",
    "    counter = counter + 1\n",
    "\n",
    "#Summary\n",
    "print(f'The last Title in the list can be broken down to following strings: {title_strings_list}.')\n",
    "print(f'The list of numbers from the last Title is(are): {title_numbers_list}.')\n",
    "print(f'The list has the following number between 1700 and 2019: {year_numbers_list}.')\n",
    "print(f'The Title is from following row, and its corresponding Year is: {year_list[len(year_list)-1]}.')\n",
    "print(f'This is the total number of titles: {len(title_list)}.')\n",
    "print(f'This is the total number of title that has single Year: {len(year_list)}.')\n",
    "print(f'This is the total number of title that has multiple Years: {len(multiple_numbers_list)}.')\n",
    "print(f'This is the total number of title that has numbers, but not Years: {len(none_years_list)}.')\n",
    "print(f'This is the total number of title that has no numbers: {len(no_numbers_list)}.')\n",
    "print(f'This is the sum of all years/non-years: {len(year_list) + len(multiple_numbers_list) + len(no_numbers_list) + len(none_years_list)}.')"
   ]
  },
  {
   "cell_type": "markdown",
   "metadata": {},
   "source": [
    "## Only 14 wines have multiple years in their titles between 1970-2019, i will examine them further. "
   ]
  },
  {
   "cell_type": "code",
   "execution_count": 17,
   "metadata": {},
   "outputs": [
    {
     "name": "stdout",
     "output_type": "stream",
     "text": [
      "Arndorfer 2013 Von Den Terrassen 1979 Roter Veltliner (Niederösterreich)\n",
      "Owen Roe 2014 1973 Block Red Willow Vineyard Cabernet Sauvignon (Yakima Valley)\n",
      "Arndorfer 2014 Terrassen 1979 Roter Veltliner (Austria)\n",
      "Owen Roe 2010 Red Willow Vineyard 1973 Block Cabernet Sauvignon (Yakima Valley)\n",
      "Waterford 2015 Cape Winemakers Guild 1988 Kept Aside Chardonnay (Stellenbosch)\n",
      "Martinez Bujanda 1998 Conde de Valdemar Crianza 1998  (Rioja)\n",
      "Otanon 1998 Crianza 1998  (Rioja)\n",
      "Bollinger 2003 2003 by Bollinger Brut  (Champagne)\n",
      "Waterford 2016 Cape Winemakers Guild 1988 Kept Aside Chardonnay (Stellenbosch)\n",
      "Terlan 2004 Rarità 2004 Pinot Bianco (Alto Adige)\n",
      "Hermann J. Wiemer 1997 Cuvée Brut 2000  (Finger Lakes)\n",
      "Owen Roe 2008 Red Willow Vineyard 1973 Block Cabernet Sauvignon (Yakima Valley)\n",
      "Tuck Beckstoffer 2013 Est. 1975 Sauvignon Blanc (California)\n",
      "Arndorfer 2013 Von Den Terrassen 1979 Roter Veltliner (Niederösterreich)\n"
     ]
    }
   ],
   "source": [
    "#Examples of Wines that have multiple years in their titles,\n",
    "\n",
    "titles_with_multiple_years = []\n",
    "\n",
    "for x in multiple_numbers_list:\n",
    "    titles_with_multiple_years.append(title_list[x])\n",
    "\n",
    "for y in range (0, 14):\n",
    "    print(titles_with_multiple_years[y])"
   ]
  },
  {
   "cell_type": "markdown",
   "metadata": {},
   "source": [
    "## All of them have Year made listed first, except \"Hermann J. Wiemer 1997 Cuvée Brut 2000  (Finger Lakes)\""
   ]
  },
  {
   "cell_type": "code",
   "execution_count": 18,
   "metadata": {},
   "outputs": [
    {
     "data": {
      "text/plain": [
       "102843"
      ]
     },
     "execution_count": 18,
     "metadata": {},
     "output_type": "execute_result"
    }
   ],
   "source": [
    "#finding the row number for the \"Hermann J. Wiemer 1997 Cuvée Brut 2000  (Finger Lakes)\" wine. \n",
    "\n",
    "multiple_numbers_list[10]"
   ]
  },
  {
   "cell_type": "code",
   "execution_count": 19,
   "metadata": {},
   "outputs": [
    {
     "data": {
      "text/plain": [
       "'Hermann J. Wiemer 1997 Cuvée Brut 2000  (Finger Lakes)'"
      ]
     },
     "execution_count": 19,
     "metadata": {},
     "output_type": "execute_result"
    }
   ],
   "source": [
    "#verifying the Title\n",
    "title_list[102843]"
   ]
  },
  {
   "cell_type": "code",
   "execution_count": 20,
   "metadata": {},
   "outputs": [
    {
     "name": "stdout",
     "output_type": "stream",
     "text": [
      "The total number of years is: 129971.\n",
      "The total number of titles is: 129971.\n"
     ]
    }
   ],
   "source": [
    "#final run - but this time, I will just put together the list of Years and \"N/A\"\n",
    "\n",
    "def hasNumbers(inputString):\n",
    "    return any(char.isdigit() for char in inputString) \n",
    "\n",
    "counter = 0\n",
    "year_list = []\n",
    "multiple_numbers_list = []\n",
    "none_years_list = []\n",
    "no_numbers_list = []\n",
    "\n",
    "for title in title_list:\n",
    "    title_strings_list = []\n",
    "    title_numbers_list = []\n",
    "    year_numbers_list = []\n",
    "    for x in title.split():\n",
    "        title_strings_list.append(x)\n",
    "    if hasNumbers(title_strings_list) == True:\n",
    "        for y in title_strings_list:\n",
    "            if y.isdigit():\n",
    "                title_numbers_list.append(int(y))\n",
    "        year_numbers_list = [i for i in title_numbers_list if 1970 < i < 2019]\n",
    "        if len(year_numbers_list) >= 1:\n",
    "            year_list.append(year_numbers_list[0]) #All but one titles have the Year listed first. \n",
    "        #elif len(year_numbers_list) > 1:\n",
    "            #multiple_numbers_list.append(counter)\n",
    "        elif len(year_numbers_list) == 0:\n",
    "            year_list.append(\"N/A\")\n",
    "    if hasNumbers(title_strings_list) == False:\n",
    "        year_list.append(\"N/A\")\n",
    "    counter = counter + 1\n",
    "\n",
    "print(f'The total number of years is: {len(year_list)}.')\n",
    "print(f'The total number of titles is: {len(title_list)}.')  "
   ]
  },
  {
   "cell_type": "code",
   "execution_count": 22,
   "metadata": {},
   "outputs": [
    {
     "data": {
      "text/plain": [
       "2000"
      ]
     },
     "execution_count": 22,
     "metadata": {},
     "output_type": "execute_result"
    }
   ],
   "source": [
    "#replacing \"Hermann J. Wiemer 1997 Cuvée Brut 2000  (Finger Lakes)\" year from 1997 to 2000\n",
    "year_list[102843] = 2000\n",
    "\n",
    "year_list[102843]"
   ]
  },
  {
   "cell_type": "code",
   "execution_count": 23,
   "metadata": {},
   "outputs": [
    {
     "name": "stdout",
     "output_type": "stream",
     "text": [
      "1997\n",
      "N/A\n"
     ]
    }
   ],
   "source": [
    "#double checking the new years_list\n",
    "print(year_list[102842])\n",
    "print(year_list[102844])"
   ]
  },
  {
   "cell_type": "code",
   "execution_count": 24,
   "metadata": {},
   "outputs": [
    {
     "data": {
      "text/html": [
       "<div>\n",
       "<style scoped>\n",
       "    .dataframe tbody tr th:only-of-type {\n",
       "        vertical-align: middle;\n",
       "    }\n",
       "\n",
       "    .dataframe tbody tr th {\n",
       "        vertical-align: top;\n",
       "    }\n",
       "\n",
       "    .dataframe thead th {\n",
       "        text-align: right;\n",
       "    }\n",
       "</style>\n",
       "<table border=\"1\" class=\"dataframe\">\n",
       "  <thead>\n",
       "    <tr style=\"text-align: right;\">\n",
       "      <th></th>\n",
       "      <th>Unnamed: 0</th>\n",
       "      <th>country</th>\n",
       "      <th>description</th>\n",
       "      <th>designation</th>\n",
       "      <th>points</th>\n",
       "      <th>price</th>\n",
       "      <th>province</th>\n",
       "      <th>region_1</th>\n",
       "      <th>region_2</th>\n",
       "      <th>taster_name</th>\n",
       "      <th>taster_twitter_handle</th>\n",
       "      <th>title</th>\n",
       "      <th>variety</th>\n",
       "      <th>winery</th>\n",
       "      <th>year</th>\n",
       "    </tr>\n",
       "  </thead>\n",
       "  <tbody>\n",
       "    <tr>\n",
       "      <th>0</th>\n",
       "      <td>0</td>\n",
       "      <td>Italy</td>\n",
       "      <td>Aromas include tropical fruit, broom, brimston...</td>\n",
       "      <td>Vulkà Bianco</td>\n",
       "      <td>87</td>\n",
       "      <td>NaN</td>\n",
       "      <td>Sicily &amp; Sardinia</td>\n",
       "      <td>Etna</td>\n",
       "      <td>NaN</td>\n",
       "      <td>Kerin O’Keefe</td>\n",
       "      <td>@kerinokeefe</td>\n",
       "      <td>Nicosia 2013 Vulkà Bianco  (Etna)</td>\n",
       "      <td>White Blend</td>\n",
       "      <td>Nicosia</td>\n",
       "      <td>2013</td>\n",
       "    </tr>\n",
       "  </tbody>\n",
       "</table>\n",
       "</div>"
      ],
      "text/plain": [
       "   Unnamed: 0 country                                        description  \\\n",
       "0           0   Italy  Aromas include tropical fruit, broom, brimston...   \n",
       "\n",
       "    designation  points  price           province region_1 region_2  \\\n",
       "0  Vulkà Bianco      87    NaN  Sicily & Sardinia     Etna      NaN   \n",
       "\n",
       "     taster_name taster_twitter_handle                              title  \\\n",
       "0  Kerin O’Keefe          @kerinokeefe  Nicosia 2013 Vulkà Bianco  (Etna)   \n",
       "\n",
       "       variety   winery  year  \n",
       "0  White Blend  Nicosia  2013  "
      ]
     },
     "execution_count": 24,
     "metadata": {},
     "output_type": "execute_result"
    }
   ],
   "source": [
    "#adding the new list to the existing DataFrame. \n",
    "\n",
    "file[\"year\"] = year_list\n",
    "file.head(1)"
   ]
  },
  {
   "cell_type": "code",
   "execution_count": null,
   "metadata": {},
   "outputs": [],
   "source": []
  }
 ],
 "metadata": {
  "kernelspec": {
   "display_name": "Python 3",
   "language": "python",
   "name": "python3"
  },
  "language_info": {
   "codemirror_mode": {
    "name": "ipython",
    "version": 3
   },
   "file_extension": ".py",
   "mimetype": "text/x-python",
   "name": "python",
   "nbconvert_exporter": "python",
   "pygments_lexer": "ipython3",
   "version": "3.7.0"
  }
 },
 "nbformat": 4,
 "nbformat_minor": 2
}
