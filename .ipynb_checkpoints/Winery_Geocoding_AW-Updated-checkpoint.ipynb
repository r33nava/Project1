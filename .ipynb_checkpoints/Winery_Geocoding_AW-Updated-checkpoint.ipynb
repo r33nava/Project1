{
 "cells": [
  {
   "cell_type": "markdown",
   "metadata": {},
   "source": [
    "## Google Geocoding\n",
    "\n",
    "* Now that everyone has an API Key (Congratulations!), it is time to start using it!\n",
    "\n",
    "* You can utilize the Google Maps Geocoding API to turn addresses into latitudinal and longitudinal coordinates.\n",
    "\n",
    "  * This process of converting an address to coordinates is called **geocoding**.\n",
    "\n",
    "  * Since many APIs only understand locations formatted in terms of latitude/longitude, geocoding will be very valuable in translating addresses into data that APIs - like the Google Places API - can understand.\n",
    "\n",
    "    * Google's API is not free and if credit card information is provided, Google will charge past a certain usage point. **It is a good idea to avoid pushing your API key to github by using adding the `config.py` to their `.gitignore` file or using environment variables.**"
   ]
  },
  {
   "cell_type": "code",
   "execution_count": null,
   "metadata": {},
   "outputs": [],
   "source": [
    "# Dependencies\n",
    "import requests\n",
    "import json\n",
    "import pandas as pd\n",
    "\n",
    "from pprint import pprint\n",
    "\n",
    "# Google developer API key\n",
    "import sys\n",
    "sys.path.append('../..')\n",
    "from config import gkey\n",
    "from config import owm_api\n",
    "\n",
    "\n",
    "file = pd.read_csv(\"winedata.csv\")\n",
    "\n",
    "file.head()"
   ]
  },
  {
   "cell_type": "code",
   "execution_count": null,
   "metadata": {},
   "outputs": [],
   "source": [
    "file[\"winery name\"] = file[\"winery\"] + \" Winery\"\n",
    "file.head()"
   ]
  },
  {
   "cell_type": "code",
   "execution_count": null,
   "metadata": {},
   "outputs": [],
   "source": [
    "#For test purposes, just looking at one country\n",
    "just_brazil = file.loc[file[\"country\"]==\"Brazil\"]"
   ]
  },
  {
   "cell_type": "code",
   "execution_count": null,
   "metadata": {},
   "outputs": [],
   "source": [
    "# Target location\n",
    "\n",
    "winery_response =[]\n",
    "\n",
    "# Run API calls for each winery in list\n",
    "for winery in just_brazil[\"winery name\"]:\n",
    "\n",
    "    target_location = winery + \" \" + just_brazil[\"country\"]\n",
    "    \n",
    "    # Build the endpoint URL\n",
    "    target_url = ('https://maps.googleapis.com/maps/api/geocode/json?'\n",
    "    'address={0}&key={1}').format(target_location, gkey)\n",
    "    \n",
    "    # Run a request to endpoint and convert result to json\n",
    "    geo_data = requests.get(target_url).json()\n",
    "   \n",
    "    # Add response to our list\n",
    "    winery_response.append(geo_data)        "
   ]
  },
  {
   "cell_type": "code",
   "execution_count": null,
   "metadata": {},
   "outputs": [],
   "source": [
    "# Collect and store latitude and longitude for each winery\n",
    "#winery_list = []\n",
    "lat = []\n",
    "lng = []\n",
    "\n",
    "i=0\n",
    "\n",
    "# Loop through wineries and append coordinate lists\n",
    "for w in winery_response:\n",
    "    try:\n",
    "        latitude = winery_response[i][\"results\"][0][\"geometry\"][\"location\"][\"lat\"]\n",
    "        longitude = winery_response[i][\"results\"][0][\"geometry\"][\"location\"][\"lng\"]\n",
    "        \n",
    "  #      winery_list.append(w)\n",
    "        lat.append(latitude)\n",
    "        lng.append(longitude)\n",
    "        \n",
    "        i = i+1\n",
    "    except:\n",
    "        lat.append(\"lat error\")\n",
    "        lng.append(\"lng error\")\n",
    "    \n",
    "        i = i+1"
   ]
  },
  {
   "cell_type": "code",
   "execution_count": null,
   "metadata": {},
   "outputs": [],
   "source": [
    "# Add coordinates to dataframe\n",
    "just_brazil[\"latitude\"] = lat\n",
    "just_brazil[\"longitude\"] = lng"
   ]
  },
  {
   "cell_type": "code",
   "execution_count": null,
   "metadata": {},
   "outputs": [],
   "source": [
    "# Drop rows without location data\n",
    "#just_brazil = just_brazil.loc[just_brazil[\"latitude\"] != \"na\"]\n",
    "just_brazil"
   ]
  },
  {
   "cell_type": "code",
   "execution_count": null,
   "metadata": {},
   "outputs": [],
   "source": [
    "import gmaps\n",
    "import numpy as np\n",
    "\n",
    "\n",
    "# Configure gmaps with API key\n",
    "gmaps.configure(api_key=gkey)\n",
    "\n",
    "\n",
    "# Store 'Lat' and 'Lng' into  locations \n",
    "locations = just_brazil[[\"latitude\", \"longitude\"]].astype(float)"
   ]
  },
  {
   "cell_type": "code",
   "execution_count": null,
   "metadata": {
    "scrolled": true
   },
   "outputs": [],
   "source": [
    "# Create winery symbol layer\n",
    "winery_layer = gmaps.marker_layer(\n",
    "    locations\n",
    ")\n",
    "\n",
    "\n",
    "fig = gmaps.figure()\n",
    "fig.add_layer(winery_layer)\n",
    "\n",
    "fig"
   ]
  },
  {
   "cell_type": "code",
   "execution_count": null,
   "metadata": {},
   "outputs": [],
   "source": [
    "from config import weather_api\n",
    "\n",
    "weather_url = \"http://api.worldweatheronline.com/premium/v1/past-weather.ashx?q=\" "
   ]
  },
  {
   "cell_type": "code",
   "execution_count": null,
   "metadata": {},
   "outputs": [],
   "source": [
    "type(just_brazil[[\"longitude\", \"latitude\"]])\n",
    "brazil_coords = just_brazil[[\"longitude\", \"latitude\"]]\n",
    "type(brazil_coords.iloc[1,1])"
   ]
  },
  {
   "cell_type": "code",
   "execution_count": null,
   "metadata": {},
   "outputs": [],
   "source": [
    "latitude_float = [float(x) for x in brazil_coords[\"latitude\"]]\n",
    "\n",
    "brazil_coords[\"latitude\"] = latitude_float\n",
    "\n",
    "type(brazil_coords.iloc[1,1])"
   ]
  },
  {
   "cell_type": "code",
   "execution_count": null,
   "metadata": {},
   "outputs": [],
   "source": [
    "# Northern hemisphere growing season weather lists\n",
    "jul = []\n",
    "aug = []\n",
    "sep = []\n",
    "\n",
    "# Southern hemisphere growing season weather lists\n",
    "jan = []\n",
    "feb = []\n",
    "mar = []\n",
    "\n",
    "# Loop through wineries and append weather lists\n",
    "\n",
    "\n",
    "for index, row in brazil_coords.iterrows():\n",
    "#    try:\n",
    "        if row[\"latitude\"] < 0:\n",
    "            latit = (row[\"latitude\"])\n",
    "            longi = (row[\"longitude\"])\n",
    "        \n",
    " # Run a request to endpoint and convert result to json\n",
    "            jul_weather = requests.get(f\"{weather_url}{lat},{lng}&key={weather_api}&date=2011-07-01&enddate=2011-07-31&tp=24&format=json\").json()\n",
    "            aug_weather = requests.get(f\"{weather_url}{lat},{lng}&key={weather_api}&date=2011-08-01&enddate=2011-08-31&tp=24&format=json\").json()\n",
    "            sep_weather = requests.get(f\"{weather_url}{lat},{lng}&key={weather_api}&date=2011-09-01&enddate=2011-09-30&tp=24&format=json\").json()\n",
    "                \n",
    "            jul.append(jul_weather)\n",
    "            aug.append(aug_weather)\n",
    "            sep.append(sep_weather)\n",
    "            \n",
    "            print(\"working\")\n",
    "        \n",
    "#    except:\n",
    "#        jul.append(\"error\")\n",
    "#        aug.append(\"error\")\n",
    "#        sep.append(\"error\")\n",
    "        \n",
    "        print(\"not working\")\n",
    "        else:\n",
    "#            try:\n",
    "                latit = (row[\"latitude\"])\n",
    "                longi = (row[\"longitude\"])\n",
    "\n",
    "                jan_weather = requests.get(f\"{weather_url}{lat},{lng}&key={weather_api}&date=2011-01-01&enddate=2011-01-31&tp=24&format=json\").json()\n",
    "                feb_weather = requests.get(f\"{weather_url}{lat},{lng}&key={weather_api}&date=2011-02-01&enddate=2011-02-28&tp=24&format=json\").json()\n",
    "                mar_weather = requests.get(f\"{weather_url}{lat},{lng}&key={weather_api}&date=2011-03-01&enddate=2011-03-31&tp=24&format=json\").json()\n",
    "\n",
    "                jan.append(jul_weather)\n",
    "                feb.append(aug_weather)\n",
    "                mar.append(sep_weather)\n",
    "\n",
    "                print(\"working\")\n",
    " #           except:\n",
    " #               jan.append(\"error\")\n",
    "  #              feb.append(\"error\")\n",
    "   #             mar.append(\"error\")   \n",
    "\n",
    "    #            print(\"not working\")\n",
    "\n",
    "                    \n",
    "       "
   ]
  },
  {
   "cell_type": "code",
   "execution_count": null,
   "metadata": {},
   "outputs": [],
   "source": []
  }
 ],
 "metadata": {
  "anaconda-cloud": {},
  "kernelspec": {
   "display_name": "Python 3",
   "language": "python",
   "name": "python3"
  },
  "language_info": {
   "codemirror_mode": {
    "name": "ipython",
    "version": 3
   },
   "file_extension": ".py",
   "mimetype": "text/x-python",
   "name": "python",
   "nbconvert_exporter": "python",
   "pygments_lexer": "ipython3",
   "version": "3.7.0"
  }
 },
 "nbformat": 4,
 "nbformat_minor": 2
}
