{
 "cells": [
  {
   "cell_type": "code",
   "execution_count": 64,
   "metadata": {},
   "outputs": [],
   "source": [
    "import pandas as pd"
   ]
  },
  {
   "cell_type": "code",
   "execution_count": 65,
   "metadata": {},
   "outputs": [],
   "source": [
    "def summarize(dataframe):\n",
    "    return pd.DataFrame({\"Total Number of Wine Reviews\" : [len(dataframe['Title'].unique())],\n",
    "                \"Total Number of Wineries\": [len(dataframe['Winery'].unique())],\n",
    "                \"Total Number of Provinces\": [len(dataframe['Province'].unique())],\n",
    "                \"Total Number of Countries\": [len(dataframe['Country'].unique())],\n",
    "                \"Total Number of Years\" : [len(dataframe['Year'].unique())],\n",
    "                \"Total Number of Tasters\": [len(dataframe['Taster'].unique())]})"
   ]
  },
  {
   "cell_type": "code",
   "execution_count": 66,
   "metadata": {},
   "outputs": [
    {
     "data": {
      "text/html": [
       "<div>\n",
       "<style scoped>\n",
       "    .dataframe tbody tr th:only-of-type {\n",
       "        vertical-align: middle;\n",
       "    }\n",
       "\n",
       "    .dataframe tbody tr th {\n",
       "        vertical-align: top;\n",
       "    }\n",
       "\n",
       "    .dataframe thead th {\n",
       "        text-align: right;\n",
       "    }\n",
       "</style>\n",
       "<table border=\"1\" class=\"dataframe\">\n",
       "  <thead>\n",
       "    <tr style=\"text-align: right;\">\n",
       "      <th></th>\n",
       "      <th>Title</th>\n",
       "      <th>Variety</th>\n",
       "      <th>Year</th>\n",
       "      <th>Price</th>\n",
       "      <th>Grade</th>\n",
       "      <th>Winery</th>\n",
       "      <th>Province</th>\n",
       "      <th>Region</th>\n",
       "      <th>Country</th>\n",
       "      <th>Taster</th>\n",
       "      <th>Taster_Twitter</th>\n",
       "      <th>Description</th>\n",
       "      <th>Latitude</th>\n",
       "      <th>Longitude</th>\n",
       "    </tr>\n",
       "  </thead>\n",
       "  <tbody>\n",
       "    <tr>\n",
       "      <th>0</th>\n",
       "      <td>Quinta dos Avidagos 2011 Avidagos Red (Douro)</td>\n",
       "      <td>Portuguese Red</td>\n",
       "      <td>2011</td>\n",
       "      <td>15.0</td>\n",
       "      <td>87</td>\n",
       "      <td>Quinta dos Avidagos</td>\n",
       "      <td>Douro</td>\n",
       "      <td>NaN</td>\n",
       "      <td>Portugal</td>\n",
       "      <td>Roger Voss</td>\n",
       "      <td>@vossroger</td>\n",
       "      <td>This is ripe and fruity, a wine that is smooth...</td>\n",
       "      <td>41.512019</td>\n",
       "      <td>-5.492255</td>\n",
       "    </tr>\n",
       "  </tbody>\n",
       "</table>\n",
       "</div>"
      ],
      "text/plain": [
       "                                           Title         Variety  Year  Price  \\\n",
       "0  Quinta dos Avidagos 2011 Avidagos Red (Douro)  Portuguese Red  2011   15.0   \n",
       "\n",
       "   Grade               Winery Province Region   Country      Taster  \\\n",
       "0     87  Quinta dos Avidagos    Douro    NaN  Portugal  Roger Voss   \n",
       "\n",
       "  Taster_Twitter                                        Description  \\\n",
       "0     @vossroger  This is ripe and fruity, a wine that is smooth...   \n",
       "\n",
       "    Latitude  Longitude  \n",
       "0  41.512019  -5.492255  "
      ]
     },
     "execution_count": 66,
     "metadata": {},
     "output_type": "execute_result"
    }
   ],
   "source": [
    "merged_df_csv = pd.read_csv(\"winedata_coord.csv\")\n",
    "merged_df_csv = merged_df_csv.drop(columns=[\"Unnamed: 0\"])\n",
    "merged_df_csv.head(1)"
   ]
  },
  {
   "cell_type": "code",
   "execution_count": 67,
   "metadata": {},
   "outputs": [
    {
     "data": {
      "text/html": [
       "<div>\n",
       "<style scoped>\n",
       "    .dataframe tbody tr th:only-of-type {\n",
       "        vertical-align: middle;\n",
       "    }\n",
       "\n",
       "    .dataframe tbody tr th {\n",
       "        vertical-align: top;\n",
       "    }\n",
       "\n",
       "    .dataframe thead th {\n",
       "        text-align: right;\n",
       "    }\n",
       "</style>\n",
       "<table border=\"1\" class=\"dataframe\">\n",
       "  <thead>\n",
       "    <tr style=\"text-align: right;\">\n",
       "      <th></th>\n",
       "      <th>Total Number of Wine Reviews</th>\n",
       "      <th>Total Number of Wineries</th>\n",
       "      <th>Total Number of Provinces</th>\n",
       "      <th>Total Number of Countries</th>\n",
       "      <th>Total Number of Years</th>\n",
       "      <th>Total Number of Tasters</th>\n",
       "    </tr>\n",
       "  </thead>\n",
       "  <tbody>\n",
       "    <tr>\n",
       "      <th>0</th>\n",
       "      <td>100740</td>\n",
       "      <td>14474</td>\n",
       "      <td>215</td>\n",
       "      <td>12</td>\n",
       "      <td>13</td>\n",
       "      <td>18</td>\n",
       "    </tr>\n",
       "  </tbody>\n",
       "</table>\n",
       "</div>"
      ],
      "text/plain": [
       "   Total Number of Wine Reviews  Total Number of Wineries  \\\n",
       "0                        100740                     14474   \n",
       "\n",
       "   Total Number of Provinces  Total Number of Countries  \\\n",
       "0                        215                         12   \n",
       "\n",
       "   Total Number of Years  Total Number of Tasters  \n",
       "0                     13                       18  "
      ]
     },
     "execution_count": 67,
     "metadata": {},
     "output_type": "execute_result"
    }
   ],
   "source": [
    "summarize(merged_df_csv)"
   ]
  },
  {
   "cell_type": "code",
   "execution_count": 68,
   "metadata": {},
   "outputs": [
    {
     "data": {
      "text/plain": [
       "101085"
      ]
     },
     "execution_count": 68,
     "metadata": {},
     "output_type": "execute_result"
    }
   ],
   "source": [
    "wine_varieties = merged_df_csv[\"Variety\"]\n",
    "len(wine_varieties)"
   ]
  },
  {
   "cell_type": "code",
   "execution_count": 69,
   "metadata": {},
   "outputs": [
    {
     "data": {
      "text/plain": [
       "578"
      ]
     },
     "execution_count": 69,
     "metadata": {},
     "output_type": "execute_result"
    }
   ],
   "source": [
    "len(wine_varieties.unique())"
   ]
  },
  {
   "cell_type": "code",
   "execution_count": 70,
   "metadata": {},
   "outputs": [
    {
     "data": {
      "text/plain": [
       "Pinot Noir                      11307\n",
       "Chardonnay                       9343\n",
       "Cabernet Sauvignon               8135\n",
       "Red Blend                        7086\n",
       "Bordeaux-style Red Blend         4739\n",
       "Riesling                         4260\n",
       "Sauvignon Blanc                  4091\n",
       "Syrah                            3620\n",
       "Rosé                             2852\n",
       "Merlot                           2524\n",
       "Malbec                           2357\n",
       "Zinfandel                        2332\n",
       "Nebbiolo                         2107\n",
       "Sangiovese                       2005\n",
       "Portuguese Red                   1983\n",
       "White Blend                      1648\n",
       "Tempranillo                      1565\n",
       "Rhône-style Red Blend            1227\n",
       "Pinot Gris                       1217\n",
       "Cabernet Franc                   1136\n",
       "Portuguese White                  894\n",
       "Viognier                          882\n",
       "Grüner Veltliner                  853\n",
       "Pinot Grigio                      845\n",
       "Gewürztraminer                    838\n",
       "Gamay                             745\n",
       "Sparkling Blend                   697\n",
       "Petite Sirah                      680\n",
       "Shiraz                            662\n",
       "Bordeaux-style White Blend        626\n",
       "                                ...  \n",
       "Merlot-Syrah                        1\n",
       "Moscato di Noto                     1\n",
       "Muscat of Alexandria                1\n",
       "Albanello                           1\n",
       "Pinot Blanc-Viognier                1\n",
       "Barbera-Nebbiolo                    1\n",
       "Garnacha-Cabernet                   1\n",
       "Cercial                             1\n",
       "Favorita                            1\n",
       "Torontel                            1\n",
       "Lambrusco Salamino                  1\n",
       "Groppello                           1\n",
       "Ondenc                              1\n",
       "Merseguera-Sauvignon Blanc          1\n",
       "Vespaiolo                           1\n",
       "Picapoll                            1\n",
       "Syrah-Bonarda                       1\n",
       "Cococciola                          1\n",
       "Tinta Amarela                       1\n",
       "Syrah-Grenache-Viognier             1\n",
       "Pinot Blanc-Pinot Noir              1\n",
       "Merlot-Shiraz                       1\n",
       "Torbato                             1\n",
       "Vermentino Nero                     1\n",
       "Albarossa                           1\n",
       "Blauburgunder                       1\n",
       "St. Vincent                         1\n",
       "Biancolella                         1\n",
       "Maria Gomes-Bical                   1\n",
       "Muscat Blanc à Petits Grains        1\n",
       "Name: Variety, Length: 578, dtype: int64"
      ]
     },
     "execution_count": 70,
     "metadata": {},
     "output_type": "execute_result"
    }
   ],
   "source": [
    "wine_varieties.value_counts()"
   ]
  },
  {
   "cell_type": "code",
   "execution_count": 74,
   "metadata": {},
   "outputs": [
    {
     "data": {
      "text/plain": [
       "['Merlot-Shiraz']"
      ]
     },
     "execution_count": 74,
     "metadata": {},
     "output_type": "execute_result"
    }
   ],
   "source": [
    "[\"Merlot-Shiraz\", \"Syrah-Grenache-Viognier\"]"
   ]
  },
  {
   "cell_type": "code",
   "execution_count": 71,
   "metadata": {},
   "outputs": [],
   "source": [
    "wine_type = []\n",
    "\n",
    "index = 0\n",
    "\n",
    "for variety in wine_varieties:\n",
    "    wine_variety_strings = []\n",
    "    for string in variety.split():\n",
    "        wine_variety_strings.append(string.lower())\n",
    "    if \"red\" in wine_variety_strings:\n",
    "        wine_type.append(\"Red Wine\")\n",
    "    elif \"white\" in wine_variety_strings:\n",
    "        wine_type.append(\"White Wine\")\n",
    "    elif \"pinot\"in wine_variety_strings:\n",
    "        wine_type.append(\"Red Wine\")\n",
    "    else:\n",
    "        wine_type.append(\"TBD\")\n",
    "\n",
    "    index = index + 1\n"
   ]
  },
  {
   "cell_type": "code",
   "execution_count": 72,
   "metadata": {},
   "outputs": [
    {
     "data": {
      "text/html": [
       "<div>\n",
       "<style scoped>\n",
       "    .dataframe tbody tr th:only-of-type {\n",
       "        vertical-align: middle;\n",
       "    }\n",
       "\n",
       "    .dataframe tbody tr th {\n",
       "        vertical-align: top;\n",
       "    }\n",
       "\n",
       "    .dataframe thead th {\n",
       "        text-align: right;\n",
       "    }\n",
       "</style>\n",
       "<table border=\"1\" class=\"dataframe\">\n",
       "  <thead>\n",
       "    <tr style=\"text-align: right;\">\n",
       "      <th></th>\n",
       "      <th>0</th>\n",
       "    </tr>\n",
       "  </thead>\n",
       "  <tbody>\n",
       "    <tr>\n",
       "      <th>0</th>\n",
       "      <td>Red Wine</td>\n",
       "    </tr>\n",
       "    <tr>\n",
       "      <th>1</th>\n",
       "      <td>White Wine</td>\n",
       "    </tr>\n",
       "    <tr>\n",
       "      <th>2</th>\n",
       "      <td>Red Wine</td>\n",
       "    </tr>\n",
       "    <tr>\n",
       "      <th>3</th>\n",
       "      <td>Red Wine</td>\n",
       "    </tr>\n",
       "    <tr>\n",
       "      <th>4</th>\n",
       "      <td>Red Wine</td>\n",
       "    </tr>\n",
       "  </tbody>\n",
       "</table>\n",
       "</div>"
      ],
      "text/plain": [
       "            0\n",
       "0    Red Wine\n",
       "1  White Wine\n",
       "2    Red Wine\n",
       "3    Red Wine\n",
       "4    Red Wine"
      ]
     },
     "execution_count": 72,
     "metadata": {},
     "output_type": "execute_result"
    }
   ],
   "source": [
    "wine_type_df = pd.DataFrame(wine_type)\n",
    "wine_type_df.head()"
   ]
  },
  {
   "cell_type": "code",
   "execution_count": 73,
   "metadata": {},
   "outputs": [
    {
     "data": {
      "text/plain": [
       "TBD           68282\n",
       "Red Wine      29133\n",
       "White Wine     3670\n",
       "Name: 0, dtype: int64"
      ]
     },
     "execution_count": 73,
     "metadata": {},
     "output_type": "execute_result"
    }
   ],
   "source": [
    "wine_type_df = pd.DataFrame(wine_type)\n",
    "wine_type_df[0].value_counts()"
   ]
  },
  {
   "cell_type": "code",
   "execution_count": null,
   "metadata": {},
   "outputs": [],
   "source": [
    "for row in merged_df_csv.itertuples():\n",
    "    \n",
    "    "
   ]
  },
  {
   "cell_type": "code",
   "execution_count": null,
   "metadata": {},
   "outputs": [],
   "source": [
    "for index, row in merged_df_csv.iterrows():\n",
    "    if \"Red\" in row[\"Variety\"]:\n",
    "        merged_df_csv.loc[index, \"Type\"] = \"Red Wine\""
   ]
  },
  {
   "cell_type": "code",
   "execution_count": null,
   "metadata": {},
   "outputs": [],
   "source": [
    "summarize(merged_df_csv)"
   ]
  },
  {
   "cell_type": "code",
   "execution_count": null,
   "metadata": {},
   "outputs": [],
   "source": []
  }
 ],
 "metadata": {
  "kernelspec": {
   "display_name": "Python 3",
   "language": "python",
   "name": "python3"
  },
  "language_info": {
   "codemirror_mode": {
    "name": "ipython",
    "version": 3
   },
   "file_extension": ".py",
   "mimetype": "text/x-python",
   "name": "python",
   "nbconvert_exporter": "python",
   "pygments_lexer": "ipython3",
   "version": "3.7.0"
  }
 },
 "nbformat": 4,
 "nbformat_minor": 2
}
