{
 "cells": [
  {
   "cell_type": "markdown",
   "metadata": {},
   "source": [
    "## Google Geocoding\n",
    "\n",
    "* Now that everyone has an API Key (Congratulations!), it is time to start using it!\n",
    "\n",
    "* You can utilize the Google Maps Geocoding API to turn addresses into latitudinal and longitudinal coordinates.\n",
    "\n",
    "  * This process of converting an address to coordinates is called **geocoding**.\n",
    "\n",
    "  * Since many APIs only understand locations formatted in terms of latitude/longitude, geocoding will be very valuable in translating addresses into data that APIs - like the Google Places API - can understand.\n",
    "\n",
    "    * Google's API is not free and if credit card information is provided, Google will charge past a certain usage point. **It is a good idea to avoid pushing your API key to github by using adding the `config.py` to their `.gitignore` file or using environment variables.**"
   ]
  },
  {
   "cell_type": "code",
   "execution_count": 281,
   "metadata": {},
   "outputs": [
    {
     "data": {
      "text/html": [
       "<div>\n",
       "<style scoped>\n",
       "    .dataframe tbody tr th:only-of-type {\n",
       "        vertical-align: middle;\n",
       "    }\n",
       "\n",
       "    .dataframe tbody tr th {\n",
       "        vertical-align: top;\n",
       "    }\n",
       "\n",
       "    .dataframe thead th {\n",
       "        text-align: right;\n",
       "    }\n",
       "</style>\n",
       "<table border=\"1\" class=\"dataframe\">\n",
       "  <thead>\n",
       "    <tr style=\"text-align: right;\">\n",
       "      <th></th>\n",
       "      <th>Unnamed: 0</th>\n",
       "      <th>country</th>\n",
       "      <th>description</th>\n",
       "      <th>designation</th>\n",
       "      <th>points</th>\n",
       "      <th>price</th>\n",
       "      <th>province</th>\n",
       "      <th>region_1</th>\n",
       "      <th>region_2</th>\n",
       "      <th>taster_name</th>\n",
       "      <th>taster_twitter_handle</th>\n",
       "      <th>title</th>\n",
       "      <th>variety</th>\n",
       "      <th>winery</th>\n",
       "    </tr>\n",
       "  </thead>\n",
       "  <tbody>\n",
       "    <tr>\n",
       "      <th>0</th>\n",
       "      <td>0</td>\n",
       "      <td>Italy</td>\n",
       "      <td>Aromas include tropical fruit, broom, brimston...</td>\n",
       "      <td>Vulkà Bianco</td>\n",
       "      <td>87</td>\n",
       "      <td>NaN</td>\n",
       "      <td>Sicily &amp; Sardinia</td>\n",
       "      <td>Etna</td>\n",
       "      <td>NaN</td>\n",
       "      <td>Kerin O’Keefe</td>\n",
       "      <td>@kerinokeefe</td>\n",
       "      <td>Nicosia 2013 Vulkà Bianco  (Etna)</td>\n",
       "      <td>White Blend</td>\n",
       "      <td>Nicosia</td>\n",
       "    </tr>\n",
       "    <tr>\n",
       "      <th>1</th>\n",
       "      <td>1</td>\n",
       "      <td>Portugal</td>\n",
       "      <td>This is ripe and fruity, a wine that is smooth...</td>\n",
       "      <td>Avidagos</td>\n",
       "      <td>87</td>\n",
       "      <td>15.0</td>\n",
       "      <td>Douro</td>\n",
       "      <td>NaN</td>\n",
       "      <td>NaN</td>\n",
       "      <td>Roger Voss</td>\n",
       "      <td>@vossroger</td>\n",
       "      <td>Quinta dos Avidagos 2011 Avidagos Red (Douro)</td>\n",
       "      <td>Portuguese Red</td>\n",
       "      <td>Quinta dos Avidagos</td>\n",
       "    </tr>\n",
       "    <tr>\n",
       "      <th>2</th>\n",
       "      <td>2</td>\n",
       "      <td>US</td>\n",
       "      <td>Tart and snappy, the flavors of lime flesh and...</td>\n",
       "      <td>NaN</td>\n",
       "      <td>87</td>\n",
       "      <td>14.0</td>\n",
       "      <td>Oregon</td>\n",
       "      <td>Willamette Valley</td>\n",
       "      <td>Willamette Valley</td>\n",
       "      <td>Paul Gregutt</td>\n",
       "      <td>@paulgwine</td>\n",
       "      <td>Rainstorm 2013 Pinot Gris (Willamette Valley)</td>\n",
       "      <td>Pinot Gris</td>\n",
       "      <td>Rainstorm</td>\n",
       "    </tr>\n",
       "    <tr>\n",
       "      <th>3</th>\n",
       "      <td>3</td>\n",
       "      <td>US</td>\n",
       "      <td>Pineapple rind, lemon pith and orange blossom ...</td>\n",
       "      <td>Reserve Late Harvest</td>\n",
       "      <td>87</td>\n",
       "      <td>13.0</td>\n",
       "      <td>Michigan</td>\n",
       "      <td>Lake Michigan Shore</td>\n",
       "      <td>NaN</td>\n",
       "      <td>Alexander Peartree</td>\n",
       "      <td>NaN</td>\n",
       "      <td>St. Julian 2013 Reserve Late Harvest Riesling ...</td>\n",
       "      <td>Riesling</td>\n",
       "      <td>St. Julian</td>\n",
       "    </tr>\n",
       "    <tr>\n",
       "      <th>4</th>\n",
       "      <td>4</td>\n",
       "      <td>US</td>\n",
       "      <td>Much like the regular bottling from 2012, this...</td>\n",
       "      <td>Vintner's Reserve Wild Child Block</td>\n",
       "      <td>87</td>\n",
       "      <td>65.0</td>\n",
       "      <td>Oregon</td>\n",
       "      <td>Willamette Valley</td>\n",
       "      <td>Willamette Valley</td>\n",
       "      <td>Paul Gregutt</td>\n",
       "      <td>@paulgwine</td>\n",
       "      <td>Sweet Cheeks 2012 Vintner's Reserve Wild Child...</td>\n",
       "      <td>Pinot Noir</td>\n",
       "      <td>Sweet Cheeks</td>\n",
       "    </tr>\n",
       "  </tbody>\n",
       "</table>\n",
       "</div>"
      ],
      "text/plain": [
       "   Unnamed: 0   country                                        description  \\\n",
       "0           0     Italy  Aromas include tropical fruit, broom, brimston...   \n",
       "1           1  Portugal  This is ripe and fruity, a wine that is smooth...   \n",
       "2           2        US  Tart and snappy, the flavors of lime flesh and...   \n",
       "3           3        US  Pineapple rind, lemon pith and orange blossom ...   \n",
       "4           4        US  Much like the regular bottling from 2012, this...   \n",
       "\n",
       "                          designation  points  price           province  \\\n",
       "0                        Vulkà Bianco      87    NaN  Sicily & Sardinia   \n",
       "1                            Avidagos      87   15.0              Douro   \n",
       "2                                 NaN      87   14.0             Oregon   \n",
       "3                Reserve Late Harvest      87   13.0           Michigan   \n",
       "4  Vintner's Reserve Wild Child Block      87   65.0             Oregon   \n",
       "\n",
       "              region_1           region_2         taster_name  \\\n",
       "0                 Etna                NaN       Kerin O’Keefe   \n",
       "1                  NaN                NaN          Roger Voss   \n",
       "2    Willamette Valley  Willamette Valley        Paul Gregutt   \n",
       "3  Lake Michigan Shore                NaN  Alexander Peartree   \n",
       "4    Willamette Valley  Willamette Valley        Paul Gregutt   \n",
       "\n",
       "  taster_twitter_handle                                              title  \\\n",
       "0          @kerinokeefe                  Nicosia 2013 Vulkà Bianco  (Etna)   \n",
       "1            @vossroger      Quinta dos Avidagos 2011 Avidagos Red (Douro)   \n",
       "2           @paulgwine       Rainstorm 2013 Pinot Gris (Willamette Valley)   \n",
       "3                   NaN  St. Julian 2013 Reserve Late Harvest Riesling ...   \n",
       "4           @paulgwine   Sweet Cheeks 2012 Vintner's Reserve Wild Child...   \n",
       "\n",
       "          variety               winery  \n",
       "0     White Blend              Nicosia  \n",
       "1  Portuguese Red  Quinta dos Avidagos  \n",
       "2      Pinot Gris            Rainstorm  \n",
       "3        Riesling           St. Julian  \n",
       "4      Pinot Noir         Sweet Cheeks  "
      ]
     },
     "execution_count": 281,
     "metadata": {},
     "output_type": "execute_result"
    }
   ],
   "source": [
    "# Dependencies\n",
    "import requests\n",
    "import json\n",
    "import pandas as pd\n",
    "\n",
    "from pprint import pprint\n",
    "\n",
    "file = pd.read_csv(\"winemag-data-130k-v2.csv\")\n",
    "\n",
    "file.head()\n"
   ]
  },
  {
   "cell_type": "code",
   "execution_count": 282,
   "metadata": {},
   "outputs": [
    {
     "data": {
      "text/plain": [
       "['G7 2012 The 7th Generation Gran Reserva Estate Bottled Cabernet Sauvignon (Loncomilla Valley)',\n",
       " 'Alta Colina 2012 Old 900 Syrah (Paso Robles)',\n",
       " 'Prospect 772 2014 Stepping Stones Grenache Blanc (Santa Barbara County)',\n",
       " '5 Mini Series of 424',\n",
       " 'Best wine ever!']"
      ]
     },
     "execution_count": 282,
     "metadata": {},
     "output_type": "execute_result"
    }
   ],
   "source": [
    "test0 = \"G7 2012 The 7th Generation Gran Reserva Estate Bottled Cabernet Sauvignon (Loncomilla Valley)\"\n",
    "test2 = \"Alta Colina 2012 Old 900 Syrah (Paso Robles)\"\n",
    "test3 = \"Prospect 772 2014 Stepping Stones Grenache Blanc (Santa Barbara County)\"\n",
    "test4 = \"5 Mini Series of 424\"\n",
    "test5 = \"Best wine ever!\"\n",
    "\n",
    "testing = []\n",
    "\n",
    "testing.append(test0)\n",
    "testing.append(test2)\n",
    "testing.append(test3)\n",
    "testing.append(test4)\n",
    "testing.append(test5)\n",
    "\n",
    "testing\n"
   ]
  },
  {
   "cell_type": "code",
   "execution_count": 283,
   "metadata": {},
   "outputs": [
    {
     "name": "stdout",
     "output_type": "stream",
     "text": [
      "10\n",
      "9\n",
      "20\n",
      "30\n"
     ]
    }
   ],
   "source": [
    "list = [10, 9, 20, 30]\n",
    "\n",
    "for x in list:\n",
    "    print(x)"
   ]
  },
  {
   "cell_type": "code",
   "execution_count": 284,
   "metadata": {},
   "outputs": [
    {
     "data": {
      "text/plain": [
       "[20, 30]"
      ]
     },
     "execution_count": 284,
     "metadata": {},
     "output_type": "execute_result"
    }
   ],
   "source": [
    "list = [10, 9, 20, 30]\n",
    "new_list = []\n",
    "\n",
    "#any(x > 19 for x in list)\n",
    "\n",
    "if (any(x > 19 for x in list)) == True:\n",
    "    numbers = [i for i in list if i >19]\n",
    "    for x in range (0, len(numbers)):\n",
    "        new_list.append(numbers[x])\n",
    "\n",
    "new_list\n"
   ]
  },
  {
   "cell_type": "code",
   "execution_count": 285,
   "metadata": {},
   "outputs": [],
   "source": [
    "def hasNumbers(inputString):\n",
    "    return any(char.isdigit() for char in inputString) "
   ]
  },
  {
   "cell_type": "code",
   "execution_count": 286,
   "metadata": {},
   "outputs": [
    {
     "data": {
      "text/plain": [
       "['G7 2012 The 7th Generation Gran Reserva Estate Bottled Cabernet Sauvignon (Loncomilla Valley)',\n",
       " 'Alta Colina 2012 Old 900 Syrah (Paso Robles)',\n",
       " 'Prospect 772 2014 Stepping Stones Grenache Blanc (Santa Barbara County)',\n",
       " '5 Mini Series of 424',\n",
       " 'Best wine ever!']"
      ]
     },
     "execution_count": 286,
     "metadata": {},
     "output_type": "execute_result"
    }
   ],
   "source": [
    "testing"
   ]
  },
  {
   "cell_type": "code",
   "execution_count": 287,
   "metadata": {},
   "outputs": [
    {
     "name": "stdout",
     "output_type": "stream",
     "text": [
      "['G7', '2012', 'The', '7th', 'Generation', 'Gran', 'Reserva', 'Estate', 'Bottled', 'Cabernet', 'Sauvignon', '(Loncomilla', 'Valley)']\n",
      "[2012]\n",
      "[2012]\n",
      "G7 2012 The 7th Generation Gran Reserva Estate Bottled Cabernet Sauvignon (Loncomilla Valley)\n",
      "['Alta', 'Colina', '2012', 'Old', '900', 'Syrah', '(Paso', 'Robles)']\n",
      "[2012, 900]\n",
      "[2012]\n",
      "Alta Colina 2012 Old 900 Syrah (Paso Robles)\n",
      "['Prospect', '772', '2014', 'Stepping', 'Stones', 'Grenache', 'Blanc', '(Santa', 'Barbara', 'County)']\n",
      "[772, 2014]\n",
      "[2014]\n",
      "Prospect 772 2014 Stepping Stones Grenache Blanc (Santa Barbara County)\n",
      "['5', 'Mini', 'Series', 'of', '424']\n",
      "[5, 424]\n",
      "[]\n",
      "5 Mini Series of 424\n",
      "['Best', 'wine', 'ever!']\n",
      "[]\n",
      "[]\n",
      "Best wine ever!\n",
      "129976\n",
      "[2012, 2012, 2014, 'N/A', 'N/A']\n"
     ]
    }
   ],
   "source": [
    "testing_list = []\n",
    "\n",
    "for string in testing:\n",
    "    internal_list = []\n",
    "    internal_list2 = []\n",
    "    numbers = []\n",
    "    for x in string.split():\n",
    "        internal_list.append(x)\n",
    "    if hasNumbers(internal_list) == True:\n",
    "        for y in internal_list:\n",
    "            if y.isdigit():\n",
    "                internal_list2.append(int(y))\n",
    "        numbers = [i for i in internal_list2 if i > 1900]\n",
    "        if len(numbers) == 1:\n",
    "            testing_list.append(numbers[0])\n",
    "        elif len(numbers) == 0:\n",
    "            testing_list.append(\"N/A\")\n",
    "    if hasNumbers(internal_list) == False:\n",
    "        testing_list.append(\"N/A\")\n",
    "    \n",
    "    \n",
    "    print(internal_list)\n",
    "    print(internal_list2)\n",
    "    print(numbers)\n",
    "\n",
    "    print (string)\n",
    "    counter = counter + 1\n",
    "\n",
    "print(counter)\n",
    "print(testing_list)"
   ]
  },
  {
   "cell_type": "code",
   "execution_count": 294,
   "metadata": {},
   "outputs": [
    {
     "data": {
      "text/plain": [
       "'Nicosia 2013 Vulkà Bianco  (Etna)'"
      ]
     },
     "execution_count": 294,
     "metadata": {},
     "output_type": "execute_result"
    }
   ],
   "source": [
    "title_list = [title for title in file[\"title\"]]\n",
    "year_list = []\n",
    "\n",
    "title_list[0]"
   ]
  },
  {
   "cell_type": "code",
   "execution_count": 293,
   "metadata": {},
   "outputs": [
    {
     "name": "stdout",
     "output_type": "stream",
     "text": [
      "['Best', 'wine', 'ever!']\n",
      "[]\n",
      "[]\n"
     ]
    }
   ],
   "source": [
    "counter = 0\n",
    "\n",
    "for title in title_list:\n",
    "    title_strings_list = []\n",
    "    title_numbers_list = []\n",
    "    year_numbers = []\n",
    "    for x in string.split():\n",
    "        title_strings_list.append(x)\n",
    "    if hasNumbers(title_strings_list) == True:\n",
    "        for y in title_strings_list:\n",
    "            if y.isdigit():\n",
    "                title_numbers_list.append(int(y))\n",
    "        year_numbers = [i for i in internal_list2 if i > 1900]\n",
    "        if len(year_numbers) == 1:\n",
    "            year_list.append(numbers[0])\n",
    "        elif len(year_numbers) == 0:\n",
    "            year_list.append(\"N/A\")\n",
    "    if hasNumbers(title_strings_list) == False:\n",
    "        year_list.append(\"N/A\")\n",
    "    counter = counter + 1\n",
    "\n",
    "print(title_strings_list)\n",
    "print(title_numbers_list)\n",
    "print(year_numbers)"
   ]
  },
  {
   "cell_type": "code",
   "execution_count": 292,
   "metadata": {},
   "outputs": [
    {
     "data": {
      "text/plain": [
       "'N/A'"
      ]
     },
     "execution_count": 292,
     "metadata": {},
     "output_type": "execute_result"
    }
   ],
   "source": []
  },
  {
   "cell_type": "code",
   "execution_count": 186,
   "metadata": {},
   "outputs": [
    {
     "name": "stdout",
     "output_type": "stream",
     "text": [
      "[2012, 2012, 900, 772, 2014, 5, 424]\n",
      "[]\n"
     ]
    }
   ],
   "source": [
    "testing_list = []\n",
    "\n",
    "for string in testing:\n",
    "    for x in string.split():\n",
    "        if x.isdigit():\n",
    "            internal_list.append(int(x))\n",
    "            \n",
    "            \n",
    "    #if (any (x > 1900 for x in internal_list)) == True:\n",
    "        #numbers = [i for i in internal_list if i >1900]\n",
    "        #for x in range (0, len(numbers)):\n",
    "            #testing_list.append(numbers[x])\n",
    "\n",
    "    \n",
    "print(internal_list)\n",
    "print(testing_list)\n",
    "            #if (any (x > 1900 for x in internal_list)) == True:\n",
    "                #testing_list.append(x)\n",
    "            #elif (any (x > 1900 for x in internal_list)) == False:\n",
    "                #testing_list.append(\"N/A\")\n",
    "\n",
    "#testing_list\n",
    "\n",
    "            "
   ]
  },
  {
   "cell_type": "code",
   "execution_count": 124,
   "metadata": {},
   "outputs": [
    {
     "data": {
      "text/plain": [
       "[2012,\n",
       " 2012,\n",
       " 900,\n",
       " 772,\n",
       " 2014,\n",
       " 5,\n",
       " 424,\n",
       " 2012,\n",
       " 2012,\n",
       " 900,\n",
       " 772,\n",
       " 2014,\n",
       " 5,\n",
       " 424,\n",
       " 2012,\n",
       " 2012,\n",
       " 900,\n",
       " 772,\n",
       " 2014,\n",
       " 5,\n",
       " 424,\n",
       " 2012,\n",
       " 2012,\n",
       " 900,\n",
       " 772,\n",
       " 2014,\n",
       " 5,\n",
       " 424]"
      ]
     },
     "execution_count": 124,
     "metadata": {},
     "output_type": "execute_result"
    }
   ],
   "source": [
    "testing_list =[]\n",
    "\n",
    "def hasNumbers(inputString):\n",
    "    return any(char.isdigit() for char in inputString) \n",
    "\n",
    "for string in testing:\n",
    "    #internal_check = []\n",
    "    \n",
    "    #if hasNumbers(string) == False:\n",
    "        #testing_list.append(\"N/A\")\n",
    "        \n",
    "        \n",
    "    if hasNumbers(string) == True:\n",
    "        for x in string.split():\n",
    "            if x.isdigit():\n",
    "                internal_check.append(int(x))\n",
    "                \n",
    "        if (any (y > 1900) for y in internal_check) == False:\n",
    "            testing_list.append(\"N/A\")\n",
    "\n",
    "        if (any (y > 1900) for y in internal_check) == True:\n",
    "            if y in interal_check > 1900 in internal_check:\n",
    "                testing_list.append(y)\n",
    "\n",
    "\n",
    "internal_check\n"
   ]
  },
  {
   "cell_type": "code",
   "execution_count": 127,
   "metadata": {},
   "outputs": [
    {
     "data": {
      "text/plain": [
       "[2012, 2012, 2014, 'N/A']"
      ]
     },
     "execution_count": 127,
     "metadata": {},
     "output_type": "execute_result"
    }
   ],
   "source": [
    "testing\n",
    "\n",
    "testing_list =[]\n",
    "\n",
    "def hasNumbers(inputString):\n",
    "    return any(char.isdigit() for char in inputString) \n",
    "\n",
    "for string in testing:\n",
    "    if hasNumbers(string) == True:\n",
    "        for x in string.split():\n",
    "            if x.isdigit() and int(x) > 1950:\n",
    "                testing_list.append(int(x))\n",
    "                break\n",
    "            #else: \n",
    "                #year_list.append(\"N/A\")\n",
    "    else:\n",
    "            testing_list.append(\"N/A\")\n",
    "            \n",
    "testing_list"
   ]
  },
  {
   "cell_type": "code",
   "execution_count": 123,
   "metadata": {},
   "outputs": [
    {
     "name": "stdout",
     "output_type": "stream",
     "text": [
      "129971\n",
      "125336\n",
      "4275\n",
      "129611\n"
     ]
    }
   ],
   "source": [
    "##This is for Parsing the Year out of Title\n",
    "\n",
    "title_list = [title for title in file[\"title\"]]\n",
    "#print(year_list[0])\n",
    "#print(len(title_list))\n",
    "\n",
    "year_list = []\n",
    "test_list = []\n",
    "\n",
    "def hasNumbers(inputString):\n",
    "    return any(char.isdigit() for char in inputString) \n",
    "\n",
    "for string in title_list:\n",
    "    if hasNumbers(string) == True:\n",
    "        for x in string.split():\n",
    "            if x.isdigit() and int(x) > 1950:\n",
    "                year_list.append(int(x))\n",
    "                break\n",
    "            #else: \n",
    "                #year_list.append(\"N/A\")\n",
    "    else:\n",
    "            test_list.append(\"N/A\")\n",
    "\n",
    "\n",
    "print(len(title_list))\n",
    "print(len(year_list))\n",
    "print(len(test_list))\n",
    "\n",
    "total = len(year_list) + len(test_list)\n",
    "print(total)"
   ]
  },
  {
   "cell_type": "code",
   "execution_count": null,
   "metadata": {},
   "outputs": [],
   "source": [
    "for string in title_list:\n",
    "    for x in string.split():\n",
    "        if x.isdigit():\n",
    "            year_list.append(int(x))\n",
    "\n",
    "\n",
    "\n",
    "def hasNumbers(inputString):\n",
    "    return any(char.isdigit() for char in inputString) \n",
    "\n",
    "hasNumbers(\"St. Julian 2013 Reserve Late Harvest Riesling (Lake Michigan Shore)\")\n",
    "hasNumbers(\"Collet NV Brut Ros√©  (Champagne)\")\n",
    "            \n",
    "#test = [\"Nicosia 2013 Vulk√† Bianco  (Etna)\", \"Quinta dos Avidagos 2011 Avidagos Red (Douro)\", \n",
    "        #\"Rainstorm 2013 Pinot Gris (Willamette Valley)\", \n",
    "        #\"St. Julian 2013 Reserve Late Harvest Riesling (Lake Michigan Shore)\"]\n",
    "#for string in test:\n",
    "    #for s in string.split():\n",
    "        #if s.isdigit():\n",
    "            #list.append(int(s))\n",
    "        \n",
    "#list\n",
    "\n",
    "#print(\"test\")"
   ]
  },
  {
   "cell_type": "code",
   "execution_count": 10,
   "metadata": {},
   "outputs": [
    {
     "ename": "NameError",
     "evalue": "name 'gkey' is not defined",
     "output_type": "error",
     "traceback": [
      "\u001b[1;31m---------------------------------------------------------------------------\u001b[0m",
      "\u001b[1;31mNameError\u001b[0m                                 Traceback (most recent call last)",
      "\u001b[1;32m<ipython-input-10-a1e523094996>\u001b[0m in \u001b[0;36m<module>\u001b[1;34m()\u001b[0m\n\u001b[0;32m      7\u001b[0m     \u001b[1;31m# Build the endpoint URL\u001b[0m\u001b[1;33m\u001b[0m\u001b[1;33m\u001b[0m\u001b[0m\n\u001b[0;32m      8\u001b[0m     target_url = ('https://maps.googleapis.com/maps/api/geocode/json?'\n\u001b[1;32m----> 9\u001b[1;33m     'address={0}&key={1}').format(target_location, gkey)\n\u001b[0m\u001b[0;32m     10\u001b[0m \u001b[1;33m\u001b[0m\u001b[0m\n\u001b[0;32m     11\u001b[0m     \u001b[0mprint\u001b[0m\u001b[1;33m(\u001b[0m\u001b[0mtarget_url\u001b[0m\u001b[1;33m)\u001b[0m\u001b[1;33m\u001b[0m\u001b[0m\n",
      "\u001b[1;31mNameError\u001b[0m: name 'gkey' is not defined"
     ]
    }
   ],
   "source": [
    "# Target location\n",
    "\n",
    "for winery in file[\"winery name\"]:\n",
    "\n",
    "    target_location = winery\n",
    "    \n",
    "    # Build the endpoint URL\n",
    "    target_url = ('https://maps.googleapis.com/maps/api/geocode/json?'\n",
    "    'address={0}&key={1}').format(target_location, gkey)\n",
    "    \n",
    "    print(target_url)"
   ]
  },
  {
   "cell_type": "code",
   "execution_count": 1,
   "metadata": {},
   "outputs": [
    {
     "ename": "ModuleNotFoundError",
     "evalue": "No module named 'config'",
     "output_type": "error",
     "traceback": [
      "\u001b[1;31m---------------------------------------------------------------------------\u001b[0m",
      "\u001b[1;31mModuleNotFoundError\u001b[0m                       Traceback (most recent call last)",
      "\u001b[1;32m<ipython-input-1-d42c2849e9d4>\u001b[0m in \u001b[0;36m<module>\u001b[1;34m()\u001b[0m\n\u001b[0;32m      8\u001b[0m \u001b[1;32mimport\u001b[0m \u001b[0msys\u001b[0m\u001b[1;33m\u001b[0m\u001b[0m\n\u001b[0;32m      9\u001b[0m \u001b[0msys\u001b[0m\u001b[1;33m.\u001b[0m\u001b[0mpath\u001b[0m\u001b[1;33m.\u001b[0m\u001b[0mappend\u001b[0m\u001b[1;33m(\u001b[0m\u001b[1;34m'../../../..'\u001b[0m\u001b[1;33m)\u001b[0m\u001b[1;33m\u001b[0m\u001b[0m\n\u001b[1;32m---> 10\u001b[1;33m \u001b[1;32mfrom\u001b[0m \u001b[0mconfig\u001b[0m \u001b[1;32mimport\u001b[0m \u001b[0mgkey\u001b[0m\u001b[1;33m\u001b[0m\u001b[0m\n\u001b[0m\u001b[0;32m     11\u001b[0m \u001b[1;33m\u001b[0m\u001b[0m\n\u001b[0;32m     12\u001b[0m \u001b[1;31m# Target location\u001b[0m\u001b[1;33m\u001b[0m\u001b[1;33m\u001b[0m\u001b[0m\n",
      "\u001b[1;31mModuleNotFoundError\u001b[0m: No module named 'config'"
     ]
    }
   ],
   "source": [
    "target_location = win\n",
    "    \n",
    "    \n",
    "    \n",
    "# Build the endpoint URL\n",
    "target_url = ('https://maps.googleapis.com/maps/api/geocode/json?'\n",
    "    'address={0}&key={1}').format(target_location, gkey)"
   ]
  },
  {
   "cell_type": "code",
   "execution_count": null,
   "metadata": {},
   "outputs": [],
   "source": []
  },
  {
   "cell_type": "markdown",
   "metadata": {},
   "source": [
    "* **Reminder**: printing the url will also expose your API key. While it is useful for demonstration purposes here, it should be avoided in projects and homework.\n",
    "\n",
    "* This may be the first time you have seen string substitutions. I will explain."
   ]
  },
  {
   "cell_type": "code",
   "execution_count": 10,
   "metadata": {},
   "outputs": [
    {
     "name": "stdout",
     "output_type": "stream",
     "text": [
      "{'results': [{'address_components': [{'long_name': '436',\n",
      "                                      'short_name': '436',\n",
      "                                      'types': ['street_number']},\n",
      "                                     {'long_name': 'Saint Helena Highway',\n",
      "                                      'short_name': 'St Helena Hwy',\n",
      "                                      'types': ['route']},\n",
      "                                     {'long_name': 'Saint Helena',\n",
      "                                      'short_name': 'St Helena',\n",
      "                                      'types': ['locality', 'political']},\n",
      "                                     {'long_name': 'Napa County',\n",
      "                                      'short_name': 'Napa County',\n",
      "                                      'types': ['administrative_area_level_2',\n",
      "                                                'political']},\n",
      "                                     {'long_name': 'California',\n",
      "                                      'short_name': 'CA',\n",
      "                                      'types': ['administrative_area_level_1',\n",
      "                                                'political']},\n",
      "                                     {'long_name': 'United States',\n",
      "                                      'short_name': 'US',\n",
      "                                      'types': ['country', 'political']},\n",
      "                                     {'long_name': '94574',\n",
      "                                      'short_name': '94574',\n",
      "                                      'types': ['postal_code']}],\n",
      "              'formatted_address': '436 St Helena Hwy, St Helena, CA 94574, '\n",
      "                                   'USA',\n",
      "              'geometry': {'location': {'lat': 38.4906878, 'lng': -122.4508595},\n",
      "                           'location_type': 'ROOFTOP',\n",
      "                           'viewport': {'northeast': {'lat': 38.4920367802915,\n",
      "                                                      'lng': -122.4495105197085},\n",
      "                                        'southwest': {'lat': 38.4893388197085,\n",
      "                                                      'lng': -122.4522084802915}}},\n",
      "              'place_id': 'ChIJoz5zRBpXhIARg_oVkE29dEg',\n",
      "              'plus_code': {'compound_code': 'FGRX+7M Thoman, California, '\n",
      "                                             'United States',\n",
      "                            'global_code': '84CVFGRX+7M'},\n",
      "              'types': ['establishment', 'food', 'point_of_interest']},\n",
      "             {'address_components': [{'long_name': '436',\n",
      "                                      'short_name': '436',\n",
      "                                      'types': ['street_number']},\n",
      "                                     {'long_name': 'Saint Helena Highway',\n",
      "                                      'short_name': 'St Helena Hwy',\n",
      "                                      'types': ['route']},\n",
      "                                     {'long_name': 'Saint Helena',\n",
      "                                      'short_name': 'St Helena',\n",
      "                                      'types': ['locality', 'political']},\n",
      "                                     {'long_name': 'Napa County',\n",
      "                                      'short_name': 'Napa County',\n",
      "                                      'types': ['administrative_area_level_2',\n",
      "                                                'political']},\n",
      "                                     {'long_name': 'California',\n",
      "                                      'short_name': 'CA',\n",
      "                                      'types': ['administrative_area_level_1',\n",
      "                                                'political']},\n",
      "                                     {'long_name': 'United States',\n",
      "                                      'short_name': 'US',\n",
      "                                      'types': ['country', 'political']},\n",
      "                                     {'long_name': '94574',\n",
      "                                      'short_name': '94574',\n",
      "                                      'types': ['postal_code']}],\n",
      "              'formatted_address': '436 St Helena Hwy, St Helena, CA 94574, '\n",
      "                                   'USA',\n",
      "              'geometry': {'location': {'lat': 38.498193, 'lng': -122.460822},\n",
      "                           'location_type': 'ROOFTOP',\n",
      "                           'viewport': {'northeast': {'lat': 38.4995419802915,\n",
      "                                                      'lng': -122.4594730197085},\n",
      "                                        'southwest': {'lat': 38.4968440197085,\n",
      "                                                      'lng': -122.4621709802915}}},\n",
      "              'place_id': 'ChIJne9SmcdQhIARoo9JoQoeogA',\n",
      "              'plus_code': {'compound_code': 'FGXQ+7M Saint Helena, '\n",
      "                                             'California, United States',\n",
      "                            'global_code': '84CVFGXQ+7M'},\n",
      "              'types': ['establishment', 'food', 'point_of_interest']}],\n",
      " 'status': 'OK'}\n"
     ]
    }
   ],
   "source": [
    "# Run a request to endpoint and convert result to json\n",
    "geo_data = requests.get(target_url).json()\n",
    "\n",
    "# Pretty print the json\n",
    "pprint(geo_data)"
   ]
  },
  {
   "cell_type": "code",
   "execution_count": 11,
   "metadata": {},
   "outputs": [
    {
     "name": "stdout",
     "output_type": "stream",
     "text": [
      "{\n",
      "    \"results\": [\n",
      "        {\n",
      "            \"address_components\": [\n",
      "                {\n",
      "                    \"long_name\": \"436\",\n",
      "                    \"short_name\": \"436\",\n",
      "                    \"types\": [\n",
      "                        \"street_number\"\n",
      "                    ]\n",
      "                },\n",
      "                {\n",
      "                    \"long_name\": \"Saint Helena Highway\",\n",
      "                    \"short_name\": \"St Helena Hwy\",\n",
      "                    \"types\": [\n",
      "                        \"route\"\n",
      "                    ]\n",
      "                },\n",
      "                {\n",
      "                    \"long_name\": \"Saint Helena\",\n",
      "                    \"short_name\": \"St Helena\",\n",
      "                    \"types\": [\n",
      "                        \"locality\",\n",
      "                        \"political\"\n",
      "                    ]\n",
      "                },\n",
      "                {\n",
      "                    \"long_name\": \"Napa County\",\n",
      "                    \"short_name\": \"Napa County\",\n",
      "                    \"types\": [\n",
      "                        \"administrative_area_level_2\",\n",
      "                        \"political\"\n",
      "                    ]\n",
      "                },\n",
      "                {\n",
      "                    \"long_name\": \"California\",\n",
      "                    \"short_name\": \"CA\",\n",
      "                    \"types\": [\n",
      "                        \"administrative_area_level_1\",\n",
      "                        \"political\"\n",
      "                    ]\n",
      "                },\n",
      "                {\n",
      "                    \"long_name\": \"United States\",\n",
      "                    \"short_name\": \"US\",\n",
      "                    \"types\": [\n",
      "                        \"country\",\n",
      "                        \"political\"\n",
      "                    ]\n",
      "                },\n",
      "                {\n",
      "                    \"long_name\": \"94574\",\n",
      "                    \"short_name\": \"94574\",\n",
      "                    \"types\": [\n",
      "                        \"postal_code\"\n",
      "                    ]\n",
      "                }\n",
      "            ],\n",
      "            \"formatted_address\": \"436 St Helena Hwy, St Helena, CA 94574, USA\",\n",
      "            \"geometry\": {\n",
      "                \"location\": {\n",
      "                    \"lat\": 38.4906878,\n",
      "                    \"lng\": -122.4508595\n",
      "                },\n",
      "                \"location_type\": \"ROOFTOP\",\n",
      "                \"viewport\": {\n",
      "                    \"northeast\": {\n",
      "                        \"lat\": 38.4920367802915,\n",
      "                        \"lng\": -122.4495105197085\n",
      "                    },\n",
      "                    \"southwest\": {\n",
      "                        \"lat\": 38.4893388197085,\n",
      "                        \"lng\": -122.4522084802915\n",
      "                    }\n",
      "                }\n",
      "            },\n",
      "            \"place_id\": \"ChIJoz5zRBpXhIARg_oVkE29dEg\",\n",
      "            \"plus_code\": {\n",
      "                \"compound_code\": \"FGRX+7M Thoman, California, United States\",\n",
      "                \"global_code\": \"84CVFGRX+7M\"\n",
      "            },\n",
      "            \"types\": [\n",
      "                \"establishment\",\n",
      "                \"food\",\n",
      "                \"point_of_interest\"\n",
      "            ]\n",
      "        },\n",
      "        {\n",
      "            \"address_components\": [\n",
      "                {\n",
      "                    \"long_name\": \"436\",\n",
      "                    \"short_name\": \"436\",\n",
      "                    \"types\": [\n",
      "                        \"street_number\"\n",
      "                    ]\n",
      "                },\n",
      "                {\n",
      "                    \"long_name\": \"Saint Helena Highway\",\n",
      "                    \"short_name\": \"St Helena Hwy\",\n",
      "                    \"types\": [\n",
      "                        \"route\"\n",
      "                    ]\n",
      "                },\n",
      "                {\n",
      "                    \"long_name\": \"Saint Helena\",\n",
      "                    \"short_name\": \"St Helena\",\n",
      "                    \"types\": [\n",
      "                        \"locality\",\n",
      "                        \"political\"\n",
      "                    ]\n",
      "                },\n",
      "                {\n",
      "                    \"long_name\": \"Napa County\",\n",
      "                    \"short_name\": \"Napa County\",\n",
      "                    \"types\": [\n",
      "                        \"administrative_area_level_2\",\n",
      "                        \"political\"\n",
      "                    ]\n",
      "                },\n",
      "                {\n",
      "                    \"long_name\": \"California\",\n",
      "                    \"short_name\": \"CA\",\n",
      "                    \"types\": [\n",
      "                        \"administrative_area_level_1\",\n",
      "                        \"political\"\n",
      "                    ]\n",
      "                },\n",
      "                {\n",
      "                    \"long_name\": \"United States\",\n",
      "                    \"short_name\": \"US\",\n",
      "                    \"types\": [\n",
      "                        \"country\",\n",
      "                        \"political\"\n",
      "                    ]\n",
      "                },\n",
      "                {\n",
      "                    \"long_name\": \"94574\",\n",
      "                    \"short_name\": \"94574\",\n",
      "                    \"types\": [\n",
      "                        \"postal_code\"\n",
      "                    ]\n",
      "                }\n",
      "            ],\n",
      "            \"formatted_address\": \"436 St Helena Hwy, St Helena, CA 94574, USA\",\n",
      "            \"geometry\": {\n",
      "                \"location\": {\n",
      "                    \"lat\": 38.498193,\n",
      "                    \"lng\": -122.460822\n",
      "                },\n",
      "                \"location_type\": \"ROOFTOP\",\n",
      "                \"viewport\": {\n",
      "                    \"northeast\": {\n",
      "                        \"lat\": 38.4995419802915,\n",
      "                        \"lng\": -122.4594730197085\n",
      "                    },\n",
      "                    \"southwest\": {\n",
      "                        \"lat\": 38.4968440197085,\n",
      "                        \"lng\": -122.4621709802915\n",
      "                    }\n",
      "                }\n",
      "            },\n",
      "            \"place_id\": \"ChIJne9SmcdQhIARoo9JoQoeogA\",\n",
      "            \"plus_code\": {\n",
      "                \"compound_code\": \"FGXQ+7M Saint Helena, California, United States\",\n",
      "                \"global_code\": \"84CVFGXQ+7M\"\n",
      "            },\n",
      "            \"types\": [\n",
      "                \"establishment\",\n",
      "                \"food\",\n",
      "                \"point_of_interest\"\n",
      "            ]\n",
      "        }\n",
      "    ],\n",
      "    \"status\": \"OK\"\n",
      "}\n"
     ]
    }
   ],
   "source": [
    "# Print the json (using json.dumps)\n",
    "print(json.dumps(geo_data, indent=4, sort_keys=True))"
   ]
  },
  {
   "cell_type": "code",
   "execution_count": 12,
   "metadata": {},
   "outputs": [
    {
     "name": "stdout",
     "output_type": "stream",
     "text": [
      "\n",
      "    City: Heitz Winery\n",
      "    Latitude: 38.4906878\n",
      "    Longitude: -122.4508595\n",
      "    \n"
     ]
    }
   ],
   "source": [
    "# Extract latitude and longitude\n",
    "lat = geo_data[\"results\"][0][\"geometry\"][\"location\"][\"lat\"]\n",
    "lng = geo_data[\"results\"][0][\"geometry\"][\"location\"][\"lng\"]\n",
    "\n",
    "# Print the latitude and longitude\n",
    "print('''\n",
    "    Winery: {0}\n",
    "    Latitude: {1}\n",
    "    Longitude: {2}\n",
    "    '''.format(target_location, lat, lng))"
   ]
  },
  {
   "cell_type": "markdown",
   "metadata": {},
   "source": [
    "* Now that we have finished, feel free to visit the [Google Maps Geocoding API](https://developers.google.com/maps/documentation/geocoding/start) documentation page and how the code created is effectively the same as what's expressed in the documentation.\n",
    "\n",
    "  * It's easy to be intimidated by code documentation but with a little practice it becomes simple to comprehend!"
   ]
  }
 ],
 "metadata": {
  "anaconda-cloud": {},
  "kernelspec": {
   "display_name": "Python 3",
   "language": "python",
   "name": "python3"
  },
  "language_info": {
   "codemirror_mode": {
    "name": "ipython",
    "version": 3
   },
   "file_extension": ".py",
   "mimetype": "text/x-python",
   "name": "python",
   "nbconvert_exporter": "python",
   "pygments_lexer": "ipython3",
   "version": "3.7.0"
  }
 },
 "nbformat": 4,
 "nbformat_minor": 2
}
