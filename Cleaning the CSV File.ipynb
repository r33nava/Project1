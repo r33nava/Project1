{
 "cells": [
  {
   "cell_type": "code",
   "execution_count": 2,
   "metadata": {},
   "outputs": [],
   "source": [
    "import pandas as pd\n",
    "import sys\n",
    "import requests\n",
    "import json\n",
    "from pprint import pprint\n",
    "\n",
    "\n",
    "#importing the google api key from a folder config\n",
    "sys.path.append('../..')\n",
    "from config import google_api_key"
   ]
  },
  {
   "cell_type": "code",
   "execution_count": 3,
   "metadata": {},
   "outputs": [
    {
     "data": {
      "text/html": [
       "<div>\n",
       "<style scoped>\n",
       "    .dataframe tbody tr th:only-of-type {\n",
       "        vertical-align: middle;\n",
       "    }\n",
       "\n",
       "    .dataframe tbody tr th {\n",
       "        vertical-align: top;\n",
       "    }\n",
       "\n",
       "    .dataframe thead th {\n",
       "        text-align: right;\n",
       "    }\n",
       "</style>\n",
       "<table border=\"1\" class=\"dataframe\">\n",
       "  <thead>\n",
       "    <tr style=\"text-align: right;\">\n",
       "      <th></th>\n",
       "      <th>Unnamed: 0</th>\n",
       "      <th>country</th>\n",
       "      <th>description</th>\n",
       "      <th>designation</th>\n",
       "      <th>points</th>\n",
       "      <th>price</th>\n",
       "      <th>province</th>\n",
       "      <th>region_1</th>\n",
       "      <th>region_2</th>\n",
       "      <th>taster_name</th>\n",
       "      <th>taster_twitter_handle</th>\n",
       "      <th>title</th>\n",
       "      <th>variety</th>\n",
       "      <th>winery</th>\n",
       "    </tr>\n",
       "  </thead>\n",
       "  <tbody>\n",
       "    <tr>\n",
       "      <th>0</th>\n",
       "      <td>0</td>\n",
       "      <td>Italy</td>\n",
       "      <td>Aromas include tropical fruit, broom, brimston...</td>\n",
       "      <td>Vulkà Bianco</td>\n",
       "      <td>87</td>\n",
       "      <td>NaN</td>\n",
       "      <td>Sicily &amp; Sardinia</td>\n",
       "      <td>Etna</td>\n",
       "      <td>NaN</td>\n",
       "      <td>Kerin O’Keefe</td>\n",
       "      <td>@kerinokeefe</td>\n",
       "      <td>Nicosia 2013 Vulkà Bianco  (Etna)</td>\n",
       "      <td>White Blend</td>\n",
       "      <td>Nicosia</td>\n",
       "    </tr>\n",
       "  </tbody>\n",
       "</table>\n",
       "</div>"
      ],
      "text/plain": [
       "   Unnamed: 0 country                                        description  \\\n",
       "0           0   Italy  Aromas include tropical fruit, broom, brimston...   \n",
       "\n",
       "    designation  points  price           province region_1 region_2  \\\n",
       "0  Vulkà Bianco      87    NaN  Sicily & Sardinia     Etna      NaN   \n",
       "\n",
       "     taster_name taster_twitter_handle                              title  \\\n",
       "0  Kerin O’Keefe          @kerinokeefe  Nicosia 2013 Vulkà Bianco  (Etna)   \n",
       "\n",
       "       variety   winery  \n",
       "0  White Blend  Nicosia  "
      ]
     },
     "execution_count": 3,
     "metadata": {},
     "output_type": "execute_result"
    }
   ],
   "source": [
    "#importing the original CSV file\n",
    "\n",
    "original_csv_file = pd.read_csv(\"winedata.csv\")\n",
    "original_csv_file.head(1)"
   ]
  },
  {
   "cell_type": "code",
   "execution_count": 4,
   "metadata": {},
   "outputs": [
    {
     "name": "stdout",
     "output_type": "stream",
     "text": [
      "Total number of wine review is: 129971.\n"
     ]
    }
   ],
   "source": [
    "#Checking the number of wine reviews from the original CSV file\n",
    "\n",
    "print(f'Total number of wine review is: {len(original_csv_file[\"title\"])}.')"
   ]
  },
  {
   "cell_type": "code",
   "execution_count": 5,
   "metadata": {},
   "outputs": [],
   "source": [
    "#parsing out a year from the title & adding a new column consisting of years. \n",
    "##Refer back to \"parsing_year\" Jupyter Notebook file to see the vertification for this process.\n",
    "\n",
    "title_list = [title for title in original_csv_file[\"title\"]]\n",
    "\n",
    "def hasNumbers(inputString):\n",
    "    return any(char.isdigit() for char in inputString) \n",
    "\n",
    "year_list = []\n",
    "\n",
    "for title in title_list:\n",
    "    title_strings_list = []\n",
    "    title_numbers_list = []\n",
    "    year_numbers_list = []\n",
    "    for x in title.split():\n",
    "        title_strings_list.append(x)\n",
    "    if hasNumbers(title_strings_list) == True:\n",
    "        for y in title_strings_list:\n",
    "            if y.isdigit():\n",
    "                title_numbers_list.append(int(y))\n",
    "        year_numbers_list = [i for i in title_numbers_list if 1970 < i < 2019]\n",
    "        if len(year_numbers_list) >= 1:\n",
    "            year_list.append(year_numbers_list[0])\n",
    "        elif len(year_numbers_list) == 0:\n",
    "            year_list.append(\"N/A\")\n",
    "    if hasNumbers(title_strings_list) == False:\n",
    "        year_list.append(\"N/A\")\n",
    "\n",
    "year_list[102843] = 2000 #this one Title is an exception, refer back to \"parsing_year\" file for more info    "
   ]
  },
  {
   "cell_type": "code",
   "execution_count": 6,
   "metadata": {},
   "outputs": [
    {
     "name": "stdout",
     "output_type": "stream",
     "text": [
      "Total number of wine review is: 129971.\n"
     ]
    },
    {
     "data": {
      "text/html": [
       "<div>\n",
       "<style scoped>\n",
       "    .dataframe tbody tr th:only-of-type {\n",
       "        vertical-align: middle;\n",
       "    }\n",
       "\n",
       "    .dataframe tbody tr th {\n",
       "        vertical-align: top;\n",
       "    }\n",
       "\n",
       "    .dataframe thead th {\n",
       "        text-align: right;\n",
       "    }\n",
       "</style>\n",
       "<table border=\"1\" class=\"dataframe\">\n",
       "  <thead>\n",
       "    <tr style=\"text-align: right;\">\n",
       "      <th></th>\n",
       "      <th>Unnamed: 0</th>\n",
       "      <th>country</th>\n",
       "      <th>description</th>\n",
       "      <th>designation</th>\n",
       "      <th>points</th>\n",
       "      <th>price</th>\n",
       "      <th>province</th>\n",
       "      <th>region_1</th>\n",
       "      <th>region_2</th>\n",
       "      <th>taster_name</th>\n",
       "      <th>taster_twitter_handle</th>\n",
       "      <th>title</th>\n",
       "      <th>variety</th>\n",
       "      <th>winery</th>\n",
       "      <th>year</th>\n",
       "    </tr>\n",
       "  </thead>\n",
       "  <tbody>\n",
       "    <tr>\n",
       "      <th>0</th>\n",
       "      <td>0</td>\n",
       "      <td>Italy</td>\n",
       "      <td>Aromas include tropical fruit, broom, brimston...</td>\n",
       "      <td>Vulkà Bianco</td>\n",
       "      <td>87</td>\n",
       "      <td>NaN</td>\n",
       "      <td>Sicily &amp; Sardinia</td>\n",
       "      <td>Etna</td>\n",
       "      <td>NaN</td>\n",
       "      <td>Kerin O’Keefe</td>\n",
       "      <td>@kerinokeefe</td>\n",
       "      <td>Nicosia 2013 Vulkà Bianco  (Etna)</td>\n",
       "      <td>White Blend</td>\n",
       "      <td>Nicosia</td>\n",
       "      <td>2013</td>\n",
       "    </tr>\n",
       "  </tbody>\n",
       "</table>\n",
       "</div>"
      ],
      "text/plain": [
       "   Unnamed: 0 country                                        description  \\\n",
       "0           0   Italy  Aromas include tropical fruit, broom, brimston...   \n",
       "\n",
       "    designation  points  price           province region_1 region_2  \\\n",
       "0  Vulkà Bianco      87    NaN  Sicily & Sardinia     Etna      NaN   \n",
       "\n",
       "     taster_name taster_twitter_handle                              title  \\\n",
       "0  Kerin O’Keefe          @kerinokeefe  Nicosia 2013 Vulkà Bianco  (Etna)   \n",
       "\n",
       "       variety   winery  year  \n",
       "0  White Blend  Nicosia  2013  "
      ]
     },
     "execution_count": 6,
     "metadata": {},
     "output_type": "execute_result"
    }
   ],
   "source": [
    "#adding the new list to the existing DataFrame. \n",
    "\n",
    "edited_csv_file = original_csv_file\n",
    "edited_csv_file[\"year\"] = year_list\n",
    "print(f'Total number of wine review is: {len(edited_csv_file[\"title\"])}.')\n",
    "edited_csv_file.head(1)\n"
   ]
  },
  {
   "cell_type": "code",
   "execution_count": 6,
   "metadata": {},
   "outputs": [
    {
     "name": "stdout",
     "output_type": "stream",
     "text": [
      "Total Number of Wine Reviews for original data frame is: 129971.\n",
      "Total Number of Wine Reviews for dataframe with empty Price and year removed is: 116802.\n",
      "Total Number of Wine Reviews for dataframe after duplicates removed is: 107734.\n"
     ]
    }
   ],
   "source": [
    "#cleaning data\n",
    "\n",
    "#1. Renaming the columns\n",
    "df = edited_csv_file.rename(columns={\"Unnamed: 0\": \"Index\", \"country\": \"Country\", \"description\":\"Description\",\n",
    "                                       \"designation\": \"Designation\", \"points\":\"Grade\", \"province\": \"Province\",\n",
    "                                        \"region_1\": \"Region\",\n",
    "                                        \"taster_name\": \"Taster\", \"taster_twitter_handle\": \"Taster_Twitter\",\n",
    "                                        \"title\": \"Title\", \"variety\": \"Variety\", \"winery\": \"Winery\", \"year\":\"Year\",\n",
    "                                        \"price\": \"Price\"\n",
    "                                       })\n",
    "#2. Dropping designation, and region_2\n",
    "df = df[[\"Index\", \"Title\", \"Variety\", \"Year\", \"Price\", \"Grade\", \"Winery\", \"Province\", \"Region\", \"Country\", \n",
    "         \"Taster\", \"Taster_Twitter\", \"Description\"]]\n",
    "\n",
    "\n",
    "#3. Removing all wines that do not have year assigned\n",
    "df = df.loc[df[\"Year\"]!= \"N/A\"]\n",
    "\n",
    "\n",
    "#4. Removing all wines that do not have Price tags\n",
    "df = df.fillna(\"N/A\")\n",
    "df = df.loc[df[\"Price\"] != \"N/A\"]\n",
    "\n",
    "\n",
    "#4. Removing Duplicates, if the same Taster reviewed the same wine more than once\n",
    "df_duplicates_dropped = df.drop_duplicates(subset=[\"Title\", \"Price\", \"Grade\", \"Taster\", \"Description\"], keep='first', inplace=False)\n",
    "\n",
    "#Summary\n",
    "print(f'Total Number of Wine Reviews for original data frame is: {len(original_csv_file[\"description\"])}.')\n",
    "print(f'Total Number of Wine Reviews for dataframe with empty Price and year removed is: {len(df[\"Index\"])}.')\n",
    "print(f'Total Number of Wine Reviews for dataframe after duplicates removed is: {len(df_duplicates_dropped[\"Index\"])}.')"
   ]
  },
  {
   "cell_type": "code",
   "execution_count": 7,
   "metadata": {},
   "outputs": [],
   "source": [
    "#Helpful function that can quickly summarize the new dataframe. \n",
    "\n",
    "def summarize(dataframe):\n",
    "    return pd.DataFrame({\"Total Number of Wine Reviews\" : [len(dataframe['Title'].unique())],\n",
    "                \"Total Number of Wineries\": [len(dataframe['Winery'].unique())],\n",
    "                \"Total Number of Provinces\": [len(dataframe['Province'].unique())],\n",
    "                \"Total Number of Countries\": [len(dataframe['Country'].unique())],\n",
    "                \"Total Number of Years\" : [len(dataframe['Year'].unique())],\n",
    "                \"Total Number of Tasters\": [len(dataframe['Taster'].unique())]})\n"
   ]
  },
  {
   "cell_type": "code",
   "execution_count": 8,
   "metadata": {},
   "outputs": [
    {
     "data": {
      "text/html": [
       "<div>\n",
       "<style scoped>\n",
       "    .dataframe tbody tr th:only-of-type {\n",
       "        vertical-align: middle;\n",
       "    }\n",
       "\n",
       "    .dataframe tbody tr th {\n",
       "        vertical-align: top;\n",
       "    }\n",
       "\n",
       "    .dataframe thead th {\n",
       "        text-align: right;\n",
       "    }\n",
       "</style>\n",
       "<table border=\"1\" class=\"dataframe\">\n",
       "  <thead>\n",
       "    <tr style=\"text-align: right;\">\n",
       "      <th></th>\n",
       "      <th>Total Number of Wine Reviews</th>\n",
       "      <th>Total Number of Wineries</th>\n",
       "      <th>Total Number of Provinces</th>\n",
       "      <th>Total Number of Countries</th>\n",
       "      <th>Total Number of Years</th>\n",
       "      <th>Total Number of Tasters</th>\n",
       "    </tr>\n",
       "  </thead>\n",
       "  <tbody>\n",
       "    <tr>\n",
       "      <th>0</th>\n",
       "      <td>107379</td>\n",
       "      <td>15475</td>\n",
       "      <td>416</td>\n",
       "      <td>43</td>\n",
       "      <td>41</td>\n",
       "      <td>20</td>\n",
       "    </tr>\n",
       "  </tbody>\n",
       "</table>\n",
       "</div>"
      ],
      "text/plain": [
       "   Total Number of Wine Reviews  Total Number of Wineries  \\\n",
       "0                        107379                     15475   \n",
       "\n",
       "   Total Number of Provinces  Total Number of Countries  \\\n",
       "0                        416                         43   \n",
       "\n",
       "   Total Number of Years  Total Number of Tasters  \n",
       "0                     41                       20  "
      ]
     },
     "execution_count": 8,
     "metadata": {},
     "output_type": "execute_result"
    }
   ],
   "source": [
    "#Renaming the DataFrame & Dropping the index column\n",
    "\n",
    "new_df = df_duplicates_dropped\n",
    "new_df = new_df.drop(columns=[\"Index\"])\n",
    "summarize(new_df)"
   ]
  },
  {
   "cell_type": "code",
   "execution_count": 9,
   "metadata": {},
   "outputs": [
    {
     "data": {
      "text/plain": [
       "US                        49371\n",
       "France                    15018\n",
       "Italy                     14742\n",
       "Spain                      5582\n",
       "Portugal                   4273\n",
       "Chile                      4106\n",
       "Argentina                  3462\n",
       "Austria                    2506\n",
       "Australia                  2102\n",
       "Germany                    1937\n",
       "New Zealand                1232\n",
       "South Africa               1180\n",
       "Israel                      452\n",
       "Greece                      406\n",
       "Canada                      223\n",
       "Bulgaria                    132\n",
       "Hungary                     126\n",
       "Romania                     102\n",
       "Uruguay                      97\n",
       "Turkey                       81\n",
       "Georgia                      72\n",
       "Slovenia                     69\n",
       "Mexico                       68\n",
       "Croatia                      67\n",
       "N/A                          55\n",
       "Moldova                      54\n",
       "England                      47\n",
       "Brazil                       35\n",
       "Lebanon                      32\n",
       "Morocco                      24\n",
       "Peru                         16\n",
       "Macedonia                    11\n",
       "Czech Republic               10\n",
       "Cyprus                        9\n",
       "India                         8\n",
       "Serbia                        8\n",
       "Switzerland                   6\n",
       "Ukraine                       5\n",
       "Luxembourg                    2\n",
       "Armenia                       2\n",
       "Bosnia and Herzegovina        2\n",
       "China                         1\n",
       "Slovakia                      1\n",
       "Name: Country, dtype: int64"
      ]
     },
     "execution_count": 9,
     "metadata": {},
     "output_type": "execute_result"
    }
   ],
   "source": [
    "#Compiling the list of Countries. \n",
    "\n",
    "list_of_countries = new_df[\"Country\"].value_counts()\n",
    "\n",
    "list_of_countries"
   ]
  },
  {
   "cell_type": "code",
   "execution_count": 10,
   "metadata": {},
   "outputs": [
    {
     "name": "stdout",
     "output_type": "stream",
     "text": [
      "['Israel', 'Greece', 'Canada', 'Bulgaria', 'Hungary', 'Romania', 'Uruguay', 'Turkey', 'Georgia', 'Slovenia', 'Mexico', 'Croatia', 'N/A', 'Moldova', 'England', 'Brazil', 'Lebanon', 'Morocco', 'Peru', 'Macedonia', 'Czech Republic', 'Cyprus', 'India', 'Serbia', 'Switzerland', 'Ukraine', 'Luxembourg', 'Armenia', 'Bosnia and Herzegovina', 'China', 'Slovakia']\n"
     ]
    }
   ],
   "source": [
    "#Sorting countries that have less than 1,000 wine reviews in the dataset\n",
    "\n",
    "low_count_countries = []\n",
    "    \n",
    "for i, v in list_of_countries.items():\n",
    "    if v < 1000:\n",
    "        low_count_countries.append(i)\n",
    "        \n",
    "print(low_count_countries)"
   ]
  },
  {
   "cell_type": "code",
   "execution_count": 11,
   "metadata": {},
   "outputs": [
    {
     "data": {
      "text/html": [
       "<div>\n",
       "<style scoped>\n",
       "    .dataframe tbody tr th:only-of-type {\n",
       "        vertical-align: middle;\n",
       "    }\n",
       "\n",
       "    .dataframe tbody tr th {\n",
       "        vertical-align: top;\n",
       "    }\n",
       "\n",
       "    .dataframe thead th {\n",
       "        text-align: right;\n",
       "    }\n",
       "</style>\n",
       "<table border=\"1\" class=\"dataframe\">\n",
       "  <thead>\n",
       "    <tr style=\"text-align: right;\">\n",
       "      <th></th>\n",
       "      <th>Total Number of Wine Reviews</th>\n",
       "      <th>Total Number of Wineries</th>\n",
       "      <th>Total Number of Provinces</th>\n",
       "      <th>Total Number of Countries</th>\n",
       "      <th>Total Number of Years</th>\n",
       "      <th>Total Number of Tasters</th>\n",
       "    </tr>\n",
       "  </thead>\n",
       "  <tbody>\n",
       "    <tr>\n",
       "      <th>0</th>\n",
       "      <td>105159</td>\n",
       "      <td>15000</td>\n",
       "      <td>240</td>\n",
       "      <td>12</td>\n",
       "      <td>41</td>\n",
       "      <td>18</td>\n",
       "    </tr>\n",
       "  </tbody>\n",
       "</table>\n",
       "</div>"
      ],
      "text/plain": [
       "   Total Number of Wine Reviews  Total Number of Wineries  \\\n",
       "0                        105159                     15000   \n",
       "\n",
       "   Total Number of Provinces  Total Number of Countries  \\\n",
       "0                        240                         12   \n",
       "\n",
       "   Total Number of Years  Total Number of Tasters  \n",
       "0                     41                       18  "
      ]
     },
     "execution_count": 11,
     "metadata": {},
     "output_type": "execute_result"
    }
   ],
   "source": [
    "#Dropping rows from the bottom countries from the dataframe\n",
    "\n",
    "for i in range(0, len(low_count_countries)):\n",
    "    new_df = new_df.loc[new_df[\"Country\"]!= low_count_countries[i]]\n",
    "\n",
    "summarize(new_df)"
   ]
  },
  {
   "cell_type": "code",
   "execution_count": 12,
   "metadata": {},
   "outputs": [
    {
     "name": "stdout",
     "output_type": "stream",
     "text": [
      "['US', 'France', 'Italy', 'Spain', 'Portugal', 'Chile', 'Argentina', 'Austria', 'Australia', 'Germany', 'New Zealand', 'South Africa']\n"
     ]
    }
   ],
   "source": [
    "#Verifying the list of remaining countries\n",
    "\n",
    "list_of_countries = new_df[\"Country\"].value_counts()\n",
    "\n",
    "remaining_countries = []\n",
    "    \n",
    "for i, v in list_of_countries.items():\n",
    "    remaining_countries.append(i)\n",
    "        \n",
    "print(remaining_countries)"
   ]
  },
  {
   "cell_type": "code",
   "execution_count": 13,
   "metadata": {},
   "outputs": [
    {
     "data": {
      "text/plain": [
       "2013    13434\n",
       "2012    13152\n",
       "2014    13120\n",
       "2011    10266\n",
       "2010    10093\n",
       "2015     8382\n",
       "2009     8314\n",
       "2008     6228\n",
       "2007     6077\n",
       "2006     4892\n",
       "2005     3131\n",
       "2016     3124\n",
       "2004     1512\n",
       "2000      722\n",
       "2001      653\n",
       "1999      608\n",
       "1998      533\n",
       "2003      464\n",
       "2002      318\n",
       "1997      294\n",
       "1996       59\n",
       "1995       45\n",
       "1994       23\n",
       "1992       14\n",
       "2017        9\n",
       "1989        6\n",
       "1990        5\n",
       "1988        5\n",
       "1985        4\n",
       "1991        4\n",
       "1986        3\n",
       "1993        3\n",
       "1987        2\n",
       "1983        2\n",
       "1978        2\n",
       "1980        2\n",
       "1984        2\n",
       "1982        1\n",
       "1973        1\n",
       "1974        1\n",
       "1976        1\n",
       "Name: Year, dtype: int64"
      ]
     },
     "execution_count": 13,
     "metadata": {},
     "output_type": "execute_result"
    }
   ],
   "source": [
    "#Compiling the list of Countries. \n",
    "\n",
    "list_of_years = new_df[\"Year\"].value_counts()\n",
    "\n",
    "list_of_years"
   ]
  },
  {
   "cell_type": "code",
   "execution_count": 14,
   "metadata": {},
   "outputs": [
    {
     "name": "stdout",
     "output_type": "stream",
     "text": [
      "[2017, 2003, 2002, 2001, 2000, 1999, 1998, 1997, 1996, 1995, 1994, 1993, 1992, 1991, 1990, 1989, 1988, 1987, 1986, 1985, 1984, 1983, 1982, 1980, 1978, 1976, 1974, 1973]\n"
     ]
    }
   ],
   "source": [
    "#Sorting Years that have less than 1,500 wine reviews in the dataset\n",
    "\n",
    "low_count_years = []\n",
    "    \n",
    "for i, v in list_of_years.items():\n",
    "    if v < 1500:\n",
    "        low_count_years.append(i)\n",
    "\n",
    "low_count_years.sort(reverse=True)\n",
    "print(low_count_years)"
   ]
  },
  {
   "cell_type": "code",
   "execution_count": 15,
   "metadata": {},
   "outputs": [
    {
     "data": {
      "text/html": [
       "<div>\n",
       "<style scoped>\n",
       "    .dataframe tbody tr th:only-of-type {\n",
       "        vertical-align: middle;\n",
       "    }\n",
       "\n",
       "    .dataframe tbody tr th {\n",
       "        vertical-align: top;\n",
       "    }\n",
       "\n",
       "    .dataframe thead th {\n",
       "        text-align: right;\n",
       "    }\n",
       "</style>\n",
       "<table border=\"1\" class=\"dataframe\">\n",
       "  <thead>\n",
       "    <tr style=\"text-align: right;\">\n",
       "      <th></th>\n",
       "      <th>Total Number of Wine Reviews</th>\n",
       "      <th>Total Number of Wineries</th>\n",
       "      <th>Total Number of Provinces</th>\n",
       "      <th>Total Number of Countries</th>\n",
       "      <th>Total Number of Years</th>\n",
       "      <th>Total Number of Tasters</th>\n",
       "    </tr>\n",
       "  </thead>\n",
       "  <tbody>\n",
       "    <tr>\n",
       "      <th>0</th>\n",
       "      <td>101379</td>\n",
       "      <td>14503</td>\n",
       "      <td>232</td>\n",
       "      <td>12</td>\n",
       "      <td>13</td>\n",
       "      <td>18</td>\n",
       "    </tr>\n",
       "  </tbody>\n",
       "</table>\n",
       "</div>"
      ],
      "text/plain": [
       "   Total Number of Wine Reviews  Total Number of Wineries  \\\n",
       "0                        101379                     14503   \n",
       "\n",
       "   Total Number of Provinces  Total Number of Countries  \\\n",
       "0                        232                         12   \n",
       "\n",
       "   Total Number of Years  Total Number of Tasters  \n",
       "0                     13                       18  "
      ]
     },
     "execution_count": 15,
     "metadata": {},
     "output_type": "execute_result"
    }
   ],
   "source": [
    "#Dropping rows from years that have less than 1500 wine reviews from the dataframe\n",
    "\n",
    "for i in range(0, len(low_count_years)):\n",
    "    new_df = new_df.loc[new_df[\"Year\"]!= low_count_years[i]]\n",
    "\n",
    "summarize(new_df)"
   ]
  },
  {
   "cell_type": "code",
   "execution_count": 16,
   "metadata": {},
   "outputs": [
    {
     "name": "stdout",
     "output_type": "stream",
     "text": [
      "[2016, 2015, 2014, 2013, 2012, 2011, 2010, 2009, 2008, 2007, 2006, 2005, 2004]\n"
     ]
    }
   ],
   "source": [
    "#Verifying the list of remaining Years\n",
    "\n",
    "list_of_years = new_df[\"Year\"].value_counts()\n",
    "\n",
    "remaining_years = []\n",
    "    \n",
    "for i, v in list_of_years.items():\n",
    "    remaining_years.append(i)\n",
    "        \n",
    "remaining_years.sort(reverse=True)\n",
    "print(remaining_years)"
   ]
  },
  {
   "cell_type": "code",
   "execution_count": 17,
   "metadata": {},
   "outputs": [],
   "source": [
    "#exporting to the CSV file\n",
    "\n",
    "new_df.to_csv(\"winedata_edited.csv\")"
   ]
  }
 ],
 "metadata": {
  "kernelspec": {
   "display_name": "Python 3",
   "language": "python",
   "name": "python3"
  },
  "language_info": {
   "codemirror_mode": {
    "name": "ipython",
    "version": 3
   },
   "file_extension": ".py",
   "mimetype": "text/x-python",
   "name": "python",
   "nbconvert_exporter": "python",
   "pygments_lexer": "ipython3",
   "version": "3.7.0"
  }
 },
 "nbformat": 4,
 "nbformat_minor": 2
}
