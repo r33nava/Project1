{
 "cells": [
  {
   "cell_type": "code",
   "execution_count": 1,
   "metadata": {},
   "outputs": [
    {
     "data": {
      "application/vnd.jupyter.widget-view+json": {
       "model_id": "2488cf000ac043d39718afa52bf9c590",
       "version_major": 2,
       "version_minor": 0
      },
      "text/plain": [
       "Figure(layout=FigureLayout(height='420px'))"
      ]
     },
     "metadata": {},
     "output_type": "display_data"
    }
   ],
   "source": [
    "# Dependencies\n",
    "import requests\n",
    "import json\n",
    "import pandas as pd\n",
    "\n",
    "import gmaps\n",
    "import gmaps.geojson_geometries\n",
    "import numpy as np\n",
    "\n",
    "from pprint import pprint\n",
    "\n",
    "# Google developer API key\n",
    "import sys\n",
    "sys.path.append('../..')\n",
    "from config import gkey\n",
    "\n",
    "\n",
    "# Configure gmaps with API key\n",
    "gmaps.configure(api_key=gkey)\n",
    "\n",
    "\n",
    "#geojson_data = gmaps.geojson_geometries.load_geometry(\"us-counties\")\n",
    "geojson_data = gmaps.geojson_geometries.load_geometry(\"us-states\")\n",
    "\n",
    "fig = gmaps.figure()\n",
    "\n",
    "geo_layer = gmaps.geojson_layer(geojson_data)\n",
    "fig.add_layer(geo_layer)\n",
    "fig"
   ]
  },
  {
   "cell_type": "code",
   "execution_count": null,
   "metadata": {},
   "outputs": [],
   "source": []
  }
 ],
 "metadata": {
  "kernelspec": {
   "display_name": "Python 3",
   "language": "python",
   "name": "python3"
  },
  "language_info": {
   "codemirror_mode": {
    "name": "ipython",
    "version": 3
   },
   "file_extension": ".py",
   "mimetype": "text/x-python",
   "name": "python",
   "nbconvert_exporter": "python",
   "pygments_lexer": "ipython3",
   "version": "3.7.0"
  }
 },
 "nbformat": 4,
 "nbformat_minor": 2
}
