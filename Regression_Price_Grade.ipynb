{
 "cells": [
  {
   "cell_type": "code",
   "execution_count": 1,
   "metadata": {},
   "outputs": [],
   "source": [
    "# Dependencies\n",
    "from matplotlib import pyplot as plt\n",
    "from scipy.stats import linregress\n",
    "import numpy as np\n",
    "import pandas as pd"
   ]
  },
  {
   "cell_type": "code",
   "execution_count": 2,
   "metadata": {},
   "outputs": [
    {
     "data": {
      "text/html": [
       "<div>\n",
       "<style scoped>\n",
       "    .dataframe tbody tr th:only-of-type {\n",
       "        vertical-align: middle;\n",
       "    }\n",
       "\n",
       "    .dataframe tbody tr th {\n",
       "        vertical-align: top;\n",
       "    }\n",
       "\n",
       "    .dataframe thead th {\n",
       "        text-align: right;\n",
       "    }\n",
       "</style>\n",
       "<table border=\"1\" class=\"dataframe\">\n",
       "  <thead>\n",
       "    <tr style=\"text-align: right;\">\n",
       "      <th></th>\n",
       "      <th>Unnamed: 0</th>\n",
       "      <th>Unnamed: 0.1</th>\n",
       "      <th>Title</th>\n",
       "      <th>Variety</th>\n",
       "      <th>Year</th>\n",
       "      <th>Price</th>\n",
       "      <th>Grade</th>\n",
       "      <th>Winery</th>\n",
       "      <th>Province</th>\n",
       "      <th>Region</th>\n",
       "      <th>Country</th>\n",
       "      <th>Taster</th>\n",
       "      <th>Taster_Twitter</th>\n",
       "      <th>Description</th>\n",
       "      <th>Latitude</th>\n",
       "      <th>Longitude</th>\n",
       "    </tr>\n",
       "  </thead>\n",
       "  <tbody>\n",
       "    <tr>\n",
       "      <th>0</th>\n",
       "      <td>0</td>\n",
       "      <td>1</td>\n",
       "      <td>Quinta dos Avidagos 2011 Avidagos Red (Douro)</td>\n",
       "      <td>Portuguese Red</td>\n",
       "      <td>2011</td>\n",
       "      <td>15</td>\n",
       "      <td>87</td>\n",
       "      <td>Quinta dos Avidagos</td>\n",
       "      <td>Douro</td>\n",
       "      <td>NaN</td>\n",
       "      <td>Portugal</td>\n",
       "      <td>Roger Voss</td>\n",
       "      <td>@vossroger</td>\n",
       "      <td>This is ripe and fruity, a wine that is smooth...</td>\n",
       "      <td>41.512019</td>\n",
       "      <td>-5.492255</td>\n",
       "    </tr>\n",
       "    <tr>\n",
       "      <th>1</th>\n",
       "      <td>1</td>\n",
       "      <td>608</td>\n",
       "      <td>Quinta do Portal 2012 Verdelho and Sauvignon B...</td>\n",
       "      <td>Portuguese White</td>\n",
       "      <td>2012</td>\n",
       "      <td>15</td>\n",
       "      <td>87</td>\n",
       "      <td>Quinta do Portal</td>\n",
       "      <td>Douro</td>\n",
       "      <td>NaN</td>\n",
       "      <td>Portugal</td>\n",
       "      <td>Roger Voss</td>\n",
       "      <td>@vossroger</td>\n",
       "      <td>Verdelho and Sauvignon Blanc hangs together ea...</td>\n",
       "      <td>41.512019</td>\n",
       "      <td>-5.492255</td>\n",
       "    </tr>\n",
       "  </tbody>\n",
       "</table>\n",
       "</div>"
      ],
      "text/plain": [
       "   Unnamed: 0  Unnamed: 0.1  \\\n",
       "0           0             1   \n",
       "1           1           608   \n",
       "\n",
       "                                               Title           Variety  Year  \\\n",
       "0      Quinta dos Avidagos 2011 Avidagos Red (Douro)    Portuguese Red  2011   \n",
       "1  Quinta do Portal 2012 Verdelho and Sauvignon B...  Portuguese White  2012   \n",
       "\n",
       "   Price  Grade               Winery Province Region   Country      Taster  \\\n",
       "0     15     87  Quinta dos Avidagos    Douro    NaN  Portugal  Roger Voss   \n",
       "1     15     87     Quinta do Portal    Douro    NaN  Portugal  Roger Voss   \n",
       "\n",
       "  Taster_Twitter                                        Description  \\\n",
       "0     @vossroger  This is ripe and fruity, a wine that is smooth...   \n",
       "1     @vossroger  Verdelho and Sauvignon Blanc hangs together ea...   \n",
       "\n",
       "    Latitude  Longitude  \n",
       "0  41.512019  -5.492255  \n",
       "1  41.512019  -5.492255  "
      ]
     },
     "execution_count": 2,
     "metadata": {},
     "output_type": "execute_result"
    }
   ],
   "source": [
    "#Load Data\n",
    "df = pd.read_csv(\"winedata_coord.csv\")\n",
    "df.head(2)"
   ]
  },
  {
   "cell_type": "code",
   "execution_count": 3,
   "metadata": {},
   "outputs": [],
   "source": [
    "#Create dataframes to analyze numbers\n",
    "grade =df[\"Grade\"]\n",
    "price = df[\"Price\"]"
   ]
  },
  {
   "cell_type": "code",
   "execution_count": 4,
   "metadata": {},
   "outputs": [
    {
     "name": "stdout",
     "output_type": "stream",
     "text": [
      "5.633149088269166\n",
      "-462.5832129851231\n",
      "0.4134061340751385\n",
      "0.0\n",
      "0.038972115832169744\n"
     ]
    }
   ],
   "source": [
    "# Set line\n",
    "# Remember that the underscore stores variables that are throwaway\n",
    "# Now what if we wanted to keep them? What are they? Can someone tell us?\n",
    "(slope, intercept, rvalue , pvalue, stderr) = linregress(grade, price)\n",
    "#(slope, intercept, _ , _, _) = linregress(x_axis, fake)\n",
    "\n",
    "fit = slope * grade + intercept\n",
    "\n",
    "print(slope)\n",
    "print(intercept)\n",
    "print(rvalue)\n",
    "print(pvalue)\n",
    "print(stderr)"
   ]
  },
  {
   "cell_type": "code",
   "execution_count": 5,
   "metadata": {},
   "outputs": [
    {
     "data": {
      "image/png": "[encoded data removed]",
      "text/plain": [
       "<Figure size 432x288 with 1 Axes>"
      ]
     },
     "metadata": {
      "needs_background": "light"
     },
     "output_type": "display_data"
    }
   ],
   "source": [
    "# Plot data\n",
    "fig, ax = plt.subplots()\n",
    "\n",
    "fig.suptitle(\"Wine Data\", fontsize=16, fontweight=\"bold\")\n",
    "\n",
    "ax.set_xlim(80, 100)\n",
    "ax.set_ylim(4, 3300)\n",
    "\n",
    "ax.set_xlabel(\"Wine Grade\")\n",
    "ax.set_ylabel(\"Wine Price\")\n",
    "\n",
    "ax.plot(grade, price, linewidth=0, marker='o')\n",
    "ax.plot(grade, fit, 'r--')\n",
    "\n",
    "# Save our graph and show the grap\n",
    "plt.tight_layout()\n",
    "plt.savefig(\"WineData.png\")\n",
    "plt.show()"
   ]
  },
  {
   "cell_type": "code",
   "execution_count": null,
   "metadata": {},
   "outputs": [],
   "source": []
  }
 ],
 "metadata": {
  "kernelspec": {
   "display_name": "Python 3",
   "language": "python",
   "name": "python3"
  },
  "language_info": {
   "codemirror_mode": {
    "name": "ipython",
    "version": 3
   },
   "file_extension": ".py",
   "mimetype": "text/x-python",
   "name": "python",
   "nbconvert_exporter": "python",
   "pygments_lexer": "ipython3",
   "version": "3.7.0"
  }
 },
 "nbformat": 4,
 "nbformat_minor": 2
}
