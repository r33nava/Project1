{
 "cells": [
  {
   "cell_type": "markdown",
   "metadata": {},
   "source": [
    "## Google Geocoding\n",
    "\n",
    "* Now that everyone has an API Key (Congratulations!), it is time to start using it!\n",
    "\n",
    "* You can utilize the Google Maps Geocoding API to turn addresses into latitudinal and longitudinal coordinates.\n",
    "\n",
    "  * This process of converting an address to coordinates is called **geocoding**.\n",
    "\n",
    "  * Since many APIs only understand locations formatted in terms of latitude/longitude, geocoding will be very valuable in translating addresses into data that APIs - like the Google Places API - can understand.\n",
    "\n",
    "    * Google's API is not free and if credit card information is provided, Google will charge past a certain usage point. **It is a good idea to avoid pushing your API key to github by using adding the `config.py` to their `.gitignore` file or using environment variables.**"
   ]
  },
  {
   "cell_type": "code",
   "execution_count": null,
   "metadata": {},
   "outputs": [],
   "source": [
    "# Dependencies\n",
    "import requests\n",
    "import json\n",
    "import pandas as pd\n",
    "\n",
    "from pprint import pprint\n",
    "\n",
    "# Google developer API key\n",
    "import sys\n",
    "sys.path.append('../..')\n",
    "from config import gkey\n",
    "from config import owm_api\n",
    "\n",
    "\n",
    "file = pd.read_csv(\"winedata.csv\")\n",
    "\n",
    "file.head()"
   ]
  },
  {
   "cell_type": "code",
   "execution_count": null,
   "metadata": {},
   "outputs": [],
   "source": [
    "file[\"winery name\"] = file[\"winery\"] + \" Winery\"\n",
    "file.head()"
   ]
  },
  {
   "cell_type": "code",
   "execution_count": null,
   "metadata": {},
   "outputs": [],
   "source": [
    "just_brazil = file.loc[file[\"country\"]==\"Brazil\"]"
   ]
  },
  {
   "cell_type": "code",
   "execution_count": null,
   "metadata": {},
   "outputs": [],
   "source": [
    "just_brazil"
   ]
  },
  {
   "cell_type": "code",
   "execution_count": null,
   "metadata": {},
   "outputs": [],
   "source": [
    "# Target location\n",
    "\n",
    "winery_response =[]\n",
    "\n",
    "\n",
    "for winery in just_brazil[\"winery name\"]:\n",
    "\n",
    "    target_location = winery\n",
    "    \n",
    "    # Build the endpoint URL\n",
    "    target_url = ('https://maps.googleapis.com/maps/api/geocode/json?'\n",
    "    'address={0}&key={1}').format(target_location, gkey)\n",
    "    \n",
    "    # Run a request to endpoint and convert result to json\n",
    "    geo_data = requests.get(target_url).json()\n",
    "   \n",
    "    winery_response.append(geo_data)        "
   ]
  },
  {
   "cell_type": "code",
   "execution_count": null,
   "metadata": {},
   "outputs": [],
   "source": [
    "# Collect and store latitude and longitude for each winery\n",
    "#winery_list = []\n",
    "lat = []\n",
    "lng = []\n",
    "\n",
    "i=0\n",
    "\n",
    "# Loop through wineries and append lists\n",
    "for w in winery_response:\n",
    "    try:\n",
    "        latitude = winery_response[i][\"results\"][0][\"geometry\"][\"location\"][\"lat\"]\n",
    "        longitude = winery_response[i][\"results\"][0][\"geometry\"][\"location\"][\"lng\"]\n",
    "        \n",
    "  #      winery_list.append(w)\n",
    "        lat.append(latitude)\n",
    "        lng.append(longitude)\n",
    "        \n",
    "        i = i+1\n",
    "    except:\n",
    "        lat.append(\"lat error\")\n",
    "        lng.append(\"lng error\")\n",
    "    \n",
    "        i = i+1    "
   ]
  },
  {
   "cell_type": "code",
   "execution_count": null,
   "metadata": {},
   "outputs": [],
   "source": [
    "# Add coordinates to dataframe\n",
    "just_brazil[\"latitude\"] = lat\n",
    "just_brazil[\"longitude\"] = lng"
   ]
  },
  {
   "cell_type": "code",
   "execution_count": null,
   "metadata": {},
   "outputs": [],
   "source": [
    "# Drop rows without location data\n",
    "#just_brazil = just_brazil.loc[just_brazil[\"latitude\"] != \"lat error\"]"
   ]
  },
  {
   "cell_type": "code",
   "execution_count": null,
   "metadata": {},
   "outputs": [],
   "source": [
    "import gmaps\n",
    "import numpy as np\n",
    "\n",
    "import time\n",
    "\n",
    "# Configure gmaps with API key\n",
    "gmaps.configure(api_key=gkey)\n",
    "\n",
    "\n",
    "# Store 'Lat' and 'Lng' into  locations \n",
    "locations = just_brazil[[\"latitude\", \"longitude\"]].astype(float)"
   ]
  },
  {
   "cell_type": "code",
   "execution_count": 90,
   "metadata": {
    "scrolled": true
   },
   "outputs": [
    {
     "data": {
      "application/vnd.jupyter.widget-view+json": {
       "model_id": "863da1f7c5124886aa81d89326377ce3",
       "version_major": 2,
       "version_minor": 0
      },
      "text/plain": [
       "Figure(layout=FigureLayout(height='420px'))"
      ]
     },
     "metadata": {},
     "output_type": "display_data"
    }
   ],
   "source": [
    "# Create winery symbol layer\n",
    "winery_layer = gmaps.marker_layer(\n",
    "    locations\n",
    ")\n",
    "\n",
    "\n",
    "fig = gmaps.figure()\n",
    "fig.add_layer(winery_layer)\n",
    "\n",
    "fig"
   ]
  },
  {
   "cell_type": "code",
   "execution_count": null,
   "metadata": {},
   "outputs": [],
   "source": []
  }
 ],
 "metadata": {
  "anaconda-cloud": {},
  "kernelspec": {
   "display_name": "Python 3",
   "language": "python",
   "name": "python3"
  },
  "language_info": {
   "codemirror_mode": {
    "name": "ipython",
    "version": 3
   },
   "file_extension": ".py",
   "mimetype": "text/x-python",
   "name": "python",
   "nbconvert_exporter": "python",
   "pygments_lexer": "ipython3",
   "version": "3.7.0"
  }
 },
 "nbformat": 4,
 "nbformat_minor": 2
}
